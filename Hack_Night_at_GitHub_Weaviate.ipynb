{
  "nbformat": 4,
  "nbformat_minor": 0,
  "metadata": {
    "colab": {
      "provenance": []
    },
    "kernelspec": {
      "name": "python3",
      "display_name": "Python 3"
    },
    "language_info": {
      "name": "python"
    }
  },
  "cells": [
    {
      "cell_type": "markdown",
      "source": [
        "# Semantic Search with Weaviate's Query Agent, LlamaIndex and dltHub\n",
        "\n",
        "##Pre-requisites\n",
        "For this workshop you will need:\n",
        "\n",
        "* A (free) Weaviate Cloud (WCD) account\n",
        "* A cluster set up in WCD\n",
        "* The REST endpoint for your cluster\n",
        "* Your cluster Admin API key\n",
        "* An OpenAI API key\n",
        "\n",
        "In this workshop we will create a Retrieval Augmented Generation system leveraging Weaviate's Query Agent, LlamaIndex and dltHub.\n",
        "\n",
        "\n",
        "We are utilizing LlamaIndex to transform full-text PDF research articles into manageable, structured text chunks enhanced with metadata and section detection logic. As an added feature, dlt can be used in the chunking process to create a simple pipeline that automatically tracks the processing history of each PDF (success/failure, timestamps, chunk counts) in a local database, giving you a queryable audit trail and the ability to resume failed runs - essentially adding data pipeline monitoring and reliability features that would otherwise require manual implementation. These chunks are then uploaded into a Weaviate vector database to support semantic search over our collection of space medicine literature using natural languge leveraging Weaviate's query agent.\n",
        "\n",
        "### Link to slide deck\n",
        "https://docs.google.com/presentation/d/1QIYfhHk3OguKGOs2GH7f2yjvneHXo1ObtXqptkV0ur8/edit?usp=sharing\n",
        "\n",
        "### Link to repo and instructions for copllecting REST endpoint and API keys\n",
        "https://github.com/saskinosie/Hack-Night-at-GitHub\n",
        "\n",
        "### Link to G-Drive folder with research articles\n",
        " https://drive.google.com/drive/folders/18iu8lGJ0SEZcISkUqc20pecGrb61Mo7s?usp=drive_link"
      ],
      "metadata": {
        "id": "jveaX8o_L8xq"
      }
    },
    {
      "cell_type": "code",
      "execution_count": 1,
      "metadata": {
        "id": "KWxTOKVNAc4k",
        "outputId": "1c6f6a80-1f6d-46dc-9543-cfaef3b15ee9",
        "colab": {
          "base_uri": "https://localhost:8080/"
        }
      },
      "outputs": [
        {
          "output_type": "stream",
          "name": "stdout",
          "text": [
            "\u001b[2K   \u001b[90m━━━━━━━━━━━━━━━━━━━━━━━━━━━━━━━━━━━━━━━━\u001b[0m \u001b[32m24.1/24.1 MB\u001b[0m \u001b[31m72.4 MB/s\u001b[0m eta \u001b[36m0:00:00\u001b[0m\n",
            "\u001b[2K   \u001b[90m━━━━━━━━━━━━━━━━━━━━━━━━━━━━━━━━━━━━━━━━\u001b[0m \u001b[32m437.0/437.0 kB\u001b[0m \u001b[31m24.0 MB/s\u001b[0m eta \u001b[36m0:00:00\u001b[0m\n",
            "\u001b[2K   \u001b[90m━━━━━━━━━━━━━━━━━━━━━━━━━━━━━━━━━━━━━━━━\u001b[0m \u001b[32m43.5/43.5 kB\u001b[0m \u001b[31m2.0 MB/s\u001b[0m eta \u001b[36m0:00:00\u001b[0m\n",
            "\u001b[2K   \u001b[90m━━━━━━━━━━━━━━━━━━━━━━━━━━━━━━━━━━━━━━━━\u001b[0m \u001b[32m926.0/926.0 kB\u001b[0m \u001b[31m12.1 MB/s\u001b[0m eta \u001b[36m0:00:00\u001b[0m\n",
            "\u001b[2K   \u001b[90m━━━━━━━━━━━━━━━━━━━━━━━━━━━━━━━━━━━━━━━━\u001b[0m \u001b[32m223.8/223.8 kB\u001b[0m \u001b[31m15.8 MB/s\u001b[0m eta \u001b[36m0:00:00\u001b[0m\n",
            "\u001b[2K   \u001b[90m━━━━━━━━━━━━━━━━━━━━━━━━━━━━━━━━━━━━━━━━\u001b[0m \u001b[32m2.5/2.5 MB\u001b[0m \u001b[31m42.8 MB/s\u001b[0m eta \u001b[36m0:00:00\u001b[0m\n",
            "\u001b[2K   \u001b[90m━━━━━━━━━━━━━━━━━━━━━━━━━━━━━━━━━━━━━━━━\u001b[0m \u001b[32m7.7/7.7 MB\u001b[0m \u001b[31m36.4 MB/s\u001b[0m eta \u001b[36m0:00:00\u001b[0m\n",
            "\u001b[2K   \u001b[90m━━━━━━━━━━━━━━━━━━━━━━━━━━━━━━━━━━━━━━━━\u001b[0m \u001b[32m40.8/40.8 kB\u001b[0m \u001b[31m1.9 MB/s\u001b[0m eta \u001b[36m0:00:00\u001b[0m\n",
            "\u001b[2K   \u001b[90m━━━━━━━━━━━━━━━━━━━━━━━━━━━━━━━━━━━━━━━━\u001b[0m \u001b[32m353.7/353.7 kB\u001b[0m \u001b[31m13.1 MB/s\u001b[0m eta \u001b[36m0:00:00\u001b[0m\n",
            "\u001b[2K   \u001b[90m━━━━━━━━━━━━━━━━━━━━━━━━━━━━━━━━━━━━━━━━\u001b[0m \u001b[32m265.9/265.9 kB\u001b[0m \u001b[31m11.3 MB/s\u001b[0m eta \u001b[36m0:00:00\u001b[0m\n",
            "\u001b[2K   \u001b[90m━━━━━━━━━━━━━━━━━━━━━━━━━━━━━━━━━━━━━━━━\u001b[0m \u001b[32m720.4/720.4 kB\u001b[0m \u001b[31m26.5 MB/s\u001b[0m eta \u001b[36m0:00:00\u001b[0m\n",
            "\u001b[2K   \u001b[90m━━━━━━━━━━━━━━━━━━━━━━━━━━━━━━━━━━━━━━━━\u001b[0m \u001b[32m303.4/303.4 kB\u001b[0m \u001b[31m13.3 MB/s\u001b[0m eta \u001b[36m0:00:00\u001b[0m\n",
            "\u001b[2K   \u001b[90m━━━━━━━━━━━━━━━━━━━━━━━━━━━━━━━━━━━━━━━━\u001b[0m \u001b[32m50.9/50.9 kB\u001b[0m \u001b[31m3.3 MB/s\u001b[0m eta \u001b[36m0:00:00\u001b[0m\n",
            "\u001b[2K   \u001b[90m━━━━━━━━━━━━━━━━━━━━━━━━━━━━━━━━━━━━━━━━\u001b[0m \u001b[32m129.3/129.3 kB\u001b[0m \u001b[31m9.2 MB/s\u001b[0m eta \u001b[36m0:00:00\u001b[0m\n",
            "\u001b[?25h"
          ]
        }
      ],
      "source": [
        "# Installs\n",
        "!pip install llama-index pymupdf weaviate-client weaviate-agents dlt -q\n"
      ]
    },
    {
      "cell_type": "code",
      "source": [
        "# Importing major libraries\n",
        "import fitz  # PyMuPDF\n",
        "import json\n",
        "import re\n",
        "import requests\n",
        "from llama_index.core import Document\n",
        "from llama_index.core.node_parser import HierarchicalNodeParser\n",
        "import weaviate"
      ],
      "metadata": {
        "id": "mxgSh8ZkFTcG"
      },
      "execution_count": 2,
      "outputs": []
    },
    {
      "cell_type": "code",
      "source": [
        "# Creating a variable that houses the links for our Space Medicine articles from Google Drive\n",
        "gdrive_links = [\n",
        "    \"https://drive.google.com/file/d/1bNX5nZTif8roMK1bFaJmHF6wxapi5YDg/view?usp=sharing\",\n",
        "    \"https://drive.google.com/file/d/1FZkvMOyTP_-kSIyx9VewaV9tP_XwpZXK/view?usp=drive_link\",\n",
        "    \"https://drive.google.com/file/d/1jfcCLHmAazvs7DnAhd3jS0LOb7qOctMc/view?usp=drive_link\",\n",
        "    \"https://drive.google.com/file/d/1K8D6VOe2aAX6tIfJWzF2-9zWbqH0C_wp/view?usp=drive_link\",\n",
        "    \"https://drive.google.com/file/d/12ee59tcUcxotC1NFfz0EaLNWAAqakKDk/view?usp=drive_link\",\n",
        "    \"https://drive.google.com/file/d/115LBMKIobYRdqKWqL2uR1VWoPS5zqoZq/view?usp=drive_link\",\n",
        "    \"https://drive.google.com/file/d/1CcjaMYUIQNJ2S4nFGHIh0hpkeG158-Ag/view?usp=drive_link\",\n",
        "    \"https://drive.google.com/file/d/1eR6rTQcYw_q4Lob2JFB2_cnND9U2VivA/view?usp=drive_link\",\n",
        "    \"https://drive.google.com/file/d/1Gw9UQGNIcDTLpCaamYm4WoeYqUVlKsAG/view?usp=drive_link\",\n",
        "    \"https://drive.google.com/file/d/1E961JtImN2eis_IxK5EZS3JaqhXkyhK8/view?usp=drive_link\",\n",
        "    \"https://drive.google.com/file/d/1G5xQ10Ijjhrnm_Uq_hl2OgXNaKERfB3G/view?usp=drive_link\",\n",
        "    \"https://drive.google.com/file/d/1u-nmLQIvBdcRomCo__yvoCCVNHV3AiKg/view?usp=drive_link\",\n",
        "    \"https://drive.google.com/file/d/1cfF_cRkvfaTw5BTpiMxalw0Bc-IdBBnO/view?usp=drive_link\",\n",
        "    \"https://drive.google.com/file/d/1WSMqabWY4pElGrQjVVkkaJ8NNEuP6T10/view?usp=drive_link\",\n",
        "    \"https://drive.google.com/file/d/11bCbFObW-51XE0lMS3sz5-VYvWsxctRm/view?usp=drive_link\",\n",
        "    \"https://drive.google.com/file/d/13AFfg8doORRytR3IXfTOmL1vpp6hsCuG/view?usp=drive_link\",\n",
        "    \"https://drive.google.com/file/d/1k8QYuAsyzkMTJA-KzPrOX2BToKmzSr3l/view?usp=drive_link\",\n",
        "    \"https://drive.google.com/file/d/1HQJ-WPOXE_CT4bVmuZ4LaZ5GKK8MIgXB/view?usp=sharing\",\n",
        "    \"https://drive.google.com/file/d/1sqeJmEmP-3eTTFgTbxTSmS69kiH-K46H/view?usp=sharing\"\n",
        "\n",
        "\n",
        "]"
      ],
      "metadata": {
        "id": "hn17StwIHzM4"
      },
      "execution_count": 3,
      "outputs": []
    },
    {
      "cell_type": "code",
      "source": [
        "# PDF wrangling function and chunking setup. This will get our pdfs in text format, split text into scetions based on article\n",
        "# organization and chunk using LlamaIndex\n",
        "\n",
        "def download_google_drive_pdf(share_url, output_folder=\"downloads\"):\n",
        "    os.makedirs(output_folder, exist_ok=True)\n",
        "    file_id_match = re.search(r\"/d/([^/]+)\", share_url)\n",
        "    if not file_id_match:\n",
        "        raise ValueError(f\"Invalid Google Drive URL: {share_url}\")\n",
        "    file_id = file_id_match.group(1)\n",
        "    download_url = f\"https://drive.google.com/uc?export=download&id={file_id}\"\n",
        "    response = requests.get(download_url)\n",
        "    pdf_path = os.path.join(output_folder, f\"{file_id}.pdf\")\n",
        "    with open(pdf_path, \"wb\") as f:\n",
        "        f.write(response.content)\n",
        "    return pdf_path\n",
        "\n",
        "def extract_text(filepath):\n",
        "    doc = fitz.open(filepath)\n",
        "    return \"\\n\".join(page.get_text(\"text\") for page in doc)\n",
        "\n",
        "def extract_title(text):\n",
        "    candidate_block = text[:1000]\n",
        "    lines = [line.strip() for line in candidate_block.split(\"\\n\") if line.strip()]\n",
        "    for i, line in enumerate(lines):\n",
        "        if line.lower() != line and len(line.split()) > 5 and not line.endswith(\":\") and i < 5:\n",
        "            return line\n",
        "    return \"Unknown Title\"\n",
        "\n",
        "def slugify(text):\n",
        "    text = text.lower()\n",
        "    text = re.sub(r\"[^\\w\\s-]\", \"\", text)\n",
        "    text = re.sub(r\"\\s+\", \"-\", text)\n",
        "    return text.strip(\"-\")\n",
        "\n",
        "# Search for section headings, if no Intro will assume first section is Intro\n",
        "def detect_section(text_chunk, chunk_index=0):\n",
        "    lowered = text_chunk.lower()\n",
        "    if \"introduction\" in lowered[:150] or chunk_index == 0:\n",
        "        return \"Introduction\"\n",
        "    elif \"methods\" in lowered[:150] or \"materials and methods\" in lowered[:150]:\n",
        "        return \"Methods\"\n",
        "    elif \"results\" in lowered[:150]:\n",
        "        return \"Results\"\n",
        "    elif \"discussion\" in lowered[:150]:\n",
        "        return \"Discussion\"\n",
        "    elif \"conclusion\" in lowered[:150]:\n",
        "        return \"Conclusion\"\n",
        "    else:\n",
        "        return \"Unknown\"\n",
        "\n",
        "def chunk_for_weaviate(text, title=None):\n",
        "    from llama_index.core.node_parser import HierarchicalNodeParser\n",
        "    from llama_index.core.text_splitter import SentenceSplitter\n",
        "\n",
        "    if not title:\n",
        "        title = extract_title(text)\n",
        "    slug = slugify(title)\n",
        "    document = Document(text=text, metadata={\"title\": title, \"slug\": slug})\n",
        "\n",
        "    # Create hierarchical parser directly without parameters\n",
        "    parser = HierarchicalNodeParser.from_defaults()\n",
        "\n",
        "    # Configure it after creation if needed\n",
        "    nodes = parser.get_nodes_from_documents([document])\n",
        "\n",
        "    # Further chunk the nodes if they're too large using SentenceSplitter\n",
        "    text_splitter = SentenceSplitter(chunk_size=512, chunk_overlap=50)\n",
        "    # Will create chunk size of 512 characters with 50 character overlap\n",
        "    smaller_nodes = []\n",
        "    for node in nodes:\n",
        "        split_texts = text_splitter.split_text(node.text)\n",
        "        for i, split_text in enumerate(split_texts):\n",
        "          smaller_nodes.append({\n",
        "              \"text\": split_text,\n",
        "              \"metadata\": {\n",
        "                  \"title\": title,\n",
        "                  \"slug\": slug,\n",
        "                  \"section\": detect_section(split_text, chunk_index=i)\n",
        "                  }\n",
        "              })\n",
        "\n",
        "\n",
        "    return smaller_nodes\n",
        "\n"
      ],
      "metadata": {
        "id": "VqdsmnlxOZ1n"
      },
      "execution_count": 4,
      "outputs": []
    },
    {
      "cell_type": "markdown",
      "source": [
        "##Option 1 chunking without DLT pipeline"
      ],
      "metadata": {
        "id": "fLKVYu_bhA9T"
      }
    },
    {
      "cell_type": "code",
      "source": [
        "# Option 1 - Chunking Function, chunks documents directly without dlt\n",
        "\n",
        "def process_gdrive_links(gdrive_links, output_path=\"demo_chunks.json\"):\n",
        "    all_chunks = []\n",
        "    for link in gdrive_links:\n",
        "        print(f\"Processing: {link}\")\n",
        "        try:\n",
        "            pdf_path = download_google_drive_pdf(link)\n",
        "            text = extract_text(pdf_path)\n",
        "            chunks = chunk_for_weaviate(text)\n",
        "            all_chunks.extend(chunks)\n",
        "        except Exception as e:\n",
        "            print(f\"❌ Failed to process {link}: {e}\")\n",
        "\n",
        "    with open(output_path, \"w\", encoding=\"utf-8\") as f:\n",
        "        json.dump(all_chunks, f, ensure_ascii=False, indent=2)\n",
        "    print(f\"\\n✅ Saved {len(all_chunks)} chunks to {output_path}\")\n",
        "\n",
        "# Chunk PDFs\n",
        "import os\n",
        "process_gdrive_links(gdrive_links, output_path=\"demo_chunks.json\")"
      ],
      "metadata": {
        "id": "VWsmZt-dV4wb",
        "colab": {
          "base_uri": "https://localhost:8080/"
        },
        "outputId": "43faec69-3543-42a1-860c-b66eb410ee41"
      },
      "execution_count": 6,
      "outputs": [
        {
          "output_type": "stream",
          "name": "stdout",
          "text": [
            "Processing: https://drive.google.com/file/d/1bNX5nZTif8roMK1bFaJmHF6wxapi5YDg/view?usp=sharing\n",
            "Processing: https://drive.google.com/file/d/1FZkvMOyTP_-kSIyx9VewaV9tP_XwpZXK/view?usp=drive_link\n",
            "Processing: https://drive.google.com/file/d/1jfcCLHmAazvs7DnAhd3jS0LOb7qOctMc/view?usp=drive_link\n",
            "Processing: https://drive.google.com/file/d/1K8D6VOe2aAX6tIfJWzF2-9zWbqH0C_wp/view?usp=drive_link\n",
            "Processing: https://drive.google.com/file/d/12ee59tcUcxotC1NFfz0EaLNWAAqakKDk/view?usp=drive_link\n",
            "Processing: https://drive.google.com/file/d/115LBMKIobYRdqKWqL2uR1VWoPS5zqoZq/view?usp=drive_link\n",
            "Processing: https://drive.google.com/file/d/1CcjaMYUIQNJ2S4nFGHIh0hpkeG158-Ag/view?usp=drive_link\n",
            "Processing: https://drive.google.com/file/d/1eR6rTQcYw_q4Lob2JFB2_cnND9U2VivA/view?usp=drive_link\n",
            "Processing: https://drive.google.com/file/d/1Gw9UQGNIcDTLpCaamYm4WoeYqUVlKsAG/view?usp=drive_link\n",
            "Processing: https://drive.google.com/file/d/1E961JtImN2eis_IxK5EZS3JaqhXkyhK8/view?usp=drive_link\n",
            "Processing: https://drive.google.com/file/d/1G5xQ10Ijjhrnm_Uq_hl2OgXNaKERfB3G/view?usp=drive_link\n",
            "Processing: https://drive.google.com/file/d/1u-nmLQIvBdcRomCo__yvoCCVNHV3AiKg/view?usp=drive_link\n",
            "Processing: https://drive.google.com/file/d/1cfF_cRkvfaTw5BTpiMxalw0Bc-IdBBnO/view?usp=drive_link\n",
            "Processing: https://drive.google.com/file/d/1WSMqabWY4pElGrQjVVkkaJ8NNEuP6T10/view?usp=drive_link\n",
            "Processing: https://drive.google.com/file/d/11bCbFObW-51XE0lMS3sz5-VYvWsxctRm/view?usp=drive_link\n",
            "Processing: https://drive.google.com/file/d/13AFfg8doORRytR3IXfTOmL1vpp6hsCuG/view?usp=drive_link\n",
            "Processing: https://drive.google.com/file/d/1k8QYuAsyzkMTJA-KzPrOX2BToKmzSr3l/view?usp=drive_link\n",
            "Processing: https://drive.google.com/file/d/1HQJ-WPOXE_CT4bVmuZ4LaZ5GKK8MIgXB/view?usp=sharing\n",
            "Processing: https://drive.google.com/file/d/1sqeJmEmP-3eTTFgTbxTSmS69kiH-K46H/view?usp=sharing\n",
            "\n",
            "✅ Saved 5070 chunks to demo_chunks.json\n"
          ]
        }
      ]
    },
    {
      "cell_type": "markdown",
      "source": [
        "##Option 2 chunking with DLT pipeline"
      ],
      "metadata": {
        "id": "PeLLQnP6iIof"
      }
    },
    {
      "cell_type": "code",
      "source": [
        "# Option 2 - Use dlt for better pipeling management including tracking and monitoring\n",
        "# The output will be more verbose than you will need for this exercise, but is\n",
        "# very useful for error handling in production!\n",
        "\n",
        "import dlt\n",
        "from datetime import datetime\n",
        "\n",
        "def process_gdrive_links_with_dlt(gdrive_links, output_path=\"demo_chunks.json\"):\n",
        "    # Create a simple dlt pipeline for tracking\n",
        "    pipeline = dlt.pipeline(\n",
        "        pipeline_name=\"space_med_tracker\",\n",
        "        destination=\"duckdb\"\n",
        "    )\n",
        "\n",
        "    @dlt.resource\n",
        "    def track_processing():\n",
        "        all_chunks = []\n",
        "        for link in gdrive_links:\n",
        "            print(f\"Processing: {link}\")\n",
        "            try:\n",
        "                pdf_path = download_google_drive_pdf(link)\n",
        "                text = extract_text(pdf_path)\n",
        "                chunks = chunk_for_weaviate(text)\n",
        "                all_chunks.extend(chunks)\n",
        "\n",
        "                # Yield tracking info\n",
        "                yield {\n",
        "                    \"link\": link,\n",
        "                    \"status\": \"success\",\n",
        "                    \"chunks_created\": len(chunks),\n",
        "                    \"timestamp\": datetime.now().isoformat()\n",
        "                }\n",
        "            except Exception as e:\n",
        "                print(f\"❌ Failed to process {link}: {e}\")\n",
        "                yield {\n",
        "                    \"link\": link,\n",
        "                    \"status\": \"failed\",\n",
        "                    \"error\": str(e),\n",
        "                    \"timestamp\": datetime.now().isoformat()\n",
        "                }\n",
        "\n",
        "        # Save chunks as before\n",
        "        with open(output_path, \"w\", encoding=\"utf-8\") as f:\n",
        "            json.dump(all_chunks, f, ensure_ascii=False, indent=2)\n",
        "        print(f\"\\n✅ Saved {len(all_chunks)} chunks to {output_path}\")\n",
        "\n",
        "    # Run pipeline\n",
        "    info = pipeline.run(track_processing())\n",
        "\n",
        "    # Just print the info object - it has what we need\n",
        "    print(f\"\\n🔍 DLT Pipeline completed!\")\n",
        "    print(f\"✅ Load info: {info}\")\n",
        "\n",
        "    return info\n",
        "\n",
        "# Chunk PDFs\n",
        "import os\n",
        "process_gdrive_links_with_dlt(gdrive_links, output_path=\"demo_chunks.json\")"
      ],
      "metadata": {
        "colab": {
          "base_uri": "https://localhost:8080/"
        },
        "id": "24j1XZinjV7U",
        "outputId": "058323a8-f29f-4cf4-80ca-9e1e430389a5"
      },
      "execution_count": 25,
      "outputs": [
        {
          "output_type": "stream",
          "name": "stdout",
          "text": [
            "Processing: https://drive.google.com/file/d/1bNX5nZTif8roMK1bFaJmHF6wxapi5YDg/view?usp=sharing\n",
            "Processing: https://drive.google.com/file/d/1FZkvMOyTP_-kSIyx9VewaV9tP_XwpZXK/view?usp=drive_link\n",
            "Processing: https://drive.google.com/file/d/1jfcCLHmAazvs7DnAhd3jS0LOb7qOctMc/view?usp=drive_link\n",
            "Processing: https://drive.google.com/file/d/1K8D6VOe2aAX6tIfJWzF2-9zWbqH0C_wp/view?usp=drive_link\n",
            "Processing: https://drive.google.com/file/d/12ee59tcUcxotC1NFfz0EaLNWAAqakKDk/view?usp=drive_link\n",
            "Processing: https://drive.google.com/file/d/115LBMKIobYRdqKWqL2uR1VWoPS5zqoZq/view?usp=drive_link\n",
            "Processing: https://drive.google.com/file/d/1CcjaMYUIQNJ2S4nFGHIh0hpkeG158-Ag/view?usp=drive_link\n",
            "Processing: https://drive.google.com/file/d/1eR6rTQcYw_q4Lob2JFB2_cnND9U2VivA/view?usp=drive_link\n",
            "Processing: https://drive.google.com/file/d/1Gw9UQGNIcDTLpCaamYm4WoeYqUVlKsAG/view?usp=drive_link\n",
            "Processing: https://drive.google.com/file/d/1E961JtImN2eis_IxK5EZS3JaqhXkyhK8/view?usp=drive_link\n",
            "Processing: https://drive.google.com/file/d/1G5xQ10Ijjhrnm_Uq_hl2OgXNaKERfB3G/view?usp=drive_link\n",
            "Processing: https://drive.google.com/file/d/1u-nmLQIvBdcRomCo__yvoCCVNHV3AiKg/view?usp=drive_link\n",
            "Processing: https://drive.google.com/file/d/1cfF_cRkvfaTw5BTpiMxalw0Bc-IdBBnO/view?usp=drive_link\n",
            "Processing: https://drive.google.com/file/d/1WSMqabWY4pElGrQjVVkkaJ8NNEuP6T10/view?usp=drive_link\n",
            "Processing: https://drive.google.com/file/d/11bCbFObW-51XE0lMS3sz5-VYvWsxctRm/view?usp=drive_link\n",
            "Processing: https://drive.google.com/file/d/13AFfg8doORRytR3IXfTOmL1vpp6hsCuG/view?usp=drive_link\n",
            "Processing: https://drive.google.com/file/d/1k8QYuAsyzkMTJA-KzPrOX2BToKmzSr3l/view?usp=drive_link\n",
            "Processing: https://drive.google.com/file/d/1HQJ-WPOXE_CT4bVmuZ4LaZ5GKK8MIgXB/view?usp=sharing\n",
            "Processing: https://drive.google.com/file/d/1sqeJmEmP-3eTTFgTbxTSmS69kiH-K46H/view?usp=sharing\n",
            "\n",
            "✅ Saved 5070 chunks to demo_chunks.json\n",
            "\n",
            "🔍 DLT Pipeline completed!\n",
            "✅ Load info: Pipeline space_med_tracker load step completed in 0.13 seconds\n",
            "1 load package(s) were loaded to destination duckdb and into dataset space_med_tracker_dataset\n",
            "The duckdb destination used duckdb:////content/space_med_tracker.duckdb location to store data\n",
            "Load package 1748279691.7295551 is LOADED and contains no failed jobs\n"
          ]
        },
        {
          "output_type": "execute_result",
          "data": {
            "text/plain": [
              "LoadInfo(pipeline=<dlt.pipeline.pipeline.Pipeline object at 0x7cd4c8115f10>, metrics={'1748279691.7295551': [{'started_at': DateTime(2025, 5, 26, 17, 15, 59, 752929, tzinfo=Timezone('UTC')), 'finished_at': DateTime(2025, 5, 26, 17, 15, 59, 884001, tzinfo=Timezone('UTC')), 'job_metrics': {'track_processing.d09cae1e83.insert_values': LoadJobMetrics(job_id='track_processing.d09cae1e83.insert_values', file_path='/var/dlt/pipelines/space_med_tracker/load/normalized/1748279691.7295551/started_jobs/track_processing.d09cae1e83.0.insert_values', table_name='track_processing', started_at=DateTime(2025, 5, 26, 17, 15, 59, 812949, tzinfo=Timezone('UTC')), finished_at=DateTime(2025, 5, 26, 17, 15, 59, 833779, tzinfo=Timezone('UTC')), state='completed', remote_url=None)}}]}, destination_type='dlt.destinations.duckdb', destination_displayable_credentials='duckdb:////content/space_med_tracker.duckdb', destination_name='duckdb', environment=None, staging_type=None, staging_name=None, staging_displayable_credentials=None, destination_fingerprint='', dataset_name='space_med_tracker_dataset', loads_ids=['1748279691.7295551'], load_packages=[LoadPackageInfo(load_id='1748279691.7295551', package_path='/var/dlt/pipelines/space_med_tracker/load/loaded/1748279691.7295551', state='loaded', schema=Schema space_med_tracker at 137253194587600, schema_update={}, completed_at=DateTime(2025, 5, 26, 17, 15, 59, 880498, tzinfo=Timezone('UTC')), jobs={'completed_jobs': [LoadJobInfo(state='completed_jobs', file_path='/var/dlt/pipelines/space_med_tracker/load/loaded/1748279691.7295551/completed_jobs/track_processing.d09cae1e83.0.insert_values', file_size=1261, created_at=DateTime(2025, 5, 26, 17, 15, 59, 712484, tzinfo=Timezone('UTC')), elapsed=0.1680138111114502, job_file_info=ParsedLoadJobFileName(table_name='track_processing', file_id='d09cae1e83', retry_count=0, file_format='insert_values'), failed_message=None)], 'failed_jobs': [], 'started_jobs': [], 'new_jobs': []})], first_run=False)"
            ]
          },
          "metadata": {},
          "execution_count": 25
        }
      ]
    },
    {
      "cell_type": "code",
      "source": [
        "# Setting up Weaviate keys. Be sure keys are stored in Colab secrets (<--- key icon in tray on left hand side)\n",
        "from google.colab import userdata\n",
        "\n",
        "WEAVIATE_URL = userdata.get(\"WEAVIATE_URL\")\n",
        "WEAVIATE_API_KEY = userdata.get(\"WEAVIATE_API_KEY\")\n",
        "OPENAI_API_KEY = userdata.get(\"OPENAI_API_KEY\")\n",
        "\n",
        "print(\"Weaviate URL:\", WEAVIATE_URL)\n",
        "print(\"Weaviate API Key:\", WEAVIATE_API_KEY)\n"
      ],
      "metadata": {
        "id": "MomG5MNPAh85",
        "outputId": "f7168064-adb6-4532-ef11-1b9b8c4fe462",
        "colab": {
          "base_uri": "https://localhost:8080/"
        }
      },
      "execution_count": 7,
      "outputs": [
        {
          "output_type": "stream",
          "name": "stdout",
          "text": [
            "Weaviate URL: https://rwxzavyuspepzg2fkhjag.c0.us-west3.gcp.weaviate.cloud\n",
            "Weaviate API Key: IwgDlvGkKqzCylsFoLh6wAuPgYqY9bvyp7yR\n"
          ]
        }
      ]
    },
    {
      "cell_type": "code",
      "source": [
        "#Establish connection to Weaviate Client\n",
        "client = weaviate.connect_to_weaviate_cloud(\n",
        "    WEAVIATE_URL,\n",
        "    auth_credentials=weaviate.AuthApiKey(WEAVIATE_API_KEY),\n",
        "    headers={\n",
        "        \"X-OpenAI-Api-Key\": OPENAI_API_KEY\n",
        "    }\n",
        ")"
      ],
      "metadata": {
        "id": "n0Mh5vLSFApA"
      },
      "execution_count": 8,
      "outputs": []
    },
    {
      "cell_type": "code",
      "source": [
        "# This will inform us if keys are not present\n",
        "assert client.is_ready(), \"Weaviate client is not ready. Check credentials and endpoint.\"\n"
      ],
      "metadata": {
        "id": "KhG_pHeeGw7U"
      },
      "execution_count": 9,
      "outputs": []
    },
    {
      "cell_type": "code",
      "source": [
        "# This will confirm our client is ready\n",
        "client.is_ready()"
      ],
      "metadata": {
        "id": "IHgm4vnhG0F6",
        "outputId": "4693785a-a1fc-44d9-e494-bd6f2efd7984",
        "colab": {
          "base_uri": "https://localhost:8080/"
        }
      },
      "execution_count": 10,
      "outputs": [
        {
          "output_type": "execute_result",
          "data": {
            "text/plain": [
              "True"
            ]
          },
          "metadata": {},
          "execution_count": 10
        }
      ]
    },
    {
      "cell_type": "code",
      "source": [
        "# Creating our collection in our Weaviate cluster\n",
        "from weaviate.classes.config import Configure\n",
        "\n",
        "if client.collections.exists(\"SpaceMedResearch\"):\n",
        "    client.collections.delete(\"SpaceMedResearch\")\n",
        "\n",
        "client.collections.create(\n",
        "    name = \"SpaceMedResearch\",\n",
        "    vectorizer_config= [\n",
        "            Configure.NamedVectors.text2vec_weaviate(\n",
        "                name=\"main_vector\",\n",
        "                model=\"Snowflake/snowflake-arctic-embed-l-v2.0\",\n",
        "                source_properties=[\"title\", \"content\"],\n",
        "            )\n",
        "        ],\n",
        "    )\n"
      ],
      "metadata": {
        "id": "iDUSO2_0Inr_",
        "outputId": "6b59cbb1-a127-4eec-b786-9a5812516f18",
        "colab": {
          "base_uri": "https://localhost:8080/"
        }
      },
      "execution_count": 26,
      "outputs": [
        {
          "output_type": "execute_result",
          "data": {
            "text/plain": [
              "<weaviate.collections.collection.sync.Collection at 0x7cd4c82ca310>"
            ]
          },
          "metadata": {},
          "execution_count": 26
        }
      ]
    },
    {
      "cell_type": "code",
      "source": [
        "# Function to batch upload to Weaviate (including UUIDs)\n",
        "def bulk_upload_space_chunks_to_weaviate(json_file_path, collection_name=\"SpaceMedResearch\"):\n",
        "    import weaviate\n",
        "    from google.colab import userdata\n",
        "    from weaviate.util import generate_uuid5\n",
        "\n",
        "    docs_collection = client.collections.get(collection_name)\n",
        "\n",
        "    with open(json_file_path, \"r\", encoding=\"utf-8\") as f:\n",
        "        chunks = json.load(f)\n",
        "\n",
        "    successful_uploads = 0\n",
        "\n",
        "    with docs_collection.batch.fixed_size(batch_size=100, concurrent_requests=2) as batch:\n",
        "        for i, chunk in enumerate(chunks):\n",
        "            text = chunk.get(\"text\", \"\")\n",
        "            metadata = chunk.get(\"metadata\", {})\n",
        "\n",
        "            # Create a unique ID by combining title with chunk index and first 20 chars of text\n",
        "            unique_id = f\"{metadata.get('title', 'unknown')}-chunk-{i}-{text[:20]}\"\n",
        "            uid = generate_uuid5(unique_id)\n",
        "\n",
        "            batch.add_object(\n",
        "                properties={\n",
        "                    \"content\": text,\n",
        "                    \"title\": metadata.get(\"title\", \"unknown\"),\n",
        "                    \"slug\": metadata.get(\"slug\", \"unknown\"),\n",
        "                    \"section\": metadata.get(\"section\", \"unknown\")\n",
        "                },\n",
        "                uuid=uid\n",
        "            )\n",
        "            successful_uploads += 1\n",
        "\n",
        "            # Progress indicator\n",
        "            if i % 500 == 0 and i > 0:\n",
        "                print(f\"Progress: {i}/{len(chunks)} chunks processed\")\n",
        "\n",
        "            if batch.number_errors > 10:\n",
        "                print(\"❌ Too many errors during batch import — stopping early.\")\n",
        "                break\n",
        "\n",
        "    # Verify the actual count in the collection\n",
        "    collection_count = docs_collection.aggregate.over_all().total_count\n",
        "    print(f\"✅ Uploaded {successful_uploads} chunks to Weaviate from {json_file_path}\")\n",
        "    print(f\"✅ Collection now contains {collection_count} objects\")"
      ],
      "metadata": {
        "id": "uqExyxKhVChx"
      },
      "execution_count": 27,
      "outputs": []
    },
    {
      "cell_type": "code",
      "source": [
        "# Batch upload\n",
        "bulk_upload_space_chunks_to_weaviate(\"/content/demo_chunks.json\")"
      ],
      "metadata": {
        "id": "NA0zn8wyQuqL",
        "outputId": "fcf7d487-2c51-417d-9aa7-9f922e66f0a0",
        "colab": {
          "base_uri": "https://localhost:8080/"
        }
      },
      "execution_count": 28,
      "outputs": [
        {
          "output_type": "stream",
          "name": "stdout",
          "text": [
            "Progress: 500/5070 chunks processed\n",
            "Progress: 1000/5070 chunks processed\n",
            "Progress: 1500/5070 chunks processed\n",
            "Progress: 2000/5070 chunks processed\n",
            "Progress: 2500/5070 chunks processed\n",
            "Progress: 3000/5070 chunks processed\n",
            "Progress: 3500/5070 chunks processed\n",
            "Progress: 4000/5070 chunks processed\n",
            "Progress: 4500/5070 chunks processed\n",
            "Progress: 5000/5070 chunks processed\n",
            "✅ Uploaded 5070 chunks to Weaviate from /content/demo_chunks.json\n",
            "✅ Collection now contains 5070 objects\n"
          ]
        }
      ]
    },
    {
      "cell_type": "code",
      "source": [
        "from weaviate.classes.init import Auth\n",
        "# Importing from weaviate-agents\n",
        "from weaviate_agents.query import QueryAgent\n",
        "\n",
        "# Instantiate agent object, and specify the collections to query\n",
        "qa = QueryAgent(\n",
        "    client=client, collections=[\"SpaceMedResearch\"]\n",
        ")"
      ],
      "metadata": {
        "id": "_rF_MmEBKlJy"
      },
      "execution_count": 29,
      "outputs": []
    },
    {
      "cell_type": "code",
      "source": [
        "# Perform a query\n",
        "response = qa.run(\n",
        "    \"What are the greatest health concerns facing astronauts during their time in space and upon their return to earth?\"\n",
        ")\n",
        "# Print the response\n",
        "response.display()"
      ],
      "metadata": {
        "id": "rISsrg-6KpRH",
        "outputId": "a10e537a-7339-4325-bde9-5525bd706430",
        "colab": {
          "base_uri": "https://localhost:8080/",
          "height": 1000
        }
      },
      "execution_count": 30,
      "outputs": [
        {
          "output_type": "display_data",
          "data": {
            "text/plain": [
              "╭─────────────────────────────────────────────── 🔍 Original Query ───────────────────────────────────────────────╮\n",
              "│                                                                                                                 │\n",
              "│ What are the greatest health concerns facing astronauts during their time in space and upon their return to     │\n",
              "│ earth?                                                                                                          │\n",
              "│                                                                                                                 │\n",
              "╰─────────────────────────────────────────────────────────────────────────────────────────────────────────────────╯\n"
            ],
            "text/html": [
              "<pre style=\"white-space:pre;overflow-x:auto;line-height:normal;font-family:Menlo,'DejaVu Sans Mono',consolas,'Courier New',monospace\">╭─────────────────────────────────────────────── 🔍 Original Query ───────────────────────────────────────────────╮\n",
              "│                                                                                                                 │\n",
              "│ What are the greatest health concerns facing astronauts during their time in space and upon their return to     │\n",
              "│ earth?                                                                                                          │\n",
              "│                                                                                                                 │\n",
              "╰─────────────────────────────────────────────────────────────────────────────────────────────────────────────────╯\n",
              "</pre>\n"
            ]
          },
          "metadata": {}
        },
        {
          "output_type": "display_data",
          "data": {
            "text/plain": [
              "\u001b[36m╭─\u001b[0m\u001b[36m───────────────────────────────────────────────\u001b[0m 📝 Final Answer \u001b[36m───────────────────────────────────────────────\u001b[0m\u001b[36m─╮\u001b[0m\n",
              "\u001b[36m│\u001b[0m\u001b[36m                                                                                                                 \u001b[0m\u001b[36m│\u001b[0m\n",
              "\u001b[36m│\u001b[0m\u001b[36m \u001b[0m\u001b[36mAstronauts face multiple significant health concerns both during their time in space and upon their return to \u001b[0m\u001b[36m \u001b[0m\u001b[36m \u001b[0m\u001b[36m│\u001b[0m\n",
              "\u001b[36m│\u001b[0m\u001b[36m \u001b[0m\u001b[36mEarth. During spaceflight, the unique environment presents challenges such as exposure to space radiation, \u001b[0m\u001b[36m    \u001b[0m\u001b[36m \u001b[0m\u001b[36m│\u001b[0m\n",
              "\u001b[36m│\u001b[0m\u001b[36m \u001b[0m\u001b[36mweightlessness, restricted diet, disrupted circadian rhythms, and reduced physical work requirements. These \u001b[0m\u001b[36m   \u001b[0m\u001b[36m \u001b[0m\u001b[36m│\u001b[0m\n",
              "\u001b[36m│\u001b[0m\u001b[36m \u001b[0m\u001b[36mfactors collectively contribute to risks including mitochondrial dysfunction, immunological stress, vascular \u001b[0m\u001b[36m  \u001b[0m\u001b[36m \u001b[0m\u001b[36m│\u001b[0m\n",
              "\u001b[36m│\u001b[0m\u001b[36m \u001b[0m\u001b[36mchanges, fluid shifts, cognitive decline, and genetic alterations like genome instability and telomere length \u001b[0m\u001b[36m \u001b[0m\u001b[36m \u001b[0m\u001b[36m│\u001b[0m\n",
              "\u001b[36m│\u001b[0m\u001b[36m \u001b[0m\u001b[36mvariations. Muscle and bone loss are also notable because of unloading in microgravity. Visual issues, termed \u001b[0m\u001b[36m \u001b[0m\u001b[36m \u001b[0m\u001b[36m│\u001b[0m\n",
              "\u001b[36m│\u001b[0m\u001b[36m \u001b[0m\u001b[36mSpaceflight-Associated Neuro-ocular Syndrome (SANS), affect about 40% of astronauts, including optic disc \u001b[0m\u001b[36m     \u001b[0m\u001b[36m \u001b[0m\u001b[36m│\u001b[0m\n",
              "\u001b[36m│\u001b[0m\u001b[36m \u001b[0m\u001b[36medema, globe flattening, and other ocular structural changes, likely due to fluid shifts toward the head in \u001b[0m\u001b[36m   \u001b[0m\u001b[36m \u001b[0m\u001b[36m│\u001b[0m\n",
              "\u001b[36m│\u001b[0m\u001b[36m \u001b[0m\u001b[36mmicrogravity.\u001b[0m\u001b[36m                                                                                                  \u001b[0m\u001b[36m \u001b[0m\u001b[36m│\u001b[0m\n",
              "\u001b[36m│\u001b[0m\u001b[36m \u001b[0m\u001b[36m                                                                                                               \u001b[0m\u001b[36m \u001b[0m\u001b[36m│\u001b[0m\n",
              "\u001b[36m│\u001b[0m\u001b[36m \u001b[0m\u001b[36mUpon return to Earth, astronauts encounter one of their greatest physiological stresses. Cardiovascular, \u001b[0m\u001b[36m      \u001b[0m\u001b[36m \u001b[0m\u001b[36m│\u001b[0m\n",
              "\u001b[36m│\u001b[0m\u001b[36m \u001b[0m\u001b[36mmusculoskeletal, cognitive, and inflammatory systems often display exaggerated or impaired responses. There is \u001b[0m\u001b[36m \u001b[0m\u001b[36m│\u001b[0m\n",
              "\u001b[36m│\u001b[0m\u001b[36m \u001b[0m\u001b[36mevidence of shortened telomeres after flight, which relates to aging and potential long-term risks such as \u001b[0m\u001b[36m    \u001b[0m\u001b[36m \u001b[0m\u001b[36m│\u001b[0m\n",
              "\u001b[36m│\u001b[0m\u001b[36m \u001b[0m\u001b[36mcardiovascular disease and cancer. The recovery period can involve dealing with postflight stress and \u001b[0m\u001b[36m         \u001b[0m\u001b[36m \u001b[0m\u001b[36m│\u001b[0m\n",
              "\u001b[36m│\u001b[0m\u001b[36m \u001b[0m\u001b[36minflammation, along with lasting alterations in ocular, cardiovascular, and cognitive health. Molecular and \u001b[0m\u001b[36m   \u001b[0m\u001b[36m \u001b[0m\u001b[36m│\u001b[0m\n",
              "\u001b[36m│\u001b[0m\u001b[36m \u001b[0m\u001b[36mcellular changes, including in DNA methylation and gene expression, can persist for months after return.\u001b[0m\u001b[36m       \u001b[0m\u001b[36m \u001b[0m\u001b[36m│\u001b[0m\n",
              "\u001b[36m│\u001b[0m\u001b[36m \u001b[0m\u001b[36m                                                                                                               \u001b[0m\u001b[36m \u001b[0m\u001b[36m│\u001b[0m\n",
              "\u001b[36m│\u001b[0m\u001b[36m \u001b[0m\u001b[36mOverall, the health concerns encompass a broad spectrum from molecular and genetic to physiological and \u001b[0m\u001b[36m       \u001b[0m\u001b[36m \u001b[0m\u001b[36m│\u001b[0m\n",
              "\u001b[36m│\u001b[0m\u001b[36m \u001b[0m\u001b[36mcognitive domains, requiring both real-time and long-term medical monitoring. The hostile space environment \u001b[0m\u001b[36m   \u001b[0m\u001b[36m \u001b[0m\u001b[36m│\u001b[0m\n",
              "\u001b[36m│\u001b[0m\u001b[36m \u001b[0m\u001b[36mnecessitates remote medical management and autonomous care approaches. Further research, especially on \u001b[0m\u001b[36m        \u001b[0m\u001b[36m \u001b[0m\u001b[36m│\u001b[0m\n",
              "\u001b[36m│\u001b[0m\u001b[36m \u001b[0m\u001b[36mlong-duration missions and exploration beyond low Earth orbit, is crucial to develop targeted countermeasures \u001b[0m\u001b[36m \u001b[0m\u001b[36m \u001b[0m\u001b[36m│\u001b[0m\n",
              "\u001b[36m│\u001b[0m\u001b[36m \u001b[0m\u001b[36mto mitigate these risks for future human space exploration.\u001b[0m\u001b[36m                                                    \u001b[0m\u001b[36m \u001b[0m\u001b[36m│\u001b[0m\n",
              "\u001b[36m│\u001b[0m\u001b[36m                                                                                                                 \u001b[0m\u001b[36m│\u001b[0m\n",
              "\u001b[36m╰─────────────────────────────────────────────────────────────────────────────────────────────────────────────────╯\u001b[0m\n"
            ],
            "text/html": [
              "<pre style=\"white-space:pre;overflow-x:auto;line-height:normal;font-family:Menlo,'DejaVu Sans Mono',consolas,'Courier New',monospace\"><span style=\"color: #008080; text-decoration-color: #008080\">╭────────────────────────────────────────────────</span> 📝 Final Answer <span style=\"color: #008080; text-decoration-color: #008080\">────────────────────────────────────────────────╮</span>\n",
              "<span style=\"color: #008080; text-decoration-color: #008080\">│                                                                                                                 │</span>\n",
              "<span style=\"color: #008080; text-decoration-color: #008080\">│ Astronauts face multiple significant health concerns both during their time in space and upon their return to   │</span>\n",
              "<span style=\"color: #008080; text-decoration-color: #008080\">│ Earth. During spaceflight, the unique environment presents challenges such as exposure to space radiation,      │</span>\n",
              "<span style=\"color: #008080; text-decoration-color: #008080\">│ weightlessness, restricted diet, disrupted circadian rhythms, and reduced physical work requirements. These     │</span>\n",
              "<span style=\"color: #008080; text-decoration-color: #008080\">│ factors collectively contribute to risks including mitochondrial dysfunction, immunological stress, vascular    │</span>\n",
              "<span style=\"color: #008080; text-decoration-color: #008080\">│ changes, fluid shifts, cognitive decline, and genetic alterations like genome instability and telomere length   │</span>\n",
              "<span style=\"color: #008080; text-decoration-color: #008080\">│ variations. Muscle and bone loss are also notable because of unloading in microgravity. Visual issues, termed   │</span>\n",
              "<span style=\"color: #008080; text-decoration-color: #008080\">│ Spaceflight-Associated Neuro-ocular Syndrome (SANS), affect about 40% of astronauts, including optic disc       │</span>\n",
              "<span style=\"color: #008080; text-decoration-color: #008080\">│ edema, globe flattening, and other ocular structural changes, likely due to fluid shifts toward the head in     │</span>\n",
              "<span style=\"color: #008080; text-decoration-color: #008080\">│ microgravity.                                                                                                   │</span>\n",
              "<span style=\"color: #008080; text-decoration-color: #008080\">│                                                                                                                 │</span>\n",
              "<span style=\"color: #008080; text-decoration-color: #008080\">│ Upon return to Earth, astronauts encounter one of their greatest physiological stresses. Cardiovascular,        │</span>\n",
              "<span style=\"color: #008080; text-decoration-color: #008080\">│ musculoskeletal, cognitive, and inflammatory systems often display exaggerated or impaired responses. There is  │</span>\n",
              "<span style=\"color: #008080; text-decoration-color: #008080\">│ evidence of shortened telomeres after flight, which relates to aging and potential long-term risks such as      │</span>\n",
              "<span style=\"color: #008080; text-decoration-color: #008080\">│ cardiovascular disease and cancer. The recovery period can involve dealing with postflight stress and           │</span>\n",
              "<span style=\"color: #008080; text-decoration-color: #008080\">│ inflammation, along with lasting alterations in ocular, cardiovascular, and cognitive health. Molecular and     │</span>\n",
              "<span style=\"color: #008080; text-decoration-color: #008080\">│ cellular changes, including in DNA methylation and gene expression, can persist for months after return.        │</span>\n",
              "<span style=\"color: #008080; text-decoration-color: #008080\">│                                                                                                                 │</span>\n",
              "<span style=\"color: #008080; text-decoration-color: #008080\">│ Overall, the health concerns encompass a broad spectrum from molecular and genetic to physiological and         │</span>\n",
              "<span style=\"color: #008080; text-decoration-color: #008080\">│ cognitive domains, requiring both real-time and long-term medical monitoring. The hostile space environment     │</span>\n",
              "<span style=\"color: #008080; text-decoration-color: #008080\">│ necessitates remote medical management and autonomous care approaches. Further research, especially on          │</span>\n",
              "<span style=\"color: #008080; text-decoration-color: #008080\">│ long-duration missions and exploration beyond low Earth orbit, is crucial to develop targeted countermeasures   │</span>\n",
              "<span style=\"color: #008080; text-decoration-color: #008080\">│ to mitigate these risks for future human space exploration.                                                     │</span>\n",
              "<span style=\"color: #008080; text-decoration-color: #008080\">│                                                                                                                 │</span>\n",
              "<span style=\"color: #008080; text-decoration-color: #008080\">╰─────────────────────────────────────────────────────────────────────────────────────────────────────────────────╯</span>\n",
              "</pre>\n"
            ]
          },
          "metadata": {}
        },
        {
          "output_type": "display_data",
          "data": {
            "text/plain": [
              "\u001b[37m╭─\u001b[0m\u001b[37m──────────────────────────────────────────\u001b[0m 🔭 Searches Executed 1/2 \u001b[37m───────────────────────────────────────────\u001b[0m\u001b[37m─╮\u001b[0m\n",
              "\u001b[37m│\u001b[0m\u001b[37m                                                                                                                 \u001b[0m\u001b[37m│\u001b[0m\n",
              "\u001b[37m│\u001b[0m\u001b[37m \u001b[0m\u001b[1;35mQueryResultWithCollection\u001b[0m\u001b[1;37m(\u001b[0m\u001b[37m                                                                                     \u001b[0m\u001b[37m \u001b[0m\u001b[37m│\u001b[0m\n",
              "\u001b[37m│\u001b[0m\u001b[37m \u001b[0m\u001b[37m    \u001b[0m\u001b[33mqueries\u001b[0m\u001b[37m=\u001b[0m\u001b[1;37m[\u001b[0m\u001b[37m                                                                                                  \u001b[0m\u001b[37m \u001b[0m\u001b[37m│\u001b[0m\n",
              "\u001b[37m│\u001b[0m\u001b[37m \u001b[0m\u001b[37m        \u001b[0m\u001b[32m'health concerns astronauts during space missions'\u001b[0m\u001b[37m,\u001b[0m\u001b[37m                                                    \u001b[0m\u001b[37m \u001b[0m\u001b[37m│\u001b[0m\n",
              "\u001b[37m│\u001b[0m\u001b[37m \u001b[0m\u001b[37m        \u001b[0m\u001b[32m'medical risks astronauts experience in space'\u001b[0m\u001b[37m,\u001b[0m\u001b[37m                                                        \u001b[0m\u001b[37m \u001b[0m\u001b[37m│\u001b[0m\n",
              "\u001b[37m│\u001b[0m\u001b[37m \u001b[0m\u001b[37m        \u001b[0m\u001b[32m'effects of space environment on astronaut health'\u001b[0m\u001b[37m                                                     \u001b[0m\u001b[37m \u001b[0m\u001b[37m│\u001b[0m\n",
              "\u001b[37m│\u001b[0m\u001b[37m \u001b[0m\u001b[37m    \u001b[0m\u001b[1;37m]\u001b[0m\u001b[37m,\u001b[0m\u001b[37m                                                                                                         \u001b[0m\u001b[37m \u001b[0m\u001b[37m│\u001b[0m\n",
              "\u001b[37m│\u001b[0m\u001b[37m \u001b[0m\u001b[37m    \u001b[0m\u001b[33mfilters\u001b[0m\u001b[37m=\u001b[0m\u001b[1;37m[\u001b[0m\u001b[1;37m[\u001b[0m\u001b[1;37m]\u001b[0m\u001b[37m, \u001b[0m\u001b[1;37m[\u001b[0m\u001b[1;37m]\u001b[0m\u001b[37m, \u001b[0m\u001b[1;37m[\u001b[0m\u001b[1;37m]\u001b[0m\u001b[1;37m]\u001b[0m\u001b[37m,\u001b[0m\u001b[37m                                                                                      \u001b[0m\u001b[37m \u001b[0m\u001b[37m│\u001b[0m\n",
              "\u001b[37m│\u001b[0m\u001b[37m \u001b[0m\u001b[37m    \u001b[0m\u001b[33mfilter_operators\u001b[0m\u001b[37m=\u001b[0m\u001b[32m'OR'\u001b[0m\u001b[37m,\u001b[0m\u001b[37m                                                                                     \u001b[0m\u001b[37m \u001b[0m\u001b[37m│\u001b[0m\n",
              "\u001b[37m│\u001b[0m\u001b[37m \u001b[0m\u001b[37m    \u001b[0m\u001b[33mcollection\u001b[0m\u001b[37m=\u001b[0m\u001b[32m'SpaceMedResearch'\u001b[0m\u001b[37m                                                                              \u001b[0m\u001b[37m \u001b[0m\u001b[37m│\u001b[0m\n",
              "\u001b[37m│\u001b[0m\u001b[37m \u001b[0m\u001b[1;37m)\u001b[0m\u001b[37m                                                                                                              \u001b[0m\u001b[37m \u001b[0m\u001b[37m│\u001b[0m\n",
              "\u001b[37m│\u001b[0m\u001b[37m                                                                                                                 \u001b[0m\u001b[37m│\u001b[0m\n",
              "\u001b[37m╰─────────────────────────────────────────────────────────────────────────────────────────────────────────────────╯\u001b[0m\n"
            ],
            "text/html": [
              "<pre style=\"white-space:pre;overflow-x:auto;line-height:normal;font-family:Menlo,'DejaVu Sans Mono',consolas,'Courier New',monospace\"><span style=\"color: #c0c0c0; text-decoration-color: #c0c0c0\">╭───────────────────────────────────────────</span> 🔭 Searches Executed 1/2 <span style=\"color: #c0c0c0; text-decoration-color: #c0c0c0\">────────────────────────────────────────────╮</span>\n",
              "<span style=\"color: #c0c0c0; text-decoration-color: #c0c0c0\">│                                                                                                                 │</span>\n",
              "<span style=\"color: #c0c0c0; text-decoration-color: #c0c0c0\">│ </span><span style=\"color: #800080; text-decoration-color: #800080; font-weight: bold\">QueryResultWithCollection</span><span style=\"color: #c0c0c0; text-decoration-color: #c0c0c0; font-weight: bold\">(</span><span style=\"color: #c0c0c0; text-decoration-color: #c0c0c0\">                                                                                      │</span>\n",
              "<span style=\"color: #c0c0c0; text-decoration-color: #c0c0c0\">│     </span><span style=\"color: #808000; text-decoration-color: #808000\">queries</span><span style=\"color: #c0c0c0; text-decoration-color: #c0c0c0\">=</span><span style=\"color: #c0c0c0; text-decoration-color: #c0c0c0; font-weight: bold\">[</span><span style=\"color: #c0c0c0; text-decoration-color: #c0c0c0\">                                                                                                   │</span>\n",
              "<span style=\"color: #c0c0c0; text-decoration-color: #c0c0c0\">│         </span><span style=\"color: #008000; text-decoration-color: #008000\">'health concerns astronauts during space missions'</span><span style=\"color: #c0c0c0; text-decoration-color: #c0c0c0\">,                                                     │</span>\n",
              "<span style=\"color: #c0c0c0; text-decoration-color: #c0c0c0\">│         </span><span style=\"color: #008000; text-decoration-color: #008000\">'medical risks astronauts experience in space'</span><span style=\"color: #c0c0c0; text-decoration-color: #c0c0c0\">,                                                         │</span>\n",
              "<span style=\"color: #c0c0c0; text-decoration-color: #c0c0c0\">│         </span><span style=\"color: #008000; text-decoration-color: #008000\">'effects of space environment on astronaut health'</span><span style=\"color: #c0c0c0; text-decoration-color: #c0c0c0\">                                                      │</span>\n",
              "<span style=\"color: #c0c0c0; text-decoration-color: #c0c0c0\">│     </span><span style=\"color: #c0c0c0; text-decoration-color: #c0c0c0; font-weight: bold\">]</span><span style=\"color: #c0c0c0; text-decoration-color: #c0c0c0\">,                                                                                                          │</span>\n",
              "<span style=\"color: #c0c0c0; text-decoration-color: #c0c0c0\">│     </span><span style=\"color: #808000; text-decoration-color: #808000\">filters</span><span style=\"color: #c0c0c0; text-decoration-color: #c0c0c0\">=</span><span style=\"color: #c0c0c0; text-decoration-color: #c0c0c0; font-weight: bold\">[[]</span><span style=\"color: #c0c0c0; text-decoration-color: #c0c0c0\">, </span><span style=\"color: #c0c0c0; text-decoration-color: #c0c0c0; font-weight: bold\">[]</span><span style=\"color: #c0c0c0; text-decoration-color: #c0c0c0\">, </span><span style=\"color: #c0c0c0; text-decoration-color: #c0c0c0; font-weight: bold\">[]]</span><span style=\"color: #c0c0c0; text-decoration-color: #c0c0c0\">,                                                                                       │</span>\n",
              "<span style=\"color: #c0c0c0; text-decoration-color: #c0c0c0\">│     </span><span style=\"color: #808000; text-decoration-color: #808000\">filter_operators</span><span style=\"color: #c0c0c0; text-decoration-color: #c0c0c0\">=</span><span style=\"color: #008000; text-decoration-color: #008000\">'OR'</span><span style=\"color: #c0c0c0; text-decoration-color: #c0c0c0\">,                                                                                      │</span>\n",
              "<span style=\"color: #c0c0c0; text-decoration-color: #c0c0c0\">│     </span><span style=\"color: #808000; text-decoration-color: #808000\">collection</span><span style=\"color: #c0c0c0; text-decoration-color: #c0c0c0\">=</span><span style=\"color: #008000; text-decoration-color: #008000\">'SpaceMedResearch'</span><span style=\"color: #c0c0c0; text-decoration-color: #c0c0c0\">                                                                               │</span>\n",
              "<span style=\"color: #c0c0c0; text-decoration-color: #c0c0c0\">│ </span><span style=\"color: #c0c0c0; text-decoration-color: #c0c0c0; font-weight: bold\">)</span><span style=\"color: #c0c0c0; text-decoration-color: #c0c0c0\">                                                                                                               │</span>\n",
              "<span style=\"color: #c0c0c0; text-decoration-color: #c0c0c0\">│                                                                                                                 │</span>\n",
              "<span style=\"color: #c0c0c0; text-decoration-color: #c0c0c0\">╰─────────────────────────────────────────────────────────────────────────────────────────────────────────────────╯</span>\n",
              "</pre>\n"
            ]
          },
          "metadata": {}
        },
        {
          "output_type": "display_data",
          "data": {
            "text/plain": [
              "\u001b[37m╭─\u001b[0m\u001b[37m──────────────────────────────────────────\u001b[0m 🔭 Searches Executed 2/2 \u001b[37m───────────────────────────────────────────\u001b[0m\u001b[37m─╮\u001b[0m\n",
              "\u001b[37m│\u001b[0m\u001b[37m                                                                                                                 \u001b[0m\u001b[37m│\u001b[0m\n",
              "\u001b[37m│\u001b[0m\u001b[37m \u001b[0m\u001b[1;35mQueryResultWithCollection\u001b[0m\u001b[1;37m(\u001b[0m\u001b[37m                                                                                     \u001b[0m\u001b[37m \u001b[0m\u001b[37m│\u001b[0m\n",
              "\u001b[37m│\u001b[0m\u001b[37m \u001b[0m\u001b[37m    \u001b[0m\u001b[33mqueries\u001b[0m\u001b[37m=\u001b[0m\u001b[1;37m[\u001b[0m\u001b[32m'health concerns facing astronauts upon their return to earth'\u001b[0m\u001b[1;37m]\u001b[0m\u001b[37m,\u001b[0m\u001b[37m                                  \u001b[0m\u001b[37m \u001b[0m\u001b[37m│\u001b[0m\n",
              "\u001b[37m│\u001b[0m\u001b[37m \u001b[0m\u001b[37m    \u001b[0m\u001b[33mfilters\u001b[0m\u001b[37m=\u001b[0m\u001b[1;37m[\u001b[0m\u001b[1;37m[\u001b[0m\u001b[1;37m]\u001b[0m\u001b[1;37m]\u001b[0m\u001b[37m,\u001b[0m\u001b[37m                                                                                              \u001b[0m\u001b[37m \u001b[0m\u001b[37m│\u001b[0m\n",
              "\u001b[37m│\u001b[0m\u001b[37m \u001b[0m\u001b[37m    \u001b[0m\u001b[33mfilter_operators\u001b[0m\u001b[37m=\u001b[0m\u001b[32m'AND'\u001b[0m\u001b[37m,\u001b[0m\u001b[37m                                                                                    \u001b[0m\u001b[37m \u001b[0m\u001b[37m│\u001b[0m\n",
              "\u001b[37m│\u001b[0m\u001b[37m \u001b[0m\u001b[37m    \u001b[0m\u001b[33mcollection\u001b[0m\u001b[37m=\u001b[0m\u001b[32m'SpaceMedResearch'\u001b[0m\u001b[37m                                                                              \u001b[0m\u001b[37m \u001b[0m\u001b[37m│\u001b[0m\n",
              "\u001b[37m│\u001b[0m\u001b[37m \u001b[0m\u001b[1;37m)\u001b[0m\u001b[37m                                                                                                              \u001b[0m\u001b[37m \u001b[0m\u001b[37m│\u001b[0m\n",
              "\u001b[37m│\u001b[0m\u001b[37m                                                                                                                 \u001b[0m\u001b[37m│\u001b[0m\n",
              "\u001b[37m╰─────────────────────────────────────────────────────────────────────────────────────────────────────────────────╯\u001b[0m\n"
            ],
            "text/html": [
              "<pre style=\"white-space:pre;overflow-x:auto;line-height:normal;font-family:Menlo,'DejaVu Sans Mono',consolas,'Courier New',monospace\"><span style=\"color: #c0c0c0; text-decoration-color: #c0c0c0\">╭───────────────────────────────────────────</span> 🔭 Searches Executed 2/2 <span style=\"color: #c0c0c0; text-decoration-color: #c0c0c0\">────────────────────────────────────────────╮</span>\n",
              "<span style=\"color: #c0c0c0; text-decoration-color: #c0c0c0\">│                                                                                                                 │</span>\n",
              "<span style=\"color: #c0c0c0; text-decoration-color: #c0c0c0\">│ </span><span style=\"color: #800080; text-decoration-color: #800080; font-weight: bold\">QueryResultWithCollection</span><span style=\"color: #c0c0c0; text-decoration-color: #c0c0c0; font-weight: bold\">(</span><span style=\"color: #c0c0c0; text-decoration-color: #c0c0c0\">                                                                                      │</span>\n",
              "<span style=\"color: #c0c0c0; text-decoration-color: #c0c0c0\">│     </span><span style=\"color: #808000; text-decoration-color: #808000\">queries</span><span style=\"color: #c0c0c0; text-decoration-color: #c0c0c0\">=</span><span style=\"color: #c0c0c0; text-decoration-color: #c0c0c0; font-weight: bold\">[</span><span style=\"color: #008000; text-decoration-color: #008000\">'health concerns facing astronauts upon their return to earth'</span><span style=\"color: #c0c0c0; text-decoration-color: #c0c0c0; font-weight: bold\">]</span><span style=\"color: #c0c0c0; text-decoration-color: #c0c0c0\">,                                   │</span>\n",
              "<span style=\"color: #c0c0c0; text-decoration-color: #c0c0c0\">│     </span><span style=\"color: #808000; text-decoration-color: #808000\">filters</span><span style=\"color: #c0c0c0; text-decoration-color: #c0c0c0\">=</span><span style=\"color: #c0c0c0; text-decoration-color: #c0c0c0; font-weight: bold\">[[]]</span><span style=\"color: #c0c0c0; text-decoration-color: #c0c0c0\">,                                                                                               │</span>\n",
              "<span style=\"color: #c0c0c0; text-decoration-color: #c0c0c0\">│     </span><span style=\"color: #808000; text-decoration-color: #808000\">filter_operators</span><span style=\"color: #c0c0c0; text-decoration-color: #c0c0c0\">=</span><span style=\"color: #008000; text-decoration-color: #008000\">'AND'</span><span style=\"color: #c0c0c0; text-decoration-color: #c0c0c0\">,                                                                                     │</span>\n",
              "<span style=\"color: #c0c0c0; text-decoration-color: #c0c0c0\">│     </span><span style=\"color: #808000; text-decoration-color: #808000\">collection</span><span style=\"color: #c0c0c0; text-decoration-color: #c0c0c0\">=</span><span style=\"color: #008000; text-decoration-color: #008000\">'SpaceMedResearch'</span><span style=\"color: #c0c0c0; text-decoration-color: #c0c0c0\">                                                                               │</span>\n",
              "<span style=\"color: #c0c0c0; text-decoration-color: #c0c0c0\">│ </span><span style=\"color: #c0c0c0; text-decoration-color: #c0c0c0; font-weight: bold\">)</span><span style=\"color: #c0c0c0; text-decoration-color: #c0c0c0\">                                                                                                               │</span>\n",
              "<span style=\"color: #c0c0c0; text-decoration-color: #c0c0c0\">│                                                                                                                 │</span>\n",
              "<span style=\"color: #c0c0c0; text-decoration-color: #c0c0c0\">╰─────────────────────────────────────────────────────────────────────────────────────────────────────────────────╯</span>\n",
              "</pre>\n"
            ]
          },
          "metadata": {}
        },
        {
          "output_type": "display_data",
          "data": {
            "text/plain": [
              "\u001b[38;5;167m╭─────────────────────────────────────────────────────────────────────────────────────────────────────────────────╮\u001b[0m\n",
              "\u001b[38;5;167m│\u001b[0m\u001b[38;5;167m                                                                                                                 \u001b[0m\u001b[38;5;167m│\u001b[0m\n",
              "\u001b[38;5;167m│\u001b[0m\u001b[38;5;167m \u001b[0m\u001b[38;5;167m📊 No Aggregations Run\u001b[0m\u001b[38;5;167m                                                                                         \u001b[0m\u001b[38;5;167m \u001b[0m\u001b[38;5;167m│\u001b[0m\n",
              "\u001b[38;5;167m│\u001b[0m\u001b[38;5;167m                                                                                                                 \u001b[0m\u001b[38;5;167m│\u001b[0m\n",
              "\u001b[38;5;167m╰─────────────────────────────────────────────────────────────────────────────────────────────────────────────────╯\u001b[0m\n"
            ],
            "text/html": [
              "<pre style=\"white-space:pre;overflow-x:auto;line-height:normal;font-family:Menlo,'DejaVu Sans Mono',consolas,'Courier New',monospace\"><span style=\"color: #d75f5f; text-decoration-color: #d75f5f\">╭─────────────────────────────────────────────────────────────────────────────────────────────────────────────────╮</span>\n",
              "<span style=\"color: #d75f5f; text-decoration-color: #d75f5f\">│                                                                                                                 │</span>\n",
              "<span style=\"color: #d75f5f; text-decoration-color: #d75f5f\">│ 📊 No Aggregations Run                                                                                          │</span>\n",
              "<span style=\"color: #d75f5f; text-decoration-color: #d75f5f\">│                                                                                                                 │</span>\n",
              "<span style=\"color: #d75f5f; text-decoration-color: #d75f5f\">╰─────────────────────────────────────────────────────────────────────────────────────────────────────────────────╯</span>\n",
              "</pre>\n"
            ]
          },
          "metadata": {}
        },
        {
          "output_type": "display_data",
          "data": {
            "text/plain": [
              "\u001b[37m╭─\u001b[0m\u001b[37m─────────────────────────────────────────────────\u001b[0m 📚 Sources \u001b[37m──────────────────────────────────────────────────\u001b[0m\u001b[37m─╮\u001b[0m\n",
              "\u001b[37m│\u001b[0m\u001b[37m                                                                                                                 \u001b[0m\u001b[37m│\u001b[0m\n",
              "\u001b[37m│\u001b[0m\u001b[37m \u001b[0m\u001b[37m - object_id='bf6ff26f-e606-5531-b8a5-00cf9d1cd6f7' collection='SpaceMedResearch'\u001b[0m\u001b[37m                              \u001b[0m\u001b[37m \u001b[0m\u001b[37m│\u001b[0m\n",
              "\u001b[37m│\u001b[0m\u001b[37m \u001b[0m\u001b[37m - object_id='ef7bb03e-4534-5416-aed7-f514891157c6' collection='SpaceMedResearch'\u001b[0m\u001b[37m                              \u001b[0m\u001b[37m \u001b[0m\u001b[37m│\u001b[0m\n",
              "\u001b[37m│\u001b[0m\u001b[37m \u001b[0m\u001b[37m - object_id='ac5030b9-326e-5af3-961c-758cfc06f938' collection='SpaceMedResearch'\u001b[0m\u001b[37m                              \u001b[0m\u001b[37m \u001b[0m\u001b[37m│\u001b[0m\n",
              "\u001b[37m│\u001b[0m\u001b[37m \u001b[0m\u001b[37m - object_id='bc4aace4-2d81-52b4-8d78-3cf9d151b1be' collection='SpaceMedResearch'\u001b[0m\u001b[37m                              \u001b[0m\u001b[37m \u001b[0m\u001b[37m│\u001b[0m\n",
              "\u001b[37m│\u001b[0m\u001b[37m \u001b[0m\u001b[37m - object_id='67cdbac9-f124-513f-9c71-2156e16dfb04' collection='SpaceMedResearch'\u001b[0m\u001b[37m                              \u001b[0m\u001b[37m \u001b[0m\u001b[37m│\u001b[0m\n",
              "\u001b[37m│\u001b[0m\u001b[37m \u001b[0m\u001b[37m - object_id='8c0a3a6a-58ad-5c5f-b74b-121dfc374951' collection='SpaceMedResearch'\u001b[0m\u001b[37m                              \u001b[0m\u001b[37m \u001b[0m\u001b[37m│\u001b[0m\n",
              "\u001b[37m│\u001b[0m\u001b[37m \u001b[0m\u001b[37m - object_id='96cae53f-5160-54a9-97e0-bd171a2b34cf' collection='SpaceMedResearch'\u001b[0m\u001b[37m                              \u001b[0m\u001b[37m \u001b[0m\u001b[37m│\u001b[0m\n",
              "\u001b[37m│\u001b[0m\u001b[37m \u001b[0m\u001b[37m - object_id='0234fea2-ef36-5df7-8845-8731da782a8b' collection='SpaceMedResearch'\u001b[0m\u001b[37m                              \u001b[0m\u001b[37m \u001b[0m\u001b[37m│\u001b[0m\n",
              "\u001b[37m│\u001b[0m\u001b[37m \u001b[0m\u001b[37m - object_id='d5771e24-647b-592e-a36b-0d015f55ce46' collection='SpaceMedResearch'\u001b[0m\u001b[37m                              \u001b[0m\u001b[37m \u001b[0m\u001b[37m│\u001b[0m\n",
              "\u001b[37m│\u001b[0m\u001b[37m \u001b[0m\u001b[37m - object_id='fa0af7d8-5b5b-575a-aa2a-3420c233fb30' collection='SpaceMedResearch'\u001b[0m\u001b[37m                              \u001b[0m\u001b[37m \u001b[0m\u001b[37m│\u001b[0m\n",
              "\u001b[37m│\u001b[0m\u001b[37m \u001b[0m\u001b[37m - object_id='55012bfd-4d9f-5db2-b170-f1773d245721' collection='SpaceMedResearch'\u001b[0m\u001b[37m                              \u001b[0m\u001b[37m \u001b[0m\u001b[37m│\u001b[0m\n",
              "\u001b[37m│\u001b[0m\u001b[37m                                                                                                                 \u001b[0m\u001b[37m│\u001b[0m\n",
              "\u001b[37m╰─────────────────────────────────────────────────────────────────────────────────────────────────────────────────╯\u001b[0m\n"
            ],
            "text/html": [
              "<pre style=\"white-space:pre;overflow-x:auto;line-height:normal;font-family:Menlo,'DejaVu Sans Mono',consolas,'Courier New',monospace\"><span style=\"color: #c0c0c0; text-decoration-color: #c0c0c0\">╭──────────────────────────────────────────────────</span> 📚 Sources <span style=\"color: #c0c0c0; text-decoration-color: #c0c0c0\">───────────────────────────────────────────────────╮</span>\n",
              "<span style=\"color: #c0c0c0; text-decoration-color: #c0c0c0\">│                                                                                                                 │</span>\n",
              "<span style=\"color: #c0c0c0; text-decoration-color: #c0c0c0\">│  - object_id='bf6ff26f-e606-5531-b8a5-00cf9d1cd6f7' collection='SpaceMedResearch'                               │</span>\n",
              "<span style=\"color: #c0c0c0; text-decoration-color: #c0c0c0\">│  - object_id='ef7bb03e-4534-5416-aed7-f514891157c6' collection='SpaceMedResearch'                               │</span>\n",
              "<span style=\"color: #c0c0c0; text-decoration-color: #c0c0c0\">│  - object_id='ac5030b9-326e-5af3-961c-758cfc06f938' collection='SpaceMedResearch'                               │</span>\n",
              "<span style=\"color: #c0c0c0; text-decoration-color: #c0c0c0\">│  - object_id='bc4aace4-2d81-52b4-8d78-3cf9d151b1be' collection='SpaceMedResearch'                               │</span>\n",
              "<span style=\"color: #c0c0c0; text-decoration-color: #c0c0c0\">│  - object_id='67cdbac9-f124-513f-9c71-2156e16dfb04' collection='SpaceMedResearch'                               │</span>\n",
              "<span style=\"color: #c0c0c0; text-decoration-color: #c0c0c0\">│  - object_id='8c0a3a6a-58ad-5c5f-b74b-121dfc374951' collection='SpaceMedResearch'                               │</span>\n",
              "<span style=\"color: #c0c0c0; text-decoration-color: #c0c0c0\">│  - object_id='96cae53f-5160-54a9-97e0-bd171a2b34cf' collection='SpaceMedResearch'                               │</span>\n",
              "<span style=\"color: #c0c0c0; text-decoration-color: #c0c0c0\">│  - object_id='0234fea2-ef36-5df7-8845-8731da782a8b' collection='SpaceMedResearch'                               │</span>\n",
              "<span style=\"color: #c0c0c0; text-decoration-color: #c0c0c0\">│  - object_id='d5771e24-647b-592e-a36b-0d015f55ce46' collection='SpaceMedResearch'                               │</span>\n",
              "<span style=\"color: #c0c0c0; text-decoration-color: #c0c0c0\">│  - object_id='fa0af7d8-5b5b-575a-aa2a-3420c233fb30' collection='SpaceMedResearch'                               │</span>\n",
              "<span style=\"color: #c0c0c0; text-decoration-color: #c0c0c0\">│  - object_id='55012bfd-4d9f-5db2-b170-f1773d245721' collection='SpaceMedResearch'                               │</span>\n",
              "<span style=\"color: #c0c0c0; text-decoration-color: #c0c0c0\">│                                                                                                                 │</span>\n",
              "<span style=\"color: #c0c0c0; text-decoration-color: #c0c0c0\">╰─────────────────────────────────────────────────────────────────────────────────────────────────────────────────╯</span>\n",
              "</pre>\n"
            ]
          },
          "metadata": {}
        },
        {
          "output_type": "stream",
          "name": "stdout",
          "text": [
            "\n",
            "\n"
          ]
        },
        {
          "output_type": "display_data",
          "data": {
            "text/plain": [
              "\u001b[3m   📊 Usage Statistics    \u001b[0m\n",
              "┌────────────────┬───────┐\n",
              "│ LLM Requests:  │ 4     │\n",
              "│ Input Tokens:  │ 12776 │\n",
              "│ Output Tokens: │ 659   │\n",
              "│ Total Tokens:  │ 13435 │\n",
              "└────────────────┴───────┘\n"
            ],
            "text/html": [
              "<pre style=\"white-space:pre;overflow-x:auto;line-height:normal;font-family:Menlo,'DejaVu Sans Mono',consolas,'Courier New',monospace\"><span style=\"font-style: italic\">   📊 Usage Statistics    </span>\n",
              "┌────────────────┬───────┐\n",
              "│ LLM Requests:  │ 4     │\n",
              "│ Input Tokens:  │ 12776 │\n",
              "│ Output Tokens: │ 659   │\n",
              "│ Total Tokens:  │ 13435 │\n",
              "└────────────────┴───────┘\n",
              "</pre>\n"
            ]
          },
          "metadata": {}
        },
        {
          "output_type": "display_data",
          "data": {
            "text/plain": [
              "\n",
              "\u001b[1;36mTotal Time Taken:\u001b[0m\u001b[36m \u001b[0m\u001b[1;36m14.\u001b[0m\u001b[36m95s\u001b[0m\n"
            ],
            "text/html": [
              "<pre style=\"white-space:pre;overflow-x:auto;line-height:normal;font-family:Menlo,'DejaVu Sans Mono',consolas,'Courier New',monospace\">\n",
              "<span style=\"color: #008080; text-decoration-color: #008080; font-weight: bold\">Total Time Taken:</span><span style=\"color: #008080; text-decoration-color: #008080\"> </span><span style=\"color: #008080; text-decoration-color: #008080; font-weight: bold\">14.</span><span style=\"color: #008080; text-decoration-color: #008080\">95s</span>\n",
              "</pre>\n"
            ]
          },
          "metadata": {}
        }
      ]
    },
    {
      "cell_type": "code",
      "source": [
        "# Perform a query\n",
        "response = qa.run(\n",
        "    \"What are the greatest health concerns facing astronauts during their time in space and upon their return to earth?\"\n",
        ")\n",
        "# Print the response\n",
        "response.display()"
      ],
      "metadata": {
        "colab": {
          "base_uri": "https://localhost:8080/",
          "height": 1000
        },
        "id": "jf87d7evh1OW",
        "outputId": "64e914f4-cd37-4bab-9526-9581f957de8a"
      },
      "execution_count": 20,
      "outputs": [
        {
          "output_type": "display_data",
          "data": {
            "text/plain": [
              "╭─────────────────────────────────────────────── 🔍 Original Query ───────────────────────────────────────────────╮\n",
              "│                                                                                                                 │\n",
              "│ What are the greatest health concerns facing astronauts during their time in space and upon their return to     │\n",
              "│ earth?                                                                                                          │\n",
              "│                                                                                                                 │\n",
              "╰─────────────────────────────────────────────────────────────────────────────────────────────────────────────────╯\n"
            ],
            "text/html": [
              "<pre style=\"white-space:pre;overflow-x:auto;line-height:normal;font-family:Menlo,'DejaVu Sans Mono',consolas,'Courier New',monospace\">╭─────────────────────────────────────────────── 🔍 Original Query ───────────────────────────────────────────────╮\n",
              "│                                                                                                                 │\n",
              "│ What are the greatest health concerns facing astronauts during their time in space and upon their return to     │\n",
              "│ earth?                                                                                                          │\n",
              "│                                                                                                                 │\n",
              "╰─────────────────────────────────────────────────────────────────────────────────────────────────────────────────╯\n",
              "</pre>\n"
            ]
          },
          "metadata": {}
        },
        {
          "output_type": "display_data",
          "data": {
            "text/plain": [
              "\u001b[36m╭─\u001b[0m\u001b[36m───────────────────────────────────────────────\u001b[0m 📝 Final Answer \u001b[36m───────────────────────────────────────────────\u001b[0m\u001b[36m─╮\u001b[0m\n",
              "\u001b[36m│\u001b[0m\u001b[36m                                                                                                                 \u001b[0m\u001b[36m│\u001b[0m\n",
              "\u001b[36m│\u001b[0m\u001b[36m \u001b[0m\u001b[36mAstronauts face several major health concerns during their time in space as well as upon their return to Earth.\u001b[0m\u001b[36m \u001b[0m\u001b[36m│\u001b[0m\n",
              "\u001b[36m│\u001b[0m\u001b[36m \u001b[0m\u001b[36mIn space, key health risks include mitochondrial dysfunction, immunological stress, vascular changes, fluid \u001b[0m\u001b[36m   \u001b[0m\u001b[36m \u001b[0m\u001b[36m│\u001b[0m\n",
              "\u001b[36m│\u001b[0m\u001b[36m \u001b[0m\u001b[36mshifts, cognitive performance decline, and alterations in telomere length, gene regulation, and genome \u001b[0m\u001b[36m        \u001b[0m\u001b[36m \u001b[0m\u001b[36m│\u001b[0m\n",
              "\u001b[36m│\u001b[0m\u001b[36m \u001b[0m\u001b[36mintegrity. These changes arise due to exposure to weightlessness, space radiation, restricted diet, reduced \u001b[0m\u001b[36m   \u001b[0m\u001b[36m \u001b[0m\u001b[36m│\u001b[0m\n",
              "\u001b[36m│\u001b[0m\u001b[36m \u001b[0m\u001b[36mphysical activity, and disrupted circadian rhythms. Spaceflight-associated neuro-ocular syndrome (SANS) affects\u001b[0m\u001b[36m \u001b[0m\u001b[36m│\u001b[0m\n",
              "\u001b[36m│\u001b[0m\u001b[36m \u001b[0m\u001b[36mabout 40% of astronauts, causing ocular issues like optic disc edema, globe flattening, and vision changes, \u001b[0m\u001b[36m   \u001b[0m\u001b[36m \u001b[0m\u001b[36m│\u001b[0m\n",
              "\u001b[36m│\u001b[0m\u001b[36m \u001b[0m\u001b[36mlikely related to cephalad fluid shifts and vascular congestion in the head and eyes. \u001b[0m\u001b[36m                         \u001b[0m\u001b[36m \u001b[0m\u001b[36m│\u001b[0m\n",
              "\u001b[36m│\u001b[0m\u001b[36m \u001b[0m\u001b[36m                                                                                                               \u001b[0m\u001b[36m \u001b[0m\u001b[36m│\u001b[0m\n",
              "\u001b[36m│\u001b[0m\u001b[36m \u001b[0m\u001b[36mUpon return to Earth, astronauts experience one of the greatest physiological challenges of spaceflight. This \u001b[0m\u001b[36m \u001b[0m\u001b[36m \u001b[0m\u001b[36m│\u001b[0m\n",
              "\u001b[36m│\u001b[0m\u001b[36m \u001b[0m\u001b[36mincludes exaggerated or impaired cardiovascular, musculoskeletal, stress, and inflammatory responses. Telomere \u001b[0m\u001b[36m \u001b[0m\u001b[36m│\u001b[0m\n",
              "\u001b[36m│\u001b[0m\u001b[36m \u001b[0m\u001b[36mlength is generally shorter after flight, which is a biomarker linked to aging and increased risk of \u001b[0m\u001b[36m          \u001b[0m\u001b[36m \u001b[0m\u001b[36m│\u001b[0m\n",
              "\u001b[36m│\u001b[0m\u001b[36m \u001b[0m\u001b[36mage-related diseases such as cardiovascular conditions and cancer. Recovery concerns also extend to \u001b[0m\u001b[36m           \u001b[0m\u001b[36m \u001b[0m\u001b[36m│\u001b[0m\n",
              "\u001b[36m│\u001b[0m\u001b[36m \u001b[0m\u001b[36mcardiovascular, ocular, and cognitive systems, with some molecular alterations persisting postflight.\u001b[0m\u001b[36m          \u001b[0m\u001b[36m \u001b[0m\u001b[36m│\u001b[0m\n",
              "\u001b[36m│\u001b[0m\u001b[36m \u001b[0m\u001b[36m                                                                                                               \u001b[0m\u001b[36m \u001b[0m\u001b[36m│\u001b[0m\n",
              "\u001b[36m│\u001b[0m\u001b[36m \u001b[0m\u001b[36mThe combination of these acute and long-term effects highlights the need for ongoing monitoring of astronaut \u001b[0m\u001b[36m  \u001b[0m\u001b[36m \u001b[0m\u001b[36m│\u001b[0m\n",
              "\u001b[36m│\u001b[0m\u001b[36m \u001b[0m\u001b[36mhealth and development of biological, biophysical, or pharmacological countermeasures, especially for longer \u001b[0m\u001b[36m  \u001b[0m\u001b[36m \u001b[0m\u001b[36m│\u001b[0m\n",
              "\u001b[36m│\u001b[0m\u001b[36m \u001b[0m\u001b[36mmissions beyond low Earth orbit where radiation exposure risks increase. These findings reflect integrated \u001b[0m\u001b[36m    \u001b[0m\u001b[36m \u001b[0m\u001b[36m│\u001b[0m\n",
              "\u001b[36m│\u001b[0m\u001b[36m \u001b[0m\u001b[36mmolecular, physiological, and behavioral challenges posed by extended spaceflight and are critical for planning\u001b[0m\u001b[36m \u001b[0m\u001b[36m│\u001b[0m\n",
              "\u001b[36m│\u001b[0m\u001b[36m \u001b[0m\u001b[36mfuture missions and ensuring astronaut safety and health.\u001b[0m\u001b[36m                                                      \u001b[0m\u001b[36m \u001b[0m\u001b[36m│\u001b[0m\n",
              "\u001b[36m│\u001b[0m\u001b[36m                                                                                                                 \u001b[0m\u001b[36m│\u001b[0m\n",
              "\u001b[36m╰─────────────────────────────────────────────────────────────────────────────────────────────────────────────────╯\u001b[0m\n"
            ],
            "text/html": [
              "<pre style=\"white-space:pre;overflow-x:auto;line-height:normal;font-family:Menlo,'DejaVu Sans Mono',consolas,'Courier New',monospace\"><span style=\"color: #008080; text-decoration-color: #008080\">╭────────────────────────────────────────────────</span> 📝 Final Answer <span style=\"color: #008080; text-decoration-color: #008080\">────────────────────────────────────────────────╮</span>\n",
              "<span style=\"color: #008080; text-decoration-color: #008080\">│                                                                                                                 │</span>\n",
              "<span style=\"color: #008080; text-decoration-color: #008080\">│ Astronauts face several major health concerns during their time in space as well as upon their return to Earth. │</span>\n",
              "<span style=\"color: #008080; text-decoration-color: #008080\">│ In space, key health risks include mitochondrial dysfunction, immunological stress, vascular changes, fluid     │</span>\n",
              "<span style=\"color: #008080; text-decoration-color: #008080\">│ shifts, cognitive performance decline, and alterations in telomere length, gene regulation, and genome          │</span>\n",
              "<span style=\"color: #008080; text-decoration-color: #008080\">│ integrity. These changes arise due to exposure to weightlessness, space radiation, restricted diet, reduced     │</span>\n",
              "<span style=\"color: #008080; text-decoration-color: #008080\">│ physical activity, and disrupted circadian rhythms. Spaceflight-associated neuro-ocular syndrome (SANS) affects │</span>\n",
              "<span style=\"color: #008080; text-decoration-color: #008080\">│ about 40% of astronauts, causing ocular issues like optic disc edema, globe flattening, and vision changes,     │</span>\n",
              "<span style=\"color: #008080; text-decoration-color: #008080\">│ likely related to cephalad fluid shifts and vascular congestion in the head and eyes.                           │</span>\n",
              "<span style=\"color: #008080; text-decoration-color: #008080\">│                                                                                                                 │</span>\n",
              "<span style=\"color: #008080; text-decoration-color: #008080\">│ Upon return to Earth, astronauts experience one of the greatest physiological challenges of spaceflight. This   │</span>\n",
              "<span style=\"color: #008080; text-decoration-color: #008080\">│ includes exaggerated or impaired cardiovascular, musculoskeletal, stress, and inflammatory responses. Telomere  │</span>\n",
              "<span style=\"color: #008080; text-decoration-color: #008080\">│ length is generally shorter after flight, which is a biomarker linked to aging and increased risk of            │</span>\n",
              "<span style=\"color: #008080; text-decoration-color: #008080\">│ age-related diseases such as cardiovascular conditions and cancer. Recovery concerns also extend to             │</span>\n",
              "<span style=\"color: #008080; text-decoration-color: #008080\">│ cardiovascular, ocular, and cognitive systems, with some molecular alterations persisting postflight.           │</span>\n",
              "<span style=\"color: #008080; text-decoration-color: #008080\">│                                                                                                                 │</span>\n",
              "<span style=\"color: #008080; text-decoration-color: #008080\">│ The combination of these acute and long-term effects highlights the need for ongoing monitoring of astronaut    │</span>\n",
              "<span style=\"color: #008080; text-decoration-color: #008080\">│ health and development of biological, biophysical, or pharmacological countermeasures, especially for longer    │</span>\n",
              "<span style=\"color: #008080; text-decoration-color: #008080\">│ missions beyond low Earth orbit where radiation exposure risks increase. These findings reflect integrated      │</span>\n",
              "<span style=\"color: #008080; text-decoration-color: #008080\">│ molecular, physiological, and behavioral challenges posed by extended spaceflight and are critical for planning │</span>\n",
              "<span style=\"color: #008080; text-decoration-color: #008080\">│ future missions and ensuring astronaut safety and health.                                                       │</span>\n",
              "<span style=\"color: #008080; text-decoration-color: #008080\">│                                                                                                                 │</span>\n",
              "<span style=\"color: #008080; text-decoration-color: #008080\">╰─────────────────────────────────────────────────────────────────────────────────────────────────────────────────╯</span>\n",
              "</pre>\n"
            ]
          },
          "metadata": {}
        },
        {
          "output_type": "display_data",
          "data": {
            "text/plain": [
              "\u001b[37m╭─\u001b[0m\u001b[37m──────────────────────────────────────────\u001b[0m 🔭 Searches Executed 1/2 \u001b[37m───────────────────────────────────────────\u001b[0m\u001b[37m─╮\u001b[0m\n",
              "\u001b[37m│\u001b[0m\u001b[37m                                                                                                                 \u001b[0m\u001b[37m│\u001b[0m\n",
              "\u001b[37m│\u001b[0m\u001b[37m \u001b[0m\u001b[1;35mQueryResultWithCollection\u001b[0m\u001b[1;37m(\u001b[0m\u001b[37m                                                                                     \u001b[0m\u001b[37m \u001b[0m\u001b[37m│\u001b[0m\n",
              "\u001b[37m│\u001b[0m\u001b[37m \u001b[0m\u001b[37m    \u001b[0m\u001b[33mqueries\u001b[0m\u001b[37m=\u001b[0m\u001b[1;37m[\u001b[0m\u001b[37m                                                                                                  \u001b[0m\u001b[37m \u001b[0m\u001b[37m│\u001b[0m\n",
              "\u001b[37m│\u001b[0m\u001b[37m \u001b[0m\u001b[37m        \u001b[0m\u001b[32m'greatest health concerns astronauts spaceflight'\u001b[0m\u001b[37m,\u001b[0m\u001b[37m                                                     \u001b[0m\u001b[37m \u001b[0m\u001b[37m│\u001b[0m\n",
              "\u001b[37m│\u001b[0m\u001b[37m \u001b[0m\u001b[37m        \u001b[0m\u001b[32m'health risks astronauts during space missions'\u001b[0m\u001b[37m,\u001b[0m\u001b[37m                                                       \u001b[0m\u001b[37m \u001b[0m\u001b[37m│\u001b[0m\n",
              "\u001b[37m│\u001b[0m\u001b[37m \u001b[0m\u001b[37m        \u001b[0m\u001b[32m'major astronaut medical issues in space environment'\u001b[0m\u001b[37m                                                  \u001b[0m\u001b[37m \u001b[0m\u001b[37m│\u001b[0m\n",
              "\u001b[37m│\u001b[0m\u001b[37m \u001b[0m\u001b[37m    \u001b[0m\u001b[1;37m]\u001b[0m\u001b[37m,\u001b[0m\u001b[37m                                                                                                         \u001b[0m\u001b[37m \u001b[0m\u001b[37m│\u001b[0m\n",
              "\u001b[37m│\u001b[0m\u001b[37m \u001b[0m\u001b[37m    \u001b[0m\u001b[33mfilters\u001b[0m\u001b[37m=\u001b[0m\u001b[1;37m[\u001b[0m\u001b[1;37m[\u001b[0m\u001b[1;37m]\u001b[0m\u001b[37m, \u001b[0m\u001b[1;37m[\u001b[0m\u001b[1;37m]\u001b[0m\u001b[37m, \u001b[0m\u001b[1;37m[\u001b[0m\u001b[1;37m]\u001b[0m\u001b[1;37m]\u001b[0m\u001b[37m,\u001b[0m\u001b[37m                                                                                      \u001b[0m\u001b[37m \u001b[0m\u001b[37m│\u001b[0m\n",
              "\u001b[37m│\u001b[0m\u001b[37m \u001b[0m\u001b[37m    \u001b[0m\u001b[33mfilter_operators\u001b[0m\u001b[37m=\u001b[0m\u001b[32m'OR'\u001b[0m\u001b[37m,\u001b[0m\u001b[37m                                                                                     \u001b[0m\u001b[37m \u001b[0m\u001b[37m│\u001b[0m\n",
              "\u001b[37m│\u001b[0m\u001b[37m \u001b[0m\u001b[37m    \u001b[0m\u001b[33mcollection\u001b[0m\u001b[37m=\u001b[0m\u001b[32m'SpaceMedResearch'\u001b[0m\u001b[37m                                                                              \u001b[0m\u001b[37m \u001b[0m\u001b[37m│\u001b[0m\n",
              "\u001b[37m│\u001b[0m\u001b[37m \u001b[0m\u001b[1;37m)\u001b[0m\u001b[37m                                                                                                              \u001b[0m\u001b[37m \u001b[0m\u001b[37m│\u001b[0m\n",
              "\u001b[37m│\u001b[0m\u001b[37m                                                                                                                 \u001b[0m\u001b[37m│\u001b[0m\n",
              "\u001b[37m╰─────────────────────────────────────────────────────────────────────────────────────────────────────────────────╯\u001b[0m\n"
            ],
            "text/html": [
              "<pre style=\"white-space:pre;overflow-x:auto;line-height:normal;font-family:Menlo,'DejaVu Sans Mono',consolas,'Courier New',monospace\"><span style=\"color: #c0c0c0; text-decoration-color: #c0c0c0\">╭───────────────────────────────────────────</span> 🔭 Searches Executed 1/2 <span style=\"color: #c0c0c0; text-decoration-color: #c0c0c0\">────────────────────────────────────────────╮</span>\n",
              "<span style=\"color: #c0c0c0; text-decoration-color: #c0c0c0\">│                                                                                                                 │</span>\n",
              "<span style=\"color: #c0c0c0; text-decoration-color: #c0c0c0\">│ </span><span style=\"color: #800080; text-decoration-color: #800080; font-weight: bold\">QueryResultWithCollection</span><span style=\"color: #c0c0c0; text-decoration-color: #c0c0c0; font-weight: bold\">(</span><span style=\"color: #c0c0c0; text-decoration-color: #c0c0c0\">                                                                                      │</span>\n",
              "<span style=\"color: #c0c0c0; text-decoration-color: #c0c0c0\">│     </span><span style=\"color: #808000; text-decoration-color: #808000\">queries</span><span style=\"color: #c0c0c0; text-decoration-color: #c0c0c0\">=</span><span style=\"color: #c0c0c0; text-decoration-color: #c0c0c0; font-weight: bold\">[</span><span style=\"color: #c0c0c0; text-decoration-color: #c0c0c0\">                                                                                                   │</span>\n",
              "<span style=\"color: #c0c0c0; text-decoration-color: #c0c0c0\">│         </span><span style=\"color: #008000; text-decoration-color: #008000\">'greatest health concerns astronauts spaceflight'</span><span style=\"color: #c0c0c0; text-decoration-color: #c0c0c0\">,                                                      │</span>\n",
              "<span style=\"color: #c0c0c0; text-decoration-color: #c0c0c0\">│         </span><span style=\"color: #008000; text-decoration-color: #008000\">'health risks astronauts during space missions'</span><span style=\"color: #c0c0c0; text-decoration-color: #c0c0c0\">,                                                        │</span>\n",
              "<span style=\"color: #c0c0c0; text-decoration-color: #c0c0c0\">│         </span><span style=\"color: #008000; text-decoration-color: #008000\">'major astronaut medical issues in space environment'</span><span style=\"color: #c0c0c0; text-decoration-color: #c0c0c0\">                                                   │</span>\n",
              "<span style=\"color: #c0c0c0; text-decoration-color: #c0c0c0\">│     </span><span style=\"color: #c0c0c0; text-decoration-color: #c0c0c0; font-weight: bold\">]</span><span style=\"color: #c0c0c0; text-decoration-color: #c0c0c0\">,                                                                                                          │</span>\n",
              "<span style=\"color: #c0c0c0; text-decoration-color: #c0c0c0\">│     </span><span style=\"color: #808000; text-decoration-color: #808000\">filters</span><span style=\"color: #c0c0c0; text-decoration-color: #c0c0c0\">=</span><span style=\"color: #c0c0c0; text-decoration-color: #c0c0c0; font-weight: bold\">[[]</span><span style=\"color: #c0c0c0; text-decoration-color: #c0c0c0\">, </span><span style=\"color: #c0c0c0; text-decoration-color: #c0c0c0; font-weight: bold\">[]</span><span style=\"color: #c0c0c0; text-decoration-color: #c0c0c0\">, </span><span style=\"color: #c0c0c0; text-decoration-color: #c0c0c0; font-weight: bold\">[]]</span><span style=\"color: #c0c0c0; text-decoration-color: #c0c0c0\">,                                                                                       │</span>\n",
              "<span style=\"color: #c0c0c0; text-decoration-color: #c0c0c0\">│     </span><span style=\"color: #808000; text-decoration-color: #808000\">filter_operators</span><span style=\"color: #c0c0c0; text-decoration-color: #c0c0c0\">=</span><span style=\"color: #008000; text-decoration-color: #008000\">'OR'</span><span style=\"color: #c0c0c0; text-decoration-color: #c0c0c0\">,                                                                                      │</span>\n",
              "<span style=\"color: #c0c0c0; text-decoration-color: #c0c0c0\">│     </span><span style=\"color: #808000; text-decoration-color: #808000\">collection</span><span style=\"color: #c0c0c0; text-decoration-color: #c0c0c0\">=</span><span style=\"color: #008000; text-decoration-color: #008000\">'SpaceMedResearch'</span><span style=\"color: #c0c0c0; text-decoration-color: #c0c0c0\">                                                                               │</span>\n",
              "<span style=\"color: #c0c0c0; text-decoration-color: #c0c0c0\">│ </span><span style=\"color: #c0c0c0; text-decoration-color: #c0c0c0; font-weight: bold\">)</span><span style=\"color: #c0c0c0; text-decoration-color: #c0c0c0\">                                                                                                               │</span>\n",
              "<span style=\"color: #c0c0c0; text-decoration-color: #c0c0c0\">│                                                                                                                 │</span>\n",
              "<span style=\"color: #c0c0c0; text-decoration-color: #c0c0c0\">╰─────────────────────────────────────────────────────────────────────────────────────────────────────────────────╯</span>\n",
              "</pre>\n"
            ]
          },
          "metadata": {}
        },
        {
          "output_type": "display_data",
          "data": {
            "text/plain": [
              "\u001b[37m╭─\u001b[0m\u001b[37m──────────────────────────────────────────\u001b[0m 🔭 Searches Executed 2/2 \u001b[37m───────────────────────────────────────────\u001b[0m\u001b[37m─╮\u001b[0m\n",
              "\u001b[37m│\u001b[0m\u001b[37m                                                                                                                 \u001b[0m\u001b[37m│\u001b[0m\n",
              "\u001b[37m│\u001b[0m\u001b[37m \u001b[0m\u001b[1;35mQueryResultWithCollection\u001b[0m\u001b[1;37m(\u001b[0m\u001b[37m                                                                                     \u001b[0m\u001b[37m \u001b[0m\u001b[37m│\u001b[0m\n",
              "\u001b[37m│\u001b[0m\u001b[37m \u001b[0m\u001b[37m    \u001b[0m\u001b[33mqueries\u001b[0m\u001b[37m=\u001b[0m\u001b[1;37m[\u001b[0m\u001b[32m'health concerns for astronauts upon return to Earth'\u001b[0m\u001b[1;37m]\u001b[0m\u001b[37m,\u001b[0m\u001b[37m                                           \u001b[0m\u001b[37m \u001b[0m\u001b[37m│\u001b[0m\n",
              "\u001b[37m│\u001b[0m\u001b[37m \u001b[0m\u001b[37m    \u001b[0m\u001b[33mfilters\u001b[0m\u001b[37m=\u001b[0m\u001b[1;37m[\u001b[0m\u001b[1;37m[\u001b[0m\u001b[1;37m]\u001b[0m\u001b[1;37m]\u001b[0m\u001b[37m,\u001b[0m\u001b[37m                                                                                              \u001b[0m\u001b[37m \u001b[0m\u001b[37m│\u001b[0m\n",
              "\u001b[37m│\u001b[0m\u001b[37m \u001b[0m\u001b[37m    \u001b[0m\u001b[33mfilter_operators\u001b[0m\u001b[37m=\u001b[0m\u001b[32m'AND'\u001b[0m\u001b[37m,\u001b[0m\u001b[37m                                                                                    \u001b[0m\u001b[37m \u001b[0m\u001b[37m│\u001b[0m\n",
              "\u001b[37m│\u001b[0m\u001b[37m \u001b[0m\u001b[37m    \u001b[0m\u001b[33mcollection\u001b[0m\u001b[37m=\u001b[0m\u001b[32m'SpaceMedResearch'\u001b[0m\u001b[37m                                                                              \u001b[0m\u001b[37m \u001b[0m\u001b[37m│\u001b[0m\n",
              "\u001b[37m│\u001b[0m\u001b[37m \u001b[0m\u001b[1;37m)\u001b[0m\u001b[37m                                                                                                              \u001b[0m\u001b[37m \u001b[0m\u001b[37m│\u001b[0m\n",
              "\u001b[37m│\u001b[0m\u001b[37m                                                                                                                 \u001b[0m\u001b[37m│\u001b[0m\n",
              "\u001b[37m╰─────────────────────────────────────────────────────────────────────────────────────────────────────────────────╯\u001b[0m\n"
            ],
            "text/html": [
              "<pre style=\"white-space:pre;overflow-x:auto;line-height:normal;font-family:Menlo,'DejaVu Sans Mono',consolas,'Courier New',monospace\"><span style=\"color: #c0c0c0; text-decoration-color: #c0c0c0\">╭───────────────────────────────────────────</span> 🔭 Searches Executed 2/2 <span style=\"color: #c0c0c0; text-decoration-color: #c0c0c0\">────────────────────────────────────────────╮</span>\n",
              "<span style=\"color: #c0c0c0; text-decoration-color: #c0c0c0\">│                                                                                                                 │</span>\n",
              "<span style=\"color: #c0c0c0; text-decoration-color: #c0c0c0\">│ </span><span style=\"color: #800080; text-decoration-color: #800080; font-weight: bold\">QueryResultWithCollection</span><span style=\"color: #c0c0c0; text-decoration-color: #c0c0c0; font-weight: bold\">(</span><span style=\"color: #c0c0c0; text-decoration-color: #c0c0c0\">                                                                                      │</span>\n",
              "<span style=\"color: #c0c0c0; text-decoration-color: #c0c0c0\">│     </span><span style=\"color: #808000; text-decoration-color: #808000\">queries</span><span style=\"color: #c0c0c0; text-decoration-color: #c0c0c0\">=</span><span style=\"color: #c0c0c0; text-decoration-color: #c0c0c0; font-weight: bold\">[</span><span style=\"color: #008000; text-decoration-color: #008000\">'health concerns for astronauts upon return to Earth'</span><span style=\"color: #c0c0c0; text-decoration-color: #c0c0c0; font-weight: bold\">]</span><span style=\"color: #c0c0c0; text-decoration-color: #c0c0c0\">,                                            │</span>\n",
              "<span style=\"color: #c0c0c0; text-decoration-color: #c0c0c0\">│     </span><span style=\"color: #808000; text-decoration-color: #808000\">filters</span><span style=\"color: #c0c0c0; text-decoration-color: #c0c0c0\">=</span><span style=\"color: #c0c0c0; text-decoration-color: #c0c0c0; font-weight: bold\">[[]]</span><span style=\"color: #c0c0c0; text-decoration-color: #c0c0c0\">,                                                                                               │</span>\n",
              "<span style=\"color: #c0c0c0; text-decoration-color: #c0c0c0\">│     </span><span style=\"color: #808000; text-decoration-color: #808000\">filter_operators</span><span style=\"color: #c0c0c0; text-decoration-color: #c0c0c0\">=</span><span style=\"color: #008000; text-decoration-color: #008000\">'AND'</span><span style=\"color: #c0c0c0; text-decoration-color: #c0c0c0\">,                                                                                     │</span>\n",
              "<span style=\"color: #c0c0c0; text-decoration-color: #c0c0c0\">│     </span><span style=\"color: #808000; text-decoration-color: #808000\">collection</span><span style=\"color: #c0c0c0; text-decoration-color: #c0c0c0\">=</span><span style=\"color: #008000; text-decoration-color: #008000\">'SpaceMedResearch'</span><span style=\"color: #c0c0c0; text-decoration-color: #c0c0c0\">                                                                               │</span>\n",
              "<span style=\"color: #c0c0c0; text-decoration-color: #c0c0c0\">│ </span><span style=\"color: #c0c0c0; text-decoration-color: #c0c0c0; font-weight: bold\">)</span><span style=\"color: #c0c0c0; text-decoration-color: #c0c0c0\">                                                                                                               │</span>\n",
              "<span style=\"color: #c0c0c0; text-decoration-color: #c0c0c0\">│                                                                                                                 │</span>\n",
              "<span style=\"color: #c0c0c0; text-decoration-color: #c0c0c0\">╰─────────────────────────────────────────────────────────────────────────────────────────────────────────────────╯</span>\n",
              "</pre>\n"
            ]
          },
          "metadata": {}
        },
        {
          "output_type": "display_data",
          "data": {
            "text/plain": [
              "\u001b[38;5;167m╭─────────────────────────────────────────────────────────────────────────────────────────────────────────────────╮\u001b[0m\n",
              "\u001b[38;5;167m│\u001b[0m\u001b[38;5;167m                                                                                                                 \u001b[0m\u001b[38;5;167m│\u001b[0m\n",
              "\u001b[38;5;167m│\u001b[0m\u001b[38;5;167m \u001b[0m\u001b[38;5;167m📊 No Aggregations Run\u001b[0m\u001b[38;5;167m                                                                                         \u001b[0m\u001b[38;5;167m \u001b[0m\u001b[38;5;167m│\u001b[0m\n",
              "\u001b[38;5;167m│\u001b[0m\u001b[38;5;167m                                                                                                                 \u001b[0m\u001b[38;5;167m│\u001b[0m\n",
              "\u001b[38;5;167m╰─────────────────────────────────────────────────────────────────────────────────────────────────────────────────╯\u001b[0m\n"
            ],
            "text/html": [
              "<pre style=\"white-space:pre;overflow-x:auto;line-height:normal;font-family:Menlo,'DejaVu Sans Mono',consolas,'Courier New',monospace\"><span style=\"color: #d75f5f; text-decoration-color: #d75f5f\">╭─────────────────────────────────────────────────────────────────────────────────────────────────────────────────╮</span>\n",
              "<span style=\"color: #d75f5f; text-decoration-color: #d75f5f\">│                                                                                                                 │</span>\n",
              "<span style=\"color: #d75f5f; text-decoration-color: #d75f5f\">│ 📊 No Aggregations Run                                                                                          │</span>\n",
              "<span style=\"color: #d75f5f; text-decoration-color: #d75f5f\">│                                                                                                                 │</span>\n",
              "<span style=\"color: #d75f5f; text-decoration-color: #d75f5f\">╰─────────────────────────────────────────────────────────────────────────────────────────────────────────────────╯</span>\n",
              "</pre>\n"
            ]
          },
          "metadata": {}
        },
        {
          "output_type": "display_data",
          "data": {
            "text/plain": [
              "\u001b[37m╭─\u001b[0m\u001b[37m─────────────────────────────────────────────────\u001b[0m 📚 Sources \u001b[37m──────────────────────────────────────────────────\u001b[0m\u001b[37m─╮\u001b[0m\n",
              "\u001b[37m│\u001b[0m\u001b[37m                                                                                                                 \u001b[0m\u001b[37m│\u001b[0m\n",
              "\u001b[37m│\u001b[0m\u001b[37m \u001b[0m\u001b[37m - object_id='55012bfd-4d9f-5db2-b170-f1773d245721' collection='SpaceMedResearch'\u001b[0m\u001b[37m                              \u001b[0m\u001b[37m \u001b[0m\u001b[37m│\u001b[0m\n",
              "\u001b[37m│\u001b[0m\u001b[37m \u001b[0m\u001b[37m - object_id='ef7bb03e-4534-5416-aed7-f514891157c6' collection='SpaceMedResearch'\u001b[0m\u001b[37m                              \u001b[0m\u001b[37m \u001b[0m\u001b[37m│\u001b[0m\n",
              "\u001b[37m│\u001b[0m\u001b[37m \u001b[0m\u001b[37m - object_id='bf6ff26f-e606-5531-b8a5-00cf9d1cd6f7' collection='SpaceMedResearch'\u001b[0m\u001b[37m                              \u001b[0m\u001b[37m \u001b[0m\u001b[37m│\u001b[0m\n",
              "\u001b[37m│\u001b[0m\u001b[37m \u001b[0m\u001b[37m - object_id='ac5030b9-326e-5af3-961c-758cfc06f938' collection='SpaceMedResearch'\u001b[0m\u001b[37m                              \u001b[0m\u001b[37m \u001b[0m\u001b[37m│\u001b[0m\n",
              "\u001b[37m│\u001b[0m\u001b[37m \u001b[0m\u001b[37m - object_id='8c0a3a6a-58ad-5c5f-b74b-121dfc374951' collection='SpaceMedResearch'\u001b[0m\u001b[37m                              \u001b[0m\u001b[37m \u001b[0m\u001b[37m│\u001b[0m\n",
              "\u001b[37m│\u001b[0m\u001b[37m \u001b[0m\u001b[37m - object_id='c7b54d0d-c418-58e2-8c4f-7849b59b28c3' collection='SpaceMedResearch'\u001b[0m\u001b[37m                              \u001b[0m\u001b[37m \u001b[0m\u001b[37m│\u001b[0m\n",
              "\u001b[37m│\u001b[0m\u001b[37m \u001b[0m\u001b[37m - object_id='96cae53f-5160-54a9-97e0-bd171a2b34cf' collection='SpaceMedResearch'\u001b[0m\u001b[37m                              \u001b[0m\u001b[37m \u001b[0m\u001b[37m│\u001b[0m\n",
              "\u001b[37m│\u001b[0m\u001b[37m \u001b[0m\u001b[37m - object_id='67cdbac9-f124-513f-9c71-2156e16dfb04' collection='SpaceMedResearch'\u001b[0m\u001b[37m                              \u001b[0m\u001b[37m \u001b[0m\u001b[37m│\u001b[0m\n",
              "\u001b[37m│\u001b[0m\u001b[37m \u001b[0m\u001b[37m - object_id='0234fea2-ef36-5df7-8845-8731da782a8b' collection='SpaceMedResearch'\u001b[0m\u001b[37m                              \u001b[0m\u001b[37m \u001b[0m\u001b[37m│\u001b[0m\n",
              "\u001b[37m│\u001b[0m\u001b[37m \u001b[0m\u001b[37m - object_id='fa0af7d8-5b5b-575a-aa2a-3420c233fb30' collection='SpaceMedResearch'\u001b[0m\u001b[37m                              \u001b[0m\u001b[37m \u001b[0m\u001b[37m│\u001b[0m\n",
              "\u001b[37m│\u001b[0m\u001b[37m \u001b[0m\u001b[37m - object_id='d5771e24-647b-592e-a36b-0d015f55ce46' collection='SpaceMedResearch'\u001b[0m\u001b[37m                              \u001b[0m\u001b[37m \u001b[0m\u001b[37m│\u001b[0m\n",
              "\u001b[37m│\u001b[0m\u001b[37m                                                                                                                 \u001b[0m\u001b[37m│\u001b[0m\n",
              "\u001b[37m╰─────────────────────────────────────────────────────────────────────────────────────────────────────────────────╯\u001b[0m\n"
            ],
            "text/html": [
              "<pre style=\"white-space:pre;overflow-x:auto;line-height:normal;font-family:Menlo,'DejaVu Sans Mono',consolas,'Courier New',monospace\"><span style=\"color: #c0c0c0; text-decoration-color: #c0c0c0\">╭──────────────────────────────────────────────────</span> 📚 Sources <span style=\"color: #c0c0c0; text-decoration-color: #c0c0c0\">───────────────────────────────────────────────────╮</span>\n",
              "<span style=\"color: #c0c0c0; text-decoration-color: #c0c0c0\">│                                                                                                                 │</span>\n",
              "<span style=\"color: #c0c0c0; text-decoration-color: #c0c0c0\">│  - object_id='55012bfd-4d9f-5db2-b170-f1773d245721' collection='SpaceMedResearch'                               │</span>\n",
              "<span style=\"color: #c0c0c0; text-decoration-color: #c0c0c0\">│  - object_id='ef7bb03e-4534-5416-aed7-f514891157c6' collection='SpaceMedResearch'                               │</span>\n",
              "<span style=\"color: #c0c0c0; text-decoration-color: #c0c0c0\">│  - object_id='bf6ff26f-e606-5531-b8a5-00cf9d1cd6f7' collection='SpaceMedResearch'                               │</span>\n",
              "<span style=\"color: #c0c0c0; text-decoration-color: #c0c0c0\">│  - object_id='ac5030b9-326e-5af3-961c-758cfc06f938' collection='SpaceMedResearch'                               │</span>\n",
              "<span style=\"color: #c0c0c0; text-decoration-color: #c0c0c0\">│  - object_id='8c0a3a6a-58ad-5c5f-b74b-121dfc374951' collection='SpaceMedResearch'                               │</span>\n",
              "<span style=\"color: #c0c0c0; text-decoration-color: #c0c0c0\">│  - object_id='c7b54d0d-c418-58e2-8c4f-7849b59b28c3' collection='SpaceMedResearch'                               │</span>\n",
              "<span style=\"color: #c0c0c0; text-decoration-color: #c0c0c0\">│  - object_id='96cae53f-5160-54a9-97e0-bd171a2b34cf' collection='SpaceMedResearch'                               │</span>\n",
              "<span style=\"color: #c0c0c0; text-decoration-color: #c0c0c0\">│  - object_id='67cdbac9-f124-513f-9c71-2156e16dfb04' collection='SpaceMedResearch'                               │</span>\n",
              "<span style=\"color: #c0c0c0; text-decoration-color: #c0c0c0\">│  - object_id='0234fea2-ef36-5df7-8845-8731da782a8b' collection='SpaceMedResearch'                               │</span>\n",
              "<span style=\"color: #c0c0c0; text-decoration-color: #c0c0c0\">│  - object_id='fa0af7d8-5b5b-575a-aa2a-3420c233fb30' collection='SpaceMedResearch'                               │</span>\n",
              "<span style=\"color: #c0c0c0; text-decoration-color: #c0c0c0\">│  - object_id='d5771e24-647b-592e-a36b-0d015f55ce46' collection='SpaceMedResearch'                               │</span>\n",
              "<span style=\"color: #c0c0c0; text-decoration-color: #c0c0c0\">│                                                                                                                 │</span>\n",
              "<span style=\"color: #c0c0c0; text-decoration-color: #c0c0c0\">╰─────────────────────────────────────────────────────────────────────────────────────────────────────────────────╯</span>\n",
              "</pre>\n"
            ]
          },
          "metadata": {}
        },
        {
          "output_type": "stream",
          "name": "stdout",
          "text": [
            "\n",
            "\n"
          ]
        },
        {
          "output_type": "display_data",
          "data": {
            "text/plain": [
              "\u001b[3m   📊 Usage Statistics    \u001b[0m\n",
              "┌────────────────┬───────┐\n",
              "│ LLM Requests:  │ 4     │\n",
              "│ Input Tokens:  │ 12191 │\n",
              "│ Output Tokens: │ 520   │\n",
              "│ Total Tokens:  │ 12711 │\n",
              "└────────────────┴───────┘\n"
            ],
            "text/html": [
              "<pre style=\"white-space:pre;overflow-x:auto;line-height:normal;font-family:Menlo,'DejaVu Sans Mono',consolas,'Courier New',monospace\"><span style=\"font-style: italic\">   📊 Usage Statistics    </span>\n",
              "┌────────────────┬───────┐\n",
              "│ LLM Requests:  │ 4     │\n",
              "│ Input Tokens:  │ 12191 │\n",
              "│ Output Tokens: │ 520   │\n",
              "│ Total Tokens:  │ 12711 │\n",
              "└────────────────┴───────┘\n",
              "</pre>\n"
            ]
          },
          "metadata": {}
        },
        {
          "output_type": "display_data",
          "data": {
            "text/plain": [
              "\n",
              "\u001b[1;36mTotal Time Taken:\u001b[0m\u001b[36m \u001b[0m\u001b[1;36m11.\u001b[0m\u001b[36m42s\u001b[0m\n"
            ],
            "text/html": [
              "<pre style=\"white-space:pre;overflow-x:auto;line-height:normal;font-family:Menlo,'DejaVu Sans Mono',consolas,'Courier New',monospace\">\n",
              "<span style=\"color: #008080; text-decoration-color: #008080; font-weight: bold\">Total Time Taken:</span><span style=\"color: #008080; text-decoration-color: #008080\"> </span><span style=\"color: #008080; text-decoration-color: #008080; font-weight: bold\">11.</span><span style=\"color: #008080; text-decoration-color: #008080\">42s</span>\n",
              "</pre>\n"
            ]
          },
          "metadata": {}
        }
      ]
    },
    {
      "cell_type": "code",
      "source": [
        "# Perform a query\n",
        "response = qa.run(\n",
        "    \"What is tyeh best cookie recipe in the world?\"\n",
        ")\n",
        "# Print the response\n",
        "response.display()"
      ],
      "metadata": {
        "id": "dODJmr63KwAC",
        "outputId": "99cccf24-7a25-45d2-9d23-7fcf6192e7e6",
        "colab": {
          "base_uri": "https://localhost:8080/",
          "height": 722
        }
      },
      "execution_count": null,
      "outputs": [
        {
          "output_type": "display_data",
          "data": {
            "text/plain": [
              "╭─────────────────────────────────────────────── 🔍 Original Query ───────────────────────────────────────────────╮\n",
              "│                                                                                                                 │\n",
              "│ What is tyeh best cookie recipe in the world?                                                                   │\n",
              "│                                                                                                                 │\n",
              "╰─────────────────────────────────────────────────────────────────────────────────────────────────────────────────╯\n"
            ],
            "text/html": [
              "<pre style=\"white-space:pre;overflow-x:auto;line-height:normal;font-family:Menlo,'DejaVu Sans Mono',consolas,'Courier New',monospace\">╭─────────────────────────────────────────────── 🔍 Original Query ───────────────────────────────────────────────╮\n",
              "│                                                                                                                 │\n",
              "│ What is tyeh best cookie recipe in the world?                                                                   │\n",
              "│                                                                                                                 │\n",
              "╰─────────────────────────────────────────────────────────────────────────────────────────────────────────────────╯\n",
              "</pre>\n"
            ]
          },
          "metadata": {}
        },
        {
          "output_type": "display_data",
          "data": {
            "text/plain": [
              "\u001b[36m╭─\u001b[0m\u001b[36m───────────────────────────────────────────────\u001b[0m 📝 Final Answer \u001b[36m───────────────────────────────────────────────\u001b[0m\u001b[36m─╮\u001b[0m\n",
              "\u001b[36m│\u001b[0m\u001b[36m                                                                                                                 \u001b[0m\u001b[36m│\u001b[0m\n",
              "\u001b[36m│\u001b[0m\u001b[36m \u001b[0m\u001b[36mThere are no relevant search or aggregation results detailing any cookie recipes, let alone the best cookie \u001b[0m\u001b[36m   \u001b[0m\u001b[36m \u001b[0m\u001b[36m│\u001b[0m\n",
              "\u001b[36m│\u001b[0m\u001b[36m \u001b[0m\u001b[36mrecipe in the world. Therefore, based on the provided information, it is not possible to determine or recommend\u001b[0m\u001b[36m \u001b[0m\u001b[36m│\u001b[0m\n",
              "\u001b[36m│\u001b[0m\u001b[36m \u001b[0m\u001b[36mthe best cookie recipe.\u001b[0m\u001b[36m                                                                                        \u001b[0m\u001b[36m \u001b[0m\u001b[36m│\u001b[0m\n",
              "\u001b[36m│\u001b[0m\u001b[36m                                                                                                                 \u001b[0m\u001b[36m│\u001b[0m\n",
              "\u001b[36m╰─────────────────────────────────────────────────────────────────────────────────────────────────────────────────╯\u001b[0m\n"
            ],
            "text/html": [
              "<pre style=\"white-space:pre;overflow-x:auto;line-height:normal;font-family:Menlo,'DejaVu Sans Mono',consolas,'Courier New',monospace\"><span style=\"color: #008080; text-decoration-color: #008080\">╭────────────────────────────────────────────────</span> 📝 Final Answer <span style=\"color: #008080; text-decoration-color: #008080\">────────────────────────────────────────────────╮</span>\n",
              "<span style=\"color: #008080; text-decoration-color: #008080\">│                                                                                                                 │</span>\n",
              "<span style=\"color: #008080; text-decoration-color: #008080\">│ There are no relevant search or aggregation results detailing any cookie recipes, let alone the best cookie     │</span>\n",
              "<span style=\"color: #008080; text-decoration-color: #008080\">│ recipe in the world. Therefore, based on the provided information, it is not possible to determine or recommend │</span>\n",
              "<span style=\"color: #008080; text-decoration-color: #008080\">│ the best cookie recipe.                                                                                         │</span>\n",
              "<span style=\"color: #008080; text-decoration-color: #008080\">│                                                                                                                 │</span>\n",
              "<span style=\"color: #008080; text-decoration-color: #008080\">╰─────────────────────────────────────────────────────────────────────────────────────────────────────────────────╯</span>\n",
              "</pre>\n"
            ]
          },
          "metadata": {}
        },
        {
          "output_type": "display_data",
          "data": {
            "text/plain": [
              "\u001b[37m╭─\u001b[0m\u001b[37m──────────────────────────────────────────\u001b[0m 🔭 Searches Executed 1/1 \u001b[37m───────────────────────────────────────────\u001b[0m\u001b[37m─╮\u001b[0m\n",
              "\u001b[37m│\u001b[0m\u001b[37m                                                                                                                 \u001b[0m\u001b[37m│\u001b[0m\n",
              "\u001b[37m│\u001b[0m\u001b[37m \u001b[0m\u001b[1;35mQueryResultWithCollection\u001b[0m\u001b[1;37m(\u001b[0m\u001b[37m                                                                                     \u001b[0m\u001b[37m \u001b[0m\u001b[37m│\u001b[0m\n",
              "\u001b[37m│\u001b[0m\u001b[37m \u001b[0m\u001b[37m    \u001b[0m\u001b[33mqueries\u001b[0m\u001b[37m=\u001b[0m\u001b[1;37m[\u001b[0m\u001b[32m'best cookie recipe'\u001b[0m\u001b[1;37m]\u001b[0m\u001b[37m,\u001b[0m\u001b[37m                                                                            \u001b[0m\u001b[37m \u001b[0m\u001b[37m│\u001b[0m\n",
              "\u001b[37m│\u001b[0m\u001b[37m \u001b[0m\u001b[37m    \u001b[0m\u001b[33mfilters\u001b[0m\u001b[37m=\u001b[0m\u001b[1;37m[\u001b[0m\u001b[1;37m[\u001b[0m\u001b[1;37m]\u001b[0m\u001b[1;37m]\u001b[0m\u001b[37m,\u001b[0m\u001b[37m                                                                                              \u001b[0m\u001b[37m \u001b[0m\u001b[37m│\u001b[0m\n",
              "\u001b[37m│\u001b[0m\u001b[37m \u001b[0m\u001b[37m    \u001b[0m\u001b[33mfilter_operators\u001b[0m\u001b[37m=\u001b[0m\u001b[32m'AND'\u001b[0m\u001b[37m,\u001b[0m\u001b[37m                                                                                    \u001b[0m\u001b[37m \u001b[0m\u001b[37m│\u001b[0m\n",
              "\u001b[37m│\u001b[0m\u001b[37m \u001b[0m\u001b[37m    \u001b[0m\u001b[33mcollection\u001b[0m\u001b[37m=\u001b[0m\u001b[32m'SpaceMedResearch'\u001b[0m\u001b[37m                                                                              \u001b[0m\u001b[37m \u001b[0m\u001b[37m│\u001b[0m\n",
              "\u001b[37m│\u001b[0m\u001b[37m \u001b[0m\u001b[1;37m)\u001b[0m\u001b[37m                                                                                                              \u001b[0m\u001b[37m \u001b[0m\u001b[37m│\u001b[0m\n",
              "\u001b[37m│\u001b[0m\u001b[37m                                                                                                                 \u001b[0m\u001b[37m│\u001b[0m\n",
              "\u001b[37m╰─────────────────────────────────────────────────────────────────────────────────────────────────────────────────╯\u001b[0m\n"
            ],
            "text/html": [
              "<pre style=\"white-space:pre;overflow-x:auto;line-height:normal;font-family:Menlo,'DejaVu Sans Mono',consolas,'Courier New',monospace\"><span style=\"color: #c0c0c0; text-decoration-color: #c0c0c0\">╭───────────────────────────────────────────</span> 🔭 Searches Executed 1/1 <span style=\"color: #c0c0c0; text-decoration-color: #c0c0c0\">────────────────────────────────────────────╮</span>\n",
              "<span style=\"color: #c0c0c0; text-decoration-color: #c0c0c0\">│                                                                                                                 │</span>\n",
              "<span style=\"color: #c0c0c0; text-decoration-color: #c0c0c0\">│ </span><span style=\"color: #800080; text-decoration-color: #800080; font-weight: bold\">QueryResultWithCollection</span><span style=\"color: #c0c0c0; text-decoration-color: #c0c0c0; font-weight: bold\">(</span><span style=\"color: #c0c0c0; text-decoration-color: #c0c0c0\">                                                                                      │</span>\n",
              "<span style=\"color: #c0c0c0; text-decoration-color: #c0c0c0\">│     </span><span style=\"color: #808000; text-decoration-color: #808000\">queries</span><span style=\"color: #c0c0c0; text-decoration-color: #c0c0c0\">=</span><span style=\"color: #c0c0c0; text-decoration-color: #c0c0c0; font-weight: bold\">[</span><span style=\"color: #008000; text-decoration-color: #008000\">'best cookie recipe'</span><span style=\"color: #c0c0c0; text-decoration-color: #c0c0c0; font-weight: bold\">]</span><span style=\"color: #c0c0c0; text-decoration-color: #c0c0c0\">,                                                                             │</span>\n",
              "<span style=\"color: #c0c0c0; text-decoration-color: #c0c0c0\">│     </span><span style=\"color: #808000; text-decoration-color: #808000\">filters</span><span style=\"color: #c0c0c0; text-decoration-color: #c0c0c0\">=</span><span style=\"color: #c0c0c0; text-decoration-color: #c0c0c0; font-weight: bold\">[[]]</span><span style=\"color: #c0c0c0; text-decoration-color: #c0c0c0\">,                                                                                               │</span>\n",
              "<span style=\"color: #c0c0c0; text-decoration-color: #c0c0c0\">│     </span><span style=\"color: #808000; text-decoration-color: #808000\">filter_operators</span><span style=\"color: #c0c0c0; text-decoration-color: #c0c0c0\">=</span><span style=\"color: #008000; text-decoration-color: #008000\">'AND'</span><span style=\"color: #c0c0c0; text-decoration-color: #c0c0c0\">,                                                                                     │</span>\n",
              "<span style=\"color: #c0c0c0; text-decoration-color: #c0c0c0\">│     </span><span style=\"color: #808000; text-decoration-color: #808000\">collection</span><span style=\"color: #c0c0c0; text-decoration-color: #c0c0c0\">=</span><span style=\"color: #008000; text-decoration-color: #008000\">'SpaceMedResearch'</span><span style=\"color: #c0c0c0; text-decoration-color: #c0c0c0\">                                                                               │</span>\n",
              "<span style=\"color: #c0c0c0; text-decoration-color: #c0c0c0\">│ </span><span style=\"color: #c0c0c0; text-decoration-color: #c0c0c0; font-weight: bold\">)</span><span style=\"color: #c0c0c0; text-decoration-color: #c0c0c0\">                                                                                                               │</span>\n",
              "<span style=\"color: #c0c0c0; text-decoration-color: #c0c0c0\">│                                                                                                                 │</span>\n",
              "<span style=\"color: #c0c0c0; text-decoration-color: #c0c0c0\">╰─────────────────────────────────────────────────────────────────────────────────────────────────────────────────╯</span>\n",
              "</pre>\n"
            ]
          },
          "metadata": {}
        },
        {
          "output_type": "display_data",
          "data": {
            "text/plain": [
              "\u001b[38;5;167m╭─────────────────────────────────────────────────────────────────────────────────────────────────────────────────╮\u001b[0m\n",
              "\u001b[38;5;167m│\u001b[0m\u001b[38;5;167m                                                                                                                 \u001b[0m\u001b[38;5;167m│\u001b[0m\n",
              "\u001b[38;5;167m│\u001b[0m\u001b[38;5;167m \u001b[0m\u001b[38;5;167m📊 No Aggregations Run\u001b[0m\u001b[38;5;167m                                                                                         \u001b[0m\u001b[38;5;167m \u001b[0m\u001b[38;5;167m│\u001b[0m\n",
              "\u001b[38;5;167m│\u001b[0m\u001b[38;5;167m                                                                                                                 \u001b[0m\u001b[38;5;167m│\u001b[0m\n",
              "\u001b[38;5;167m╰─────────────────────────────────────────────────────────────────────────────────────────────────────────────────╯\u001b[0m\n"
            ],
            "text/html": [
              "<pre style=\"white-space:pre;overflow-x:auto;line-height:normal;font-family:Menlo,'DejaVu Sans Mono',consolas,'Courier New',monospace\"><span style=\"color: #d75f5f; text-decoration-color: #d75f5f\">╭─────────────────────────────────────────────────────────────────────────────────────────────────────────────────╮</span>\n",
              "<span style=\"color: #d75f5f; text-decoration-color: #d75f5f\">│                                                                                                                 │</span>\n",
              "<span style=\"color: #d75f5f; text-decoration-color: #d75f5f\">│ 📊 No Aggregations Run                                                                                          │</span>\n",
              "<span style=\"color: #d75f5f; text-decoration-color: #d75f5f\">│                                                                                                                 │</span>\n",
              "<span style=\"color: #d75f5f; text-decoration-color: #d75f5f\">╰─────────────────────────────────────────────────────────────────────────────────────────────────────────────────╯</span>\n",
              "</pre>\n"
            ]
          },
          "metadata": {}
        },
        {
          "output_type": "display_data",
          "data": {
            "text/plain": [
              "\u001b[33m╭─\u001b[0m\u001b[33m───────────────────────────────────────────\u001b[0m ⚠️ Missing Information: \u001b[33m────────────────────────────────────────────\u001b[0m\u001b[33m─╮\u001b[0m\n",
              "\u001b[33m│\u001b[0m\u001b[33m                                                                                                                 \u001b[0m\u001b[33m│\u001b[0m\n",
              "\u001b[33m│\u001b[0m\u001b[33m \u001b[0m\u001b[33m- Any cookie recipe details\u001b[0m\u001b[33m                                                                                    \u001b[0m\u001b[33m \u001b[0m\u001b[33m│\u001b[0m\n",
              "\u001b[33m│\u001b[0m\u001b[33m \u001b[0m\u001b[33m- Recommendations or rankings of cookie recipes\u001b[0m\u001b[33m                                                                \u001b[0m\u001b[33m \u001b[0m\u001b[33m│\u001b[0m\n",
              "\u001b[33m│\u001b[0m\u001b[33m                                                                                                                 \u001b[0m\u001b[33m│\u001b[0m\n",
              "\u001b[33m╰─────────────────────────────────────────────────────────────────────────────────────────────────────────────────╯\u001b[0m\n"
            ],
            "text/html": [
              "<pre style=\"white-space:pre;overflow-x:auto;line-height:normal;font-family:Menlo,'DejaVu Sans Mono',consolas,'Courier New',monospace\"><span style=\"color: #808000; text-decoration-color: #808000\">╭────────────────────────────────────────────</span> ⚠️ Missing Information: <span style=\"color: #808000; text-decoration-color: #808000\">─────────────────────────────────────────────╮</span>\n",
              "<span style=\"color: #808000; text-decoration-color: #808000\">│                                                                                                                 │</span>\n",
              "<span style=\"color: #808000; text-decoration-color: #808000\">│ - Any cookie recipe details                                                                                     │</span>\n",
              "<span style=\"color: #808000; text-decoration-color: #808000\">│ - Recommendations or rankings of cookie recipes                                                                 │</span>\n",
              "<span style=\"color: #808000; text-decoration-color: #808000\">│                                                                                                                 │</span>\n",
              "<span style=\"color: #808000; text-decoration-color: #808000\">╰─────────────────────────────────────────────────────────────────────────────────────────────────────────────────╯</span>\n",
              "</pre>\n"
            ]
          },
          "metadata": {}
        },
        {
          "output_type": "stream",
          "name": "stdout",
          "text": [
            "\n",
            "\n"
          ]
        },
        {
          "output_type": "display_data",
          "data": {
            "text/plain": [
              "\u001b[3m   📊 Usage Statistics   \u001b[0m\n",
              "┌────────────────┬──────┐\n",
              "│ LLM Requests:  │ 3    │\n",
              "│ Input Tokens:  │ 3086 │\n",
              "│ Output Tokens: │ 168  │\n",
              "│ Total Tokens:  │ 3254 │\n",
              "└────────────────┴──────┘\n"
            ],
            "text/html": [
              "<pre style=\"white-space:pre;overflow-x:auto;line-height:normal;font-family:Menlo,'DejaVu Sans Mono',consolas,'Courier New',monospace\"><span style=\"font-style: italic\">   📊 Usage Statistics   </span>\n",
              "┌────────────────┬──────┐\n",
              "│ LLM Requests:  │ 3    │\n",
              "│ Input Tokens:  │ 3086 │\n",
              "│ Output Tokens: │ 168  │\n",
              "│ Total Tokens:  │ 3254 │\n",
              "└────────────────┴──────┘\n",
              "</pre>\n"
            ]
          },
          "metadata": {}
        },
        {
          "output_type": "display_data",
          "data": {
            "text/plain": [
              "\n",
              "\u001b[1;36mTotal Time Taken:\u001b[0m\u001b[36m \u001b[0m\u001b[1;36m4.\u001b[0m\u001b[36m48s\u001b[0m\n"
            ],
            "text/html": [
              "<pre style=\"white-space:pre;overflow-x:auto;line-height:normal;font-family:Menlo,'DejaVu Sans Mono',consolas,'Courier New',monospace\">\n",
              "<span style=\"color: #008080; text-decoration-color: #008080; font-weight: bold\">Total Time Taken:</span><span style=\"color: #008080; text-decoration-color: #008080\"> </span><span style=\"color: #008080; text-decoration-color: #008080; font-weight: bold\">4.</span><span style=\"color: #008080; text-decoration-color: #008080\">48s</span>\n",
              "</pre>\n"
            ]
          },
          "metadata": {}
        }
      ]
    },
    {
      "cell_type": "code",
      "source": [
        "# Perform a query\n",
        "response = qa.run(\n",
        "    \"What stress is common in pilots?\"\n",
        ")\n",
        "# Print the response\n",
        "response.display()"
      ],
      "metadata": {
        "id": "aiYSVvljKwyO",
        "outputId": "312f2a3f-6c32-4e05-9eec-78456aee5c54",
        "colab": {
          "base_uri": "https://localhost:8080/",
          "height": 802
        }
      },
      "execution_count": null,
      "outputs": [
        {
          "output_type": "display_data",
          "data": {
            "text/plain": [
              "╭─────────────────────────────────────────────── 🔍 Original Query ───────────────────────────────────────────────╮\n",
              "│                                                                                                                 │\n",
              "│ What stress is common in pilots?                                                                                │\n",
              "│                                                                                                                 │\n",
              "╰─────────────────────────────────────────────────────────────────────────────────────────────────────────────────╯\n"
            ],
            "text/html": [
              "<pre style=\"white-space:pre;overflow-x:auto;line-height:normal;font-family:Menlo,'DejaVu Sans Mono',consolas,'Courier New',monospace\">╭─────────────────────────────────────────────── 🔍 Original Query ───────────────────────────────────────────────╮\n",
              "│                                                                                                                 │\n",
              "│ What stress is common in pilots?                                                                                │\n",
              "│                                                                                                                 │\n",
              "╰─────────────────────────────────────────────────────────────────────────────────────────────────────────────────╯\n",
              "</pre>\n"
            ]
          },
          "metadata": {}
        },
        {
          "output_type": "display_data",
          "data": {
            "text/plain": [
              "\u001b[36m╭─\u001b[0m\u001b[36m───────────────────────────────────────────────\u001b[0m 📝 Final Answer \u001b[36m───────────────────────────────────────────────\u001b[0m\u001b[36m─╮\u001b[0m\n",
              "\u001b[36m│\u001b[0m\u001b[36m                                                                                                                 \u001b[0m\u001b[36m│\u001b[0m\n",
              "\u001b[36m│\u001b[0m\u001b[36m \u001b[0m\u001b[36mCommon stress factors among pilots include work-related pressures that can lead to mental health symptoms and \u001b[0m\u001b[36m \u001b[0m\u001b[36m \u001b[0m\u001b[36m│\u001b[0m\n",
              "\u001b[36m│\u001b[0m\u001b[36m \u001b[0m\u001b[36mpotentially psychiatric illness. Specific stressors for pilots encompass repeated proficiency simulator checks,\u001b[0m\u001b[36m \u001b[0m\u001b[36m│\u001b[0m\n",
              "\u001b[36m│\u001b[0m\u001b[36m \u001b[0m\u001b[36mintermittent medical exams, total flight hours obligations, employer pressure, and the significant \u001b[0m\u001b[36m            \u001b[0m\u001b[36m \u001b[0m\u001b[36m│\u001b[0m\n",
              "\u001b[36m│\u001b[0m\u001b[36m \u001b[0m\u001b[36mresponsibility associated with flying. Additional challenges faced by aircrew include environmental factors \u001b[0m\u001b[36m   \u001b[0m\u001b[36m \u001b[0m\u001b[36m│\u001b[0m\n",
              "\u001b[36m│\u001b[0m\u001b[36m \u001b[0m\u001b[36msuch as hypobaria (low atmospheric pressure), pressurization issues, sedentary conditions, jet lag, and dietary\u001b[0m\u001b[36m \u001b[0m\u001b[36m│\u001b[0m\n",
              "\u001b[36m│\u001b[0m\u001b[36m \u001b[0m\u001b[36mconcerns related to high-caloric foods. These combined elements contribute to the broad spectrum of stress \u001b[0m\u001b[36m    \u001b[0m\u001b[36m \u001b[0m\u001b[36m│\u001b[0m\n",
              "\u001b[36m│\u001b[0m\u001b[36m \u001b[0m\u001b[36mexperienced by pilots in their professional duties.\u001b[0m\u001b[36m                                                            \u001b[0m\u001b[36m \u001b[0m\u001b[36m│\u001b[0m\n",
              "\u001b[36m│\u001b[0m\u001b[36m                                                                                                                 \u001b[0m\u001b[36m│\u001b[0m\n",
              "\u001b[36m╰─────────────────────────────────────────────────────────────────────────────────────────────────────────────────╯\u001b[0m\n"
            ],
            "text/html": [
              "<pre style=\"white-space:pre;overflow-x:auto;line-height:normal;font-family:Menlo,'DejaVu Sans Mono',consolas,'Courier New',monospace\"><span style=\"color: #008080; text-decoration-color: #008080\">╭────────────────────────────────────────────────</span> 📝 Final Answer <span style=\"color: #008080; text-decoration-color: #008080\">────────────────────────────────────────────────╮</span>\n",
              "<span style=\"color: #008080; text-decoration-color: #008080\">│                                                                                                                 │</span>\n",
              "<span style=\"color: #008080; text-decoration-color: #008080\">│ Common stress factors among pilots include work-related pressures that can lead to mental health symptoms and   │</span>\n",
              "<span style=\"color: #008080; text-decoration-color: #008080\">│ potentially psychiatric illness. Specific stressors for pilots encompass repeated proficiency simulator checks, │</span>\n",
              "<span style=\"color: #008080; text-decoration-color: #008080\">│ intermittent medical exams, total flight hours obligations, employer pressure, and the significant              │</span>\n",
              "<span style=\"color: #008080; text-decoration-color: #008080\">│ responsibility associated with flying. Additional challenges faced by aircrew include environmental factors     │</span>\n",
              "<span style=\"color: #008080; text-decoration-color: #008080\">│ such as hypobaria (low atmospheric pressure), pressurization issues, sedentary conditions, jet lag, and dietary │</span>\n",
              "<span style=\"color: #008080; text-decoration-color: #008080\">│ concerns related to high-caloric foods. These combined elements contribute to the broad spectrum of stress      │</span>\n",
              "<span style=\"color: #008080; text-decoration-color: #008080\">│ experienced by pilots in their professional duties.                                                             │</span>\n",
              "<span style=\"color: #008080; text-decoration-color: #008080\">│                                                                                                                 │</span>\n",
              "<span style=\"color: #008080; text-decoration-color: #008080\">╰─────────────────────────────────────────────────────────────────────────────────────────────────────────────────╯</span>\n",
              "</pre>\n"
            ]
          },
          "metadata": {}
        },
        {
          "output_type": "display_data",
          "data": {
            "text/plain": [
              "\u001b[37m╭─\u001b[0m\u001b[37m──────────────────────────────────────────\u001b[0m 🔭 Searches Executed 1/1 \u001b[37m───────────────────────────────────────────\u001b[0m\u001b[37m─╮\u001b[0m\n",
              "\u001b[37m│\u001b[0m\u001b[37m                                                                                                                 \u001b[0m\u001b[37m│\u001b[0m\n",
              "\u001b[37m│\u001b[0m\u001b[37m \u001b[0m\u001b[1;35mQueryResultWithCollection\u001b[0m\u001b[1;37m(\u001b[0m\u001b[37m                                                                                     \u001b[0m\u001b[37m \u001b[0m\u001b[37m│\u001b[0m\n",
              "\u001b[37m│\u001b[0m\u001b[37m \u001b[0m\u001b[37m    \u001b[0m\u001b[33mqueries\u001b[0m\u001b[37m=\u001b[0m\u001b[1;37m[\u001b[0m\u001b[32m'common stress factors in pilots'\u001b[0m\u001b[1;37m]\u001b[0m\u001b[37m,\u001b[0m\u001b[37m                                                               \u001b[0m\u001b[37m \u001b[0m\u001b[37m│\u001b[0m\n",
              "\u001b[37m│\u001b[0m\u001b[37m \u001b[0m\u001b[37m    \u001b[0m\u001b[33mfilters\u001b[0m\u001b[37m=\u001b[0m\u001b[1;37m[\u001b[0m\u001b[1;37m[\u001b[0m\u001b[1;37m]\u001b[0m\u001b[1;37m]\u001b[0m\u001b[37m,\u001b[0m\u001b[37m                                                                                              \u001b[0m\u001b[37m \u001b[0m\u001b[37m│\u001b[0m\n",
              "\u001b[37m│\u001b[0m\u001b[37m \u001b[0m\u001b[37m    \u001b[0m\u001b[33mfilter_operators\u001b[0m\u001b[37m=\u001b[0m\u001b[32m'AND'\u001b[0m\u001b[37m,\u001b[0m\u001b[37m                                                                                    \u001b[0m\u001b[37m \u001b[0m\u001b[37m│\u001b[0m\n",
              "\u001b[37m│\u001b[0m\u001b[37m \u001b[0m\u001b[37m    \u001b[0m\u001b[33mcollection\u001b[0m\u001b[37m=\u001b[0m\u001b[32m'SpaceMedResearch'\u001b[0m\u001b[37m                                                                              \u001b[0m\u001b[37m \u001b[0m\u001b[37m│\u001b[0m\n",
              "\u001b[37m│\u001b[0m\u001b[37m \u001b[0m\u001b[1;37m)\u001b[0m\u001b[37m                                                                                                              \u001b[0m\u001b[37m \u001b[0m\u001b[37m│\u001b[0m\n",
              "\u001b[37m│\u001b[0m\u001b[37m                                                                                                                 \u001b[0m\u001b[37m│\u001b[0m\n",
              "\u001b[37m╰─────────────────────────────────────────────────────────────────────────────────────────────────────────────────╯\u001b[0m\n"
            ],
            "text/html": [
              "<pre style=\"white-space:pre;overflow-x:auto;line-height:normal;font-family:Menlo,'DejaVu Sans Mono',consolas,'Courier New',monospace\"><span style=\"color: #c0c0c0; text-decoration-color: #c0c0c0\">╭───────────────────────────────────────────</span> 🔭 Searches Executed 1/1 <span style=\"color: #c0c0c0; text-decoration-color: #c0c0c0\">────────────────────────────────────────────╮</span>\n",
              "<span style=\"color: #c0c0c0; text-decoration-color: #c0c0c0\">│                                                                                                                 │</span>\n",
              "<span style=\"color: #c0c0c0; text-decoration-color: #c0c0c0\">│ </span><span style=\"color: #800080; text-decoration-color: #800080; font-weight: bold\">QueryResultWithCollection</span><span style=\"color: #c0c0c0; text-decoration-color: #c0c0c0; font-weight: bold\">(</span><span style=\"color: #c0c0c0; text-decoration-color: #c0c0c0\">                                                                                      │</span>\n",
              "<span style=\"color: #c0c0c0; text-decoration-color: #c0c0c0\">│     </span><span style=\"color: #808000; text-decoration-color: #808000\">queries</span><span style=\"color: #c0c0c0; text-decoration-color: #c0c0c0\">=</span><span style=\"color: #c0c0c0; text-decoration-color: #c0c0c0; font-weight: bold\">[</span><span style=\"color: #008000; text-decoration-color: #008000\">'common stress factors in pilots'</span><span style=\"color: #c0c0c0; text-decoration-color: #c0c0c0; font-weight: bold\">]</span><span style=\"color: #c0c0c0; text-decoration-color: #c0c0c0\">,                                                                │</span>\n",
              "<span style=\"color: #c0c0c0; text-decoration-color: #c0c0c0\">│     </span><span style=\"color: #808000; text-decoration-color: #808000\">filters</span><span style=\"color: #c0c0c0; text-decoration-color: #c0c0c0\">=</span><span style=\"color: #c0c0c0; text-decoration-color: #c0c0c0; font-weight: bold\">[[]]</span><span style=\"color: #c0c0c0; text-decoration-color: #c0c0c0\">,                                                                                               │</span>\n",
              "<span style=\"color: #c0c0c0; text-decoration-color: #c0c0c0\">│     </span><span style=\"color: #808000; text-decoration-color: #808000\">filter_operators</span><span style=\"color: #c0c0c0; text-decoration-color: #c0c0c0\">=</span><span style=\"color: #008000; text-decoration-color: #008000\">'AND'</span><span style=\"color: #c0c0c0; text-decoration-color: #c0c0c0\">,                                                                                     │</span>\n",
              "<span style=\"color: #c0c0c0; text-decoration-color: #c0c0c0\">│     </span><span style=\"color: #808000; text-decoration-color: #808000\">collection</span><span style=\"color: #c0c0c0; text-decoration-color: #c0c0c0\">=</span><span style=\"color: #008000; text-decoration-color: #008000\">'SpaceMedResearch'</span><span style=\"color: #c0c0c0; text-decoration-color: #c0c0c0\">                                                                               │</span>\n",
              "<span style=\"color: #c0c0c0; text-decoration-color: #c0c0c0\">│ </span><span style=\"color: #c0c0c0; text-decoration-color: #c0c0c0; font-weight: bold\">)</span><span style=\"color: #c0c0c0; text-decoration-color: #c0c0c0\">                                                                                                               │</span>\n",
              "<span style=\"color: #c0c0c0; text-decoration-color: #c0c0c0\">│                                                                                                                 │</span>\n",
              "<span style=\"color: #c0c0c0; text-decoration-color: #c0c0c0\">╰─────────────────────────────────────────────────────────────────────────────────────────────────────────────────╯</span>\n",
              "</pre>\n"
            ]
          },
          "metadata": {}
        },
        {
          "output_type": "display_data",
          "data": {
            "text/plain": [
              "\u001b[38;5;167m╭─────────────────────────────────────────────────────────────────────────────────────────────────────────────────╮\u001b[0m\n",
              "\u001b[38;5;167m│\u001b[0m\u001b[38;5;167m                                                                                                                 \u001b[0m\u001b[38;5;167m│\u001b[0m\n",
              "\u001b[38;5;167m│\u001b[0m\u001b[38;5;167m \u001b[0m\u001b[38;5;167m📊 No Aggregations Run\u001b[0m\u001b[38;5;167m                                                                                         \u001b[0m\u001b[38;5;167m \u001b[0m\u001b[38;5;167m│\u001b[0m\n",
              "\u001b[38;5;167m│\u001b[0m\u001b[38;5;167m                                                                                                                 \u001b[0m\u001b[38;5;167m│\u001b[0m\n",
              "\u001b[38;5;167m╰─────────────────────────────────────────────────────────────────────────────────────────────────────────────────╯\u001b[0m\n"
            ],
            "text/html": [
              "<pre style=\"white-space:pre;overflow-x:auto;line-height:normal;font-family:Menlo,'DejaVu Sans Mono',consolas,'Courier New',monospace\"><span style=\"color: #d75f5f; text-decoration-color: #d75f5f\">╭─────────────────────────────────────────────────────────────────────────────────────────────────────────────────╮</span>\n",
              "<span style=\"color: #d75f5f; text-decoration-color: #d75f5f\">│                                                                                                                 │</span>\n",
              "<span style=\"color: #d75f5f; text-decoration-color: #d75f5f\">│ 📊 No Aggregations Run                                                                                          │</span>\n",
              "<span style=\"color: #d75f5f; text-decoration-color: #d75f5f\">│                                                                                                                 │</span>\n",
              "<span style=\"color: #d75f5f; text-decoration-color: #d75f5f\">╰─────────────────────────────────────────────────────────────────────────────────────────────────────────────────╯</span>\n",
              "</pre>\n"
            ]
          },
          "metadata": {}
        },
        {
          "output_type": "display_data",
          "data": {
            "text/plain": [
              "\u001b[37m╭─\u001b[0m\u001b[37m─────────────────────────────────────────────────\u001b[0m 📚 Sources \u001b[37m──────────────────────────────────────────────────\u001b[0m\u001b[37m─╮\u001b[0m\n",
              "\u001b[37m│\u001b[0m\u001b[37m                                                                                                                 \u001b[0m\u001b[37m│\u001b[0m\n",
              "\u001b[37m│\u001b[0m\u001b[37m \u001b[0m\u001b[37m - object_id='5eebc114-c7e8-5abc-ac2f-7c3912711e18' collection='SpaceMedResearch'\u001b[0m\u001b[37m                              \u001b[0m\u001b[37m \u001b[0m\u001b[37m│\u001b[0m\n",
              "\u001b[37m│\u001b[0m\u001b[37m \u001b[0m\u001b[37m - object_id='487fb746-fef3-50ac-8adf-286d7af1d302' collection='SpaceMedResearch'\u001b[0m\u001b[37m                              \u001b[0m\u001b[37m \u001b[0m\u001b[37m│\u001b[0m\n",
              "\u001b[37m│\u001b[0m\u001b[37m \u001b[0m\u001b[37m - object_id='3ccb8170-c56f-583f-bc74-07915c6fa558' collection='SpaceMedResearch'\u001b[0m\u001b[37m                              \u001b[0m\u001b[37m \u001b[0m\u001b[37m│\u001b[0m\n",
              "\u001b[37m│\u001b[0m\u001b[37m                                                                                                                 \u001b[0m\u001b[37m│\u001b[0m\n",
              "\u001b[37m╰─────────────────────────────────────────────────────────────────────────────────────────────────────────────────╯\u001b[0m\n"
            ],
            "text/html": [
              "<pre style=\"white-space:pre;overflow-x:auto;line-height:normal;font-family:Menlo,'DejaVu Sans Mono',consolas,'Courier New',monospace\"><span style=\"color: #c0c0c0; text-decoration-color: #c0c0c0\">╭──────────────────────────────────────────────────</span> 📚 Sources <span style=\"color: #c0c0c0; text-decoration-color: #c0c0c0\">───────────────────────────────────────────────────╮</span>\n",
              "<span style=\"color: #c0c0c0; text-decoration-color: #c0c0c0\">│                                                                                                                 │</span>\n",
              "<span style=\"color: #c0c0c0; text-decoration-color: #c0c0c0\">│  - object_id='5eebc114-c7e8-5abc-ac2f-7c3912711e18' collection='SpaceMedResearch'                               │</span>\n",
              "<span style=\"color: #c0c0c0; text-decoration-color: #c0c0c0\">│  - object_id='487fb746-fef3-50ac-8adf-286d7af1d302' collection='SpaceMedResearch'                               │</span>\n",
              "<span style=\"color: #c0c0c0; text-decoration-color: #c0c0c0\">│  - object_id='3ccb8170-c56f-583f-bc74-07915c6fa558' collection='SpaceMedResearch'                               │</span>\n",
              "<span style=\"color: #c0c0c0; text-decoration-color: #c0c0c0\">│                                                                                                                 │</span>\n",
              "<span style=\"color: #c0c0c0; text-decoration-color: #c0c0c0\">╰─────────────────────────────────────────────────────────────────────────────────────────────────────────────────╯</span>\n",
              "</pre>\n"
            ]
          },
          "metadata": {}
        },
        {
          "output_type": "stream",
          "name": "stdout",
          "text": [
            "\n",
            "\n"
          ]
        },
        {
          "output_type": "display_data",
          "data": {
            "text/plain": [
              "\u001b[3m   📊 Usage Statistics   \u001b[0m\n",
              "┌────────────────┬──────┐\n",
              "│ LLM Requests:  │ 3    │\n",
              "│ Input Tokens:  │ 3058 │\n",
              "│ Output Tokens: │ 231  │\n",
              "│ Total Tokens:  │ 3289 │\n",
              "└────────────────┴──────┘\n"
            ],
            "text/html": [
              "<pre style=\"white-space:pre;overflow-x:auto;line-height:normal;font-family:Menlo,'DejaVu Sans Mono',consolas,'Courier New',monospace\"><span style=\"font-style: italic\">   📊 Usage Statistics   </span>\n",
              "┌────────────────┬──────┐\n",
              "│ LLM Requests:  │ 3    │\n",
              "│ Input Tokens:  │ 3058 │\n",
              "│ Output Tokens: │ 231  │\n",
              "│ Total Tokens:  │ 3289 │\n",
              "└────────────────┴──────┘\n",
              "</pre>\n"
            ]
          },
          "metadata": {}
        },
        {
          "output_type": "display_data",
          "data": {
            "text/plain": [
              "\n",
              "\u001b[1;36mTotal Time Taken:\u001b[0m\u001b[36m \u001b[0m\u001b[1;36m4.\u001b[0m\u001b[36m75s\u001b[0m\n"
            ],
            "text/html": [
              "<pre style=\"white-space:pre;overflow-x:auto;line-height:normal;font-family:Menlo,'DejaVu Sans Mono',consolas,'Courier New',monospace\">\n",
              "<span style=\"color: #008080; text-decoration-color: #008080; font-weight: bold\">Total Time Taken:</span><span style=\"color: #008080; text-decoration-color: #008080\"> </span><span style=\"color: #008080; text-decoration-color: #008080; font-weight: bold\">4.</span><span style=\"color: #008080; text-decoration-color: #008080\">75s</span>\n",
              "</pre>\n"
            ]
          },
          "metadata": {}
        }
      ]
    },
    {
      "cell_type": "code",
      "source": [
        "# Perform a query for articles with contradictory information\n",
        "response = qa.run(\n",
        "    \"Do all astronauts who engage in long-duration spaceflight develop structural changes in the eyes (Spaceflight-Associated Neuro-ocular Syndrome, or SANS)?\"\n",
        ")\n",
        "# Print the response\n",
        "response.display()"
      ],
      "metadata": {
        "id": "dgcTFNm-SyvU",
        "outputId": "6c5fce48-5771-4fb6-af12-079eed1580d2",
        "colab": {
          "base_uri": "https://localhost:8080/",
          "height": 1000
        }
      },
      "execution_count": null,
      "outputs": [
        {
          "output_type": "display_data",
          "data": {
            "text/plain": [
              "╭─────────────────────────────────────────────── 🔍 Original Query ───────────────────────────────────────────────╮\n",
              "│                                                                                                                 │\n",
              "│ Do all astronauts who engage in long-duration spaceflight develop structural changes in the eyes                │\n",
              "│ (Spaceflight-Associated Neuro-ocular Syndrome, or SANS)?                                                        │\n",
              "│                                                                                                                 │\n",
              "╰─────────────────────────────────────────────────────────────────────────────────────────────────────────────────╯\n"
            ],
            "text/html": [
              "<pre style=\"white-space:pre;overflow-x:auto;line-height:normal;font-family:Menlo,'DejaVu Sans Mono',consolas,'Courier New',monospace\">╭─────────────────────────────────────────────── 🔍 Original Query ───────────────────────────────────────────────╮\n",
              "│                                                                                                                 │\n",
              "│ Do all astronauts who engage in long-duration spaceflight develop structural changes in the eyes                │\n",
              "│ (Spaceflight-Associated Neuro-ocular Syndrome, or SANS)?                                                        │\n",
              "│                                                                                                                 │\n",
              "╰─────────────────────────────────────────────────────────────────────────────────────────────────────────────────╯\n",
              "</pre>\n"
            ]
          },
          "metadata": {}
        },
        {
          "output_type": "display_data",
          "data": {
            "text/plain": [
              "\u001b[36m╭─\u001b[0m\u001b[36m───────────────────────────────────────────────\u001b[0m 📝 Final Answer \u001b[36m───────────────────────────────────────────────\u001b[0m\u001b[36m─╮\u001b[0m\n",
              "\u001b[36m│\u001b[0m\u001b[36m                                                                                                                 \u001b[0m\u001b[36m│\u001b[0m\n",
              "\u001b[36m│\u001b[0m\u001b[36m \u001b[0m\u001b[36mNot all astronauts who engage in long-duration spaceflight develop structural changes in the eyes associated \u001b[0m\u001b[36m  \u001b[0m\u001b[36m \u001b[0m\u001b[36m│\u001b[0m\n",
              "\u001b[36m│\u001b[0m\u001b[36m \u001b[0m\u001b[36mwith Spaceflight-Associated Neuro-ocular Syndrome (SANS). Evidence indicates that about 40% of astronauts have \u001b[0m\u001b[36m \u001b[0m\u001b[36m│\u001b[0m\n",
              "\u001b[36m│\u001b[0m\u001b[36m \u001b[0m\u001b[36mexperienced one or more ocular changes after long-duration missions on the International Space Station (ISS). \u001b[0m\u001b[36m \u001b[0m\u001b[36m \u001b[0m\u001b[36m│\u001b[0m\n",
              "\u001b[36m│\u001b[0m\u001b[36m \u001b[0m\u001b[36mThese structural changes include optic disc edema, choroidal folds, globe flattening, hyperopic shifts, \u001b[0m\u001b[36m       \u001b[0m\u001b[36m \u001b[0m\u001b[36m│\u001b[0m\n",
              "\u001b[36m│\u001b[0m\u001b[36m \u001b[0m\u001b[36mcotton-wool spots, and a slight decrease in axial eye length. The severity and incidence of these changes vary \u001b[0m\u001b[36m \u001b[0m\u001b[36m│\u001b[0m\n",
              "\u001b[36m│\u001b[0m\u001b[36m \u001b[0m\u001b[36mamong individuals. The exact cause and mechanisms behind SANS remain unclear, which has hindered the \u001b[0m\u001b[36m          \u001b[0m\u001b[36m \u001b[0m\u001b[36m│\u001b[0m\n",
              "\u001b[36m│\u001b[0m\u001b[36m \u001b[0m\u001b[36mdevelopment of effective countermeasures. Therefore, while SANS is a significant health risk for some \u001b[0m\u001b[36m         \u001b[0m\u001b[36m \u001b[0m\u001b[36m│\u001b[0m\n",
              "\u001b[36m│\u001b[0m\u001b[36m \u001b[0m\u001b[36mastronauts, it does not affect all individuals undertaking long-duration spaceflight.\u001b[0m\u001b[36m                          \u001b[0m\u001b[36m \u001b[0m\u001b[36m│\u001b[0m\n",
              "\u001b[36m│\u001b[0m\u001b[36m                                                                                                                 \u001b[0m\u001b[36m│\u001b[0m\n",
              "\u001b[36m╰─────────────────────────────────────────────────────────────────────────────────────────────────────────────────╯\u001b[0m\n"
            ],
            "text/html": [
              "<pre style=\"white-space:pre;overflow-x:auto;line-height:normal;font-family:Menlo,'DejaVu Sans Mono',consolas,'Courier New',monospace\"><span style=\"color: #008080; text-decoration-color: #008080\">╭────────────────────────────────────────────────</span> 📝 Final Answer <span style=\"color: #008080; text-decoration-color: #008080\">────────────────────────────────────────────────╮</span>\n",
              "<span style=\"color: #008080; text-decoration-color: #008080\">│                                                                                                                 │</span>\n",
              "<span style=\"color: #008080; text-decoration-color: #008080\">│ Not all astronauts who engage in long-duration spaceflight develop structural changes in the eyes associated    │</span>\n",
              "<span style=\"color: #008080; text-decoration-color: #008080\">│ with Spaceflight-Associated Neuro-ocular Syndrome (SANS). Evidence indicates that about 40% of astronauts have  │</span>\n",
              "<span style=\"color: #008080; text-decoration-color: #008080\">│ experienced one or more ocular changes after long-duration missions on the International Space Station (ISS).   │</span>\n",
              "<span style=\"color: #008080; text-decoration-color: #008080\">│ These structural changes include optic disc edema, choroidal folds, globe flattening, hyperopic shifts,         │</span>\n",
              "<span style=\"color: #008080; text-decoration-color: #008080\">│ cotton-wool spots, and a slight decrease in axial eye length. The severity and incidence of these changes vary  │</span>\n",
              "<span style=\"color: #008080; text-decoration-color: #008080\">│ among individuals. The exact cause and mechanisms behind SANS remain unclear, which has hindered the            │</span>\n",
              "<span style=\"color: #008080; text-decoration-color: #008080\">│ development of effective countermeasures. Therefore, while SANS is a significant health risk for some           │</span>\n",
              "<span style=\"color: #008080; text-decoration-color: #008080\">│ astronauts, it does not affect all individuals undertaking long-duration spaceflight.                           │</span>\n",
              "<span style=\"color: #008080; text-decoration-color: #008080\">│                                                                                                                 │</span>\n",
              "<span style=\"color: #008080; text-decoration-color: #008080\">╰─────────────────────────────────────────────────────────────────────────────────────────────────────────────────╯</span>\n",
              "</pre>\n"
            ]
          },
          "metadata": {}
        },
        {
          "output_type": "display_data",
          "data": {
            "text/plain": [
              "\u001b[37m╭─\u001b[0m\u001b[37m──────────────────────────────────────────\u001b[0m 🔭 Searches Executed 1/2 \u001b[37m───────────────────────────────────────────\u001b[0m\u001b[37m─╮\u001b[0m\n",
              "\u001b[37m│\u001b[0m\u001b[37m                                                                                                                 \u001b[0m\u001b[37m│\u001b[0m\n",
              "\u001b[37m│\u001b[0m\u001b[37m \u001b[0m\u001b[1;35mQueryResultWithCollection\u001b[0m\u001b[1;37m(\u001b[0m\u001b[37m                                                                                     \u001b[0m\u001b[37m \u001b[0m\u001b[37m│\u001b[0m\n",
              "\u001b[37m│\u001b[0m\u001b[37m \u001b[0m\u001b[37m    \u001b[0m\u001b[33mqueries\u001b[0m\u001b[37m=\u001b[0m\u001b[1;37m[\u001b[0m\u001b[32m'astronauts long-duration spaceflight Spaceflight-Associated Neuro-ocular Syndrome development'\u001b[0m\u001b[1;37m]\u001b[0m\u001b[37m,\u001b[0m\u001b[37m \u001b[0m\u001b[37m \u001b[0m\u001b[37m│\u001b[0m\n",
              "\u001b[37m│\u001b[0m\u001b[37m \u001b[0m\u001b[37m    \u001b[0m\u001b[33mfilters\u001b[0m\u001b[37m=\u001b[0m\u001b[1;37m[\u001b[0m\u001b[1;37m[\u001b[0m\u001b[1;37m]\u001b[0m\u001b[1;37m]\u001b[0m\u001b[37m,\u001b[0m\u001b[37m                                                                                              \u001b[0m\u001b[37m \u001b[0m\u001b[37m│\u001b[0m\n",
              "\u001b[37m│\u001b[0m\u001b[37m \u001b[0m\u001b[37m    \u001b[0m\u001b[33mfilter_operators\u001b[0m\u001b[37m=\u001b[0m\u001b[32m'AND'\u001b[0m\u001b[37m,\u001b[0m\u001b[37m                                                                                    \u001b[0m\u001b[37m \u001b[0m\u001b[37m│\u001b[0m\n",
              "\u001b[37m│\u001b[0m\u001b[37m \u001b[0m\u001b[37m    \u001b[0m\u001b[33mcollection\u001b[0m\u001b[37m=\u001b[0m\u001b[32m'SpaceMedResearch'\u001b[0m\u001b[37m                                                                              \u001b[0m\u001b[37m \u001b[0m\u001b[37m│\u001b[0m\n",
              "\u001b[37m│\u001b[0m\u001b[37m \u001b[0m\u001b[1;37m)\u001b[0m\u001b[37m                                                                                                              \u001b[0m\u001b[37m \u001b[0m\u001b[37m│\u001b[0m\n",
              "\u001b[37m│\u001b[0m\u001b[37m                                                                                                                 \u001b[0m\u001b[37m│\u001b[0m\n",
              "\u001b[37m╰─────────────────────────────────────────────────────────────────────────────────────────────────────────────────╯\u001b[0m\n"
            ],
            "text/html": [
              "<pre style=\"white-space:pre;overflow-x:auto;line-height:normal;font-family:Menlo,'DejaVu Sans Mono',consolas,'Courier New',monospace\"><span style=\"color: #c0c0c0; text-decoration-color: #c0c0c0\">╭───────────────────────────────────────────</span> 🔭 Searches Executed 1/2 <span style=\"color: #c0c0c0; text-decoration-color: #c0c0c0\">────────────────────────────────────────────╮</span>\n",
              "<span style=\"color: #c0c0c0; text-decoration-color: #c0c0c0\">│                                                                                                                 │</span>\n",
              "<span style=\"color: #c0c0c0; text-decoration-color: #c0c0c0\">│ </span><span style=\"color: #800080; text-decoration-color: #800080; font-weight: bold\">QueryResultWithCollection</span><span style=\"color: #c0c0c0; text-decoration-color: #c0c0c0; font-weight: bold\">(</span><span style=\"color: #c0c0c0; text-decoration-color: #c0c0c0\">                                                                                      │</span>\n",
              "<span style=\"color: #c0c0c0; text-decoration-color: #c0c0c0\">│     </span><span style=\"color: #808000; text-decoration-color: #808000\">queries</span><span style=\"color: #c0c0c0; text-decoration-color: #c0c0c0\">=</span><span style=\"color: #c0c0c0; text-decoration-color: #c0c0c0; font-weight: bold\">[</span><span style=\"color: #008000; text-decoration-color: #008000\">'astronauts long-duration spaceflight Spaceflight-Associated Neuro-ocular Syndrome development'</span><span style=\"color: #c0c0c0; text-decoration-color: #c0c0c0; font-weight: bold\">]</span><span style=\"color: #c0c0c0; text-decoration-color: #c0c0c0\">,  │</span>\n",
              "<span style=\"color: #c0c0c0; text-decoration-color: #c0c0c0\">│     </span><span style=\"color: #808000; text-decoration-color: #808000\">filters</span><span style=\"color: #c0c0c0; text-decoration-color: #c0c0c0\">=</span><span style=\"color: #c0c0c0; text-decoration-color: #c0c0c0; font-weight: bold\">[[]]</span><span style=\"color: #c0c0c0; text-decoration-color: #c0c0c0\">,                                                                                               │</span>\n",
              "<span style=\"color: #c0c0c0; text-decoration-color: #c0c0c0\">│     </span><span style=\"color: #808000; text-decoration-color: #808000\">filter_operators</span><span style=\"color: #c0c0c0; text-decoration-color: #c0c0c0\">=</span><span style=\"color: #008000; text-decoration-color: #008000\">'AND'</span><span style=\"color: #c0c0c0; text-decoration-color: #c0c0c0\">,                                                                                     │</span>\n",
              "<span style=\"color: #c0c0c0; text-decoration-color: #c0c0c0\">│     </span><span style=\"color: #808000; text-decoration-color: #808000\">collection</span><span style=\"color: #c0c0c0; text-decoration-color: #c0c0c0\">=</span><span style=\"color: #008000; text-decoration-color: #008000\">'SpaceMedResearch'</span><span style=\"color: #c0c0c0; text-decoration-color: #c0c0c0\">                                                                               │</span>\n",
              "<span style=\"color: #c0c0c0; text-decoration-color: #c0c0c0\">│ </span><span style=\"color: #c0c0c0; text-decoration-color: #c0c0c0; font-weight: bold\">)</span><span style=\"color: #c0c0c0; text-decoration-color: #c0c0c0\">                                                                                                               │</span>\n",
              "<span style=\"color: #c0c0c0; text-decoration-color: #c0c0c0\">│                                                                                                                 │</span>\n",
              "<span style=\"color: #c0c0c0; text-decoration-color: #c0c0c0\">╰─────────────────────────────────────────────────────────────────────────────────────────────────────────────────╯</span>\n",
              "</pre>\n"
            ]
          },
          "metadata": {}
        },
        {
          "output_type": "display_data",
          "data": {
            "text/plain": [
              "\u001b[37m╭─\u001b[0m\u001b[37m──────────────────────────────────────────\u001b[0m 🔭 Searches Executed 2/2 \u001b[37m───────────────────────────────────────────\u001b[0m\u001b[37m─╮\u001b[0m\n",
              "\u001b[37m│\u001b[0m\u001b[37m                                                                                                                 \u001b[0m\u001b[37m│\u001b[0m\n",
              "\u001b[37m│\u001b[0m\u001b[37m \u001b[0m\u001b[1;35mQueryResultWithCollection\u001b[0m\u001b[1;37m(\u001b[0m\u001b[37m                                                                                     \u001b[0m\u001b[37m \u001b[0m\u001b[37m│\u001b[0m\n",
              "\u001b[37m│\u001b[0m\u001b[37m \u001b[0m\u001b[37m    \u001b[0m\u001b[33mqueries\u001b[0m\u001b[37m=\u001b[0m\u001b[1;37m[\u001b[0m\u001b[37m                                                                                                  \u001b[0m\u001b[37m \u001b[0m\u001b[37m│\u001b[0m\n",
              "\u001b[37m│\u001b[0m\u001b[37m \u001b[0m\u001b[37m        \u001b[0m\u001b[32m'structural changes in the eyes associated with Spaceflight-Associated Neuro-ocular Syndrome'\u001b[0m\u001b[37m,\u001b[0m\u001b[37m         \u001b[0m\u001b[37m \u001b[0m\u001b[37m│\u001b[0m\n",
              "\u001b[37m│\u001b[0m\u001b[37m \u001b[0m\u001b[37m        \u001b[0m\u001b[32m'eye changes seen in Spaceflight-Associated Neuro-ocular Syndrome'\u001b[0m\u001b[37m,\u001b[0m\u001b[37m                                    \u001b[0m\u001b[37m \u001b[0m\u001b[37m│\u001b[0m\n",
              "\u001b[37m│\u001b[0m\u001b[37m \u001b[0m\u001b[37m        \u001b[0m\u001b[32m'ocular morphology alterations in Spaceflight-Associated Neuro-ocular Syndrome'\u001b[0m\u001b[37m                        \u001b[0m\u001b[37m \u001b[0m\u001b[37m│\u001b[0m\n",
              "\u001b[37m│\u001b[0m\u001b[37m \u001b[0m\u001b[37m    \u001b[0m\u001b[1;37m]\u001b[0m\u001b[37m,\u001b[0m\u001b[37m                                                                                                         \u001b[0m\u001b[37m \u001b[0m\u001b[37m│\u001b[0m\n",
              "\u001b[37m│\u001b[0m\u001b[37m \u001b[0m\u001b[37m    \u001b[0m\u001b[33mfilters\u001b[0m\u001b[37m=\u001b[0m\u001b[1;37m[\u001b[0m\u001b[1;37m[\u001b[0m\u001b[1;37m]\u001b[0m\u001b[37m, \u001b[0m\u001b[1;37m[\u001b[0m\u001b[1;37m]\u001b[0m\u001b[37m, \u001b[0m\u001b[1;37m[\u001b[0m\u001b[1;37m]\u001b[0m\u001b[1;37m]\u001b[0m\u001b[37m,\u001b[0m\u001b[37m                                                                                      \u001b[0m\u001b[37m \u001b[0m\u001b[37m│\u001b[0m\n",
              "\u001b[37m│\u001b[0m\u001b[37m \u001b[0m\u001b[37m    \u001b[0m\u001b[33mfilter_operators\u001b[0m\u001b[37m=\u001b[0m\u001b[32m'OR'\u001b[0m\u001b[37m,\u001b[0m\u001b[37m                                                                                     \u001b[0m\u001b[37m \u001b[0m\u001b[37m│\u001b[0m\n",
              "\u001b[37m│\u001b[0m\u001b[37m \u001b[0m\u001b[37m    \u001b[0m\u001b[33mcollection\u001b[0m\u001b[37m=\u001b[0m\u001b[32m'SpaceMedResearch'\u001b[0m\u001b[37m                                                                              \u001b[0m\u001b[37m \u001b[0m\u001b[37m│\u001b[0m\n",
              "\u001b[37m│\u001b[0m\u001b[37m \u001b[0m\u001b[1;37m)\u001b[0m\u001b[37m                                                                                                              \u001b[0m\u001b[37m \u001b[0m\u001b[37m│\u001b[0m\n",
              "\u001b[37m│\u001b[0m\u001b[37m                                                                                                                 \u001b[0m\u001b[37m│\u001b[0m\n",
              "\u001b[37m╰─────────────────────────────────────────────────────────────────────────────────────────────────────────────────╯\u001b[0m\n"
            ],
            "text/html": [
              "<pre style=\"white-space:pre;overflow-x:auto;line-height:normal;font-family:Menlo,'DejaVu Sans Mono',consolas,'Courier New',monospace\"><span style=\"color: #c0c0c0; text-decoration-color: #c0c0c0\">╭───────────────────────────────────────────</span> 🔭 Searches Executed 2/2 <span style=\"color: #c0c0c0; text-decoration-color: #c0c0c0\">────────────────────────────────────────────╮</span>\n",
              "<span style=\"color: #c0c0c0; text-decoration-color: #c0c0c0\">│                                                                                                                 │</span>\n",
              "<span style=\"color: #c0c0c0; text-decoration-color: #c0c0c0\">│ </span><span style=\"color: #800080; text-decoration-color: #800080; font-weight: bold\">QueryResultWithCollection</span><span style=\"color: #c0c0c0; text-decoration-color: #c0c0c0; font-weight: bold\">(</span><span style=\"color: #c0c0c0; text-decoration-color: #c0c0c0\">                                                                                      │</span>\n",
              "<span style=\"color: #c0c0c0; text-decoration-color: #c0c0c0\">│     </span><span style=\"color: #808000; text-decoration-color: #808000\">queries</span><span style=\"color: #c0c0c0; text-decoration-color: #c0c0c0\">=</span><span style=\"color: #c0c0c0; text-decoration-color: #c0c0c0; font-weight: bold\">[</span><span style=\"color: #c0c0c0; text-decoration-color: #c0c0c0\">                                                                                                   │</span>\n",
              "<span style=\"color: #c0c0c0; text-decoration-color: #c0c0c0\">│         </span><span style=\"color: #008000; text-decoration-color: #008000\">'structural changes in the eyes associated with Spaceflight-Associated Neuro-ocular Syndrome'</span><span style=\"color: #c0c0c0; text-decoration-color: #c0c0c0\">,          │</span>\n",
              "<span style=\"color: #c0c0c0; text-decoration-color: #c0c0c0\">│         </span><span style=\"color: #008000; text-decoration-color: #008000\">'eye changes seen in Spaceflight-Associated Neuro-ocular Syndrome'</span><span style=\"color: #c0c0c0; text-decoration-color: #c0c0c0\">,                                     │</span>\n",
              "<span style=\"color: #c0c0c0; text-decoration-color: #c0c0c0\">│         </span><span style=\"color: #008000; text-decoration-color: #008000\">'ocular morphology alterations in Spaceflight-Associated Neuro-ocular Syndrome'</span><span style=\"color: #c0c0c0; text-decoration-color: #c0c0c0\">                         │</span>\n",
              "<span style=\"color: #c0c0c0; text-decoration-color: #c0c0c0\">│     </span><span style=\"color: #c0c0c0; text-decoration-color: #c0c0c0; font-weight: bold\">]</span><span style=\"color: #c0c0c0; text-decoration-color: #c0c0c0\">,                                                                                                          │</span>\n",
              "<span style=\"color: #c0c0c0; text-decoration-color: #c0c0c0\">│     </span><span style=\"color: #808000; text-decoration-color: #808000\">filters</span><span style=\"color: #c0c0c0; text-decoration-color: #c0c0c0\">=</span><span style=\"color: #c0c0c0; text-decoration-color: #c0c0c0; font-weight: bold\">[[]</span><span style=\"color: #c0c0c0; text-decoration-color: #c0c0c0\">, </span><span style=\"color: #c0c0c0; text-decoration-color: #c0c0c0; font-weight: bold\">[]</span><span style=\"color: #c0c0c0; text-decoration-color: #c0c0c0\">, </span><span style=\"color: #c0c0c0; text-decoration-color: #c0c0c0; font-weight: bold\">[]]</span><span style=\"color: #c0c0c0; text-decoration-color: #c0c0c0\">,                                                                                       │</span>\n",
              "<span style=\"color: #c0c0c0; text-decoration-color: #c0c0c0\">│     </span><span style=\"color: #808000; text-decoration-color: #808000\">filter_operators</span><span style=\"color: #c0c0c0; text-decoration-color: #c0c0c0\">=</span><span style=\"color: #008000; text-decoration-color: #008000\">'OR'</span><span style=\"color: #c0c0c0; text-decoration-color: #c0c0c0\">,                                                                                      │</span>\n",
              "<span style=\"color: #c0c0c0; text-decoration-color: #c0c0c0\">│     </span><span style=\"color: #808000; text-decoration-color: #808000\">collection</span><span style=\"color: #c0c0c0; text-decoration-color: #c0c0c0\">=</span><span style=\"color: #008000; text-decoration-color: #008000\">'SpaceMedResearch'</span><span style=\"color: #c0c0c0; text-decoration-color: #c0c0c0\">                                                                               │</span>\n",
              "<span style=\"color: #c0c0c0; text-decoration-color: #c0c0c0\">│ </span><span style=\"color: #c0c0c0; text-decoration-color: #c0c0c0; font-weight: bold\">)</span><span style=\"color: #c0c0c0; text-decoration-color: #c0c0c0\">                                                                                                               │</span>\n",
              "<span style=\"color: #c0c0c0; text-decoration-color: #c0c0c0\">│                                                                                                                 │</span>\n",
              "<span style=\"color: #c0c0c0; text-decoration-color: #c0c0c0\">╰─────────────────────────────────────────────────────────────────────────────────────────────────────────────────╯</span>\n",
              "</pre>\n"
            ]
          },
          "metadata": {}
        },
        {
          "output_type": "display_data",
          "data": {
            "text/plain": [
              "\u001b[37m╭─\u001b[0m\u001b[37m───────────────────────────────────────────\u001b[0m 📊 Aggregations Run 1/2 \u001b[37m───────────────────────────────────────────\u001b[0m\u001b[37m─╮\u001b[0m\n",
              "\u001b[37m│\u001b[0m\u001b[37m                                                                                                                 \u001b[0m\u001b[37m│\u001b[0m\n",
              "\u001b[37m│\u001b[0m\u001b[37m \u001b[0m\u001b[1;35mAggregationResultWithCollection\u001b[0m\u001b[1;37m(\u001b[0m\u001b[37m                                                                               \u001b[0m\u001b[37m \u001b[0m\u001b[37m│\u001b[0m\n",
              "\u001b[37m│\u001b[0m\u001b[37m \u001b[0m\u001b[37m    \u001b[0m\u001b[33msearch_query\u001b[0m\u001b[37m=\u001b[0m\u001b[32m'Spaceflight-Associated Neuro-ocular Syndrome \u001b[0m\u001b[32m(\u001b[0m\u001b[32mSANS\u001b[0m\u001b[32m)\u001b[0m\u001b[32m long-duration spaceflight'\u001b[0m\u001b[37m,\u001b[0m\u001b[37m              \u001b[0m\u001b[37m \u001b[0m\u001b[37m│\u001b[0m\n",
              "\u001b[37m│\u001b[0m\u001b[37m \u001b[0m\u001b[37m    \u001b[0m\u001b[33mgroupby_property\u001b[0m\u001b[37m=\u001b[0m\u001b[3;35mNone\u001b[0m\u001b[37m,\u001b[0m\u001b[37m                                                                                     \u001b[0m\u001b[37m \u001b[0m\u001b[37m│\u001b[0m\n",
              "\u001b[37m│\u001b[0m\u001b[37m \u001b[0m\u001b[37m    \u001b[0m\u001b[33maggregations\u001b[0m\u001b[37m=\u001b[0m\u001b[1;37m[\u001b[0m\u001b[37m                                                                                             \u001b[0m\u001b[37m \u001b[0m\u001b[37m│\u001b[0m\n",
              "\u001b[37m│\u001b[0m\u001b[37m \u001b[0m\u001b[37m        \u001b[0m\u001b[1;35mTextPropertyAggregation\u001b[0m\u001b[1;37m(\u001b[0m\u001b[37m                                                                               \u001b[0m\u001b[37m \u001b[0m\u001b[37m│\u001b[0m\n",
              "\u001b[37m│\u001b[0m\u001b[37m \u001b[0m\u001b[37m            \u001b[0m\u001b[33mproperty_name\u001b[0m\u001b[37m=\u001b[0m\u001b[32m'content'\u001b[0m\u001b[37m,\u001b[0m\u001b[37m                                                                           \u001b[0m\u001b[37m \u001b[0m\u001b[37m│\u001b[0m\n",
              "\u001b[37m│\u001b[0m\u001b[37m \u001b[0m\u001b[37m            \u001b[0m\u001b[33mmetrics\u001b[0m\u001b[37m=\u001b[0m\u001b[1;37m<\u001b[0m\u001b[1;95mTextMetrics.COUNT:\u001b[0m\u001b[39m \u001b[0m\u001b[32m'COUNT'\u001b[0m\u001b[39m>,\u001b[0m\u001b[37m                                                              \u001b[0m\u001b[37m \u001b[0m\u001b[37m│\u001b[0m\n",
              "\u001b[37m│\u001b[0m\u001b[37m \u001b[0m\u001b[39m            \u001b[0m\u001b[33mtop_occurrences_limit\u001b[0m\u001b[39m=\u001b[0m\u001b[3;35mNone\u001b[0m\u001b[37m                                                                         \u001b[0m\u001b[37m \u001b[0m\u001b[37m│\u001b[0m\n",
              "\u001b[37m│\u001b[0m\u001b[37m \u001b[0m\u001b[39m        \u001b[0m\u001b[1;39m)\u001b[0m\u001b[37m                                                                                                      \u001b[0m\u001b[37m \u001b[0m\u001b[37m│\u001b[0m\n",
              "\u001b[37m│\u001b[0m\u001b[37m \u001b[0m\u001b[39m    \u001b[0m\u001b[1;39m]\u001b[0m\u001b[39m,\u001b[0m\u001b[37m                                                                                                         \u001b[0m\u001b[37m \u001b[0m\u001b[37m│\u001b[0m\n",
              "\u001b[37m│\u001b[0m\u001b[37m \u001b[0m\u001b[39m    \u001b[0m\u001b[33mfilters\u001b[0m\u001b[39m=\u001b[0m\u001b[1;39m[\u001b[0m\u001b[37m                                                                                                  \u001b[0m\u001b[37m \u001b[0m\u001b[37m│\u001b[0m\n",
              "\u001b[37m│\u001b[0m\u001b[37m \u001b[0m\u001b[39m        \u001b[0m\u001b[1;35mTextPropertyFilter\u001b[0m\u001b[1;39m(\u001b[0m\u001b[37m                                                                                    \u001b[0m\u001b[37m \u001b[0m\u001b[37m│\u001b[0m\n",
              "\u001b[37m│\u001b[0m\u001b[37m \u001b[0m\u001b[39m            \u001b[0m\u001b[33mproperty_name\u001b[0m\u001b[39m=\u001b[0m\u001b[32m'content'\u001b[0m\u001b[39m,\u001b[0m\u001b[37m                                                                           \u001b[0m\u001b[37m \u001b[0m\u001b[37m│\u001b[0m\n",
              "\u001b[37m│\u001b[0m\u001b[37m \u001b[0m\u001b[39m            \u001b[0m\u001b[33moperator\u001b[0m\u001b[39m=<ComparisonOperator.LIKE: \u001b[0m\u001b[32m'LIKE'\u001b[0m\u001b[1;37m>\u001b[0m\u001b[37m,\u001b[0m\u001b[37m                                                        \u001b[0m\u001b[37m \u001b[0m\u001b[37m│\u001b[0m\n",
              "\u001b[37m│\u001b[0m\u001b[37m \u001b[0m\u001b[37m            \u001b[0m\u001b[33mvalue\u001b[0m\u001b[37m=\u001b[0m\u001b[32m'*Spaceflight-Associated Neuro-ocular Syndrome*'\u001b[0m\u001b[37m                                             \u001b[0m\u001b[37m \u001b[0m\u001b[37m│\u001b[0m\n",
              "\u001b[37m│\u001b[0m\u001b[37m \u001b[0m\u001b[37m        \u001b[0m\u001b[1;37m)\u001b[0m\u001b[37m                                                                                                      \u001b[0m\u001b[37m \u001b[0m\u001b[37m│\u001b[0m\n",
              "\u001b[37m│\u001b[0m\u001b[37m \u001b[0m\u001b[37m    \u001b[0m\u001b[1;37m]\u001b[0m\u001b[37m,\u001b[0m\u001b[37m                                                                                                         \u001b[0m\u001b[37m \u001b[0m\u001b[37m│\u001b[0m\n",
              "\u001b[37m│\u001b[0m\u001b[37m \u001b[0m\u001b[37m    \u001b[0m\u001b[33mcollection\u001b[0m\u001b[37m=\u001b[0m\u001b[32m'SpaceMedResearch'\u001b[0m\u001b[37m                                                                              \u001b[0m\u001b[37m \u001b[0m\u001b[37m│\u001b[0m\n",
              "\u001b[37m│\u001b[0m\u001b[37m \u001b[0m\u001b[1;37m)\u001b[0m\u001b[37m                                                                                                              \u001b[0m\u001b[37m \u001b[0m\u001b[37m│\u001b[0m\n",
              "\u001b[37m│\u001b[0m\u001b[37m                                                                                                                 \u001b[0m\u001b[37m│\u001b[0m\n",
              "\u001b[37m╰─────────────────────────────────────────────────────────────────────────────────────────────────────────────────╯\u001b[0m\n"
            ],
            "text/html": [
              "<pre style=\"white-space:pre;overflow-x:auto;line-height:normal;font-family:Menlo,'DejaVu Sans Mono',consolas,'Courier New',monospace\"><span style=\"color: #c0c0c0; text-decoration-color: #c0c0c0\">╭────────────────────────────────────────────</span> 📊 Aggregations Run 1/2 <span style=\"color: #c0c0c0; text-decoration-color: #c0c0c0\">────────────────────────────────────────────╮</span>\n",
              "<span style=\"color: #c0c0c0; text-decoration-color: #c0c0c0\">│                                                                                                                 │</span>\n",
              "<span style=\"color: #c0c0c0; text-decoration-color: #c0c0c0\">│ </span><span style=\"color: #800080; text-decoration-color: #800080; font-weight: bold\">AggregationResultWithCollection</span><span style=\"color: #c0c0c0; text-decoration-color: #c0c0c0; font-weight: bold\">(</span><span style=\"color: #c0c0c0; text-decoration-color: #c0c0c0\">                                                                                │</span>\n",
              "<span style=\"color: #c0c0c0; text-decoration-color: #c0c0c0\">│     </span><span style=\"color: #808000; text-decoration-color: #808000\">search_query</span><span style=\"color: #c0c0c0; text-decoration-color: #c0c0c0\">=</span><span style=\"color: #008000; text-decoration-color: #008000\">'Spaceflight-Associated Neuro-ocular Syndrome (SANS) long-duration spaceflight'</span><span style=\"color: #c0c0c0; text-decoration-color: #c0c0c0\">,               │</span>\n",
              "<span style=\"color: #c0c0c0; text-decoration-color: #c0c0c0\">│     </span><span style=\"color: #808000; text-decoration-color: #808000\">groupby_property</span><span style=\"color: #c0c0c0; text-decoration-color: #c0c0c0\">=</span><span style=\"color: #800080; text-decoration-color: #800080; font-style: italic\">None</span><span style=\"color: #c0c0c0; text-decoration-color: #c0c0c0\">,                                                                                      │</span>\n",
              "<span style=\"color: #c0c0c0; text-decoration-color: #c0c0c0\">│     </span><span style=\"color: #808000; text-decoration-color: #808000\">aggregations</span><span style=\"color: #c0c0c0; text-decoration-color: #c0c0c0\">=</span><span style=\"color: #c0c0c0; text-decoration-color: #c0c0c0; font-weight: bold\">[</span><span style=\"color: #c0c0c0; text-decoration-color: #c0c0c0\">                                                                                              │</span>\n",
              "<span style=\"color: #c0c0c0; text-decoration-color: #c0c0c0\">│         </span><span style=\"color: #800080; text-decoration-color: #800080; font-weight: bold\">TextPropertyAggregation</span><span style=\"color: #c0c0c0; text-decoration-color: #c0c0c0; font-weight: bold\">(</span><span style=\"color: #c0c0c0; text-decoration-color: #c0c0c0\">                                                                                │</span>\n",
              "<span style=\"color: #c0c0c0; text-decoration-color: #c0c0c0\">│             </span><span style=\"color: #808000; text-decoration-color: #808000\">property_name</span><span style=\"color: #c0c0c0; text-decoration-color: #c0c0c0\">=</span><span style=\"color: #008000; text-decoration-color: #008000\">'content'</span><span style=\"color: #c0c0c0; text-decoration-color: #c0c0c0\">,                                                                            │</span>\n",
              "<span style=\"color: #c0c0c0; text-decoration-color: #c0c0c0\">│             </span><span style=\"color: #808000; text-decoration-color: #808000\">metrics</span><span style=\"color: #c0c0c0; text-decoration-color: #c0c0c0\">=</span><span style=\"color: #c0c0c0; text-decoration-color: #c0c0c0; font-weight: bold\">&lt;</span><span style=\"color: #ff00ff; text-decoration-color: #ff00ff; font-weight: bold\">TextMetrics.COUNT:</span><span style=\"color: #000000; text-decoration-color: #000000\"> </span><span style=\"color: #008000; text-decoration-color: #008000\">'COUNT'</span><span style=\"color: #000000; text-decoration-color: #000000\">&gt;,</span><span style=\"color: #c0c0c0; text-decoration-color: #c0c0c0\">                                                               │</span>\n",
              "<span style=\"color: #c0c0c0; text-decoration-color: #c0c0c0\">│ </span><span style=\"color: #000000; text-decoration-color: #000000\">            </span><span style=\"color: #808000; text-decoration-color: #808000\">top_occurrences_limit</span><span style=\"color: #000000; text-decoration-color: #000000\">=</span><span style=\"color: #800080; text-decoration-color: #800080; font-style: italic\">None</span><span style=\"color: #c0c0c0; text-decoration-color: #c0c0c0\">                                                                          │</span>\n",
              "<span style=\"color: #c0c0c0; text-decoration-color: #c0c0c0\">│ </span><span style=\"color: #000000; text-decoration-color: #000000\">        </span><span style=\"color: #000000; text-decoration-color: #000000; font-weight: bold\">)</span><span style=\"color: #c0c0c0; text-decoration-color: #c0c0c0\">                                                                                                       │</span>\n",
              "<span style=\"color: #c0c0c0; text-decoration-color: #c0c0c0\">│ </span><span style=\"color: #000000; text-decoration-color: #000000\">    </span><span style=\"color: #000000; text-decoration-color: #000000; font-weight: bold\">]</span><span style=\"color: #000000; text-decoration-color: #000000\">,</span><span style=\"color: #c0c0c0; text-decoration-color: #c0c0c0\">                                                                                                          │</span>\n",
              "<span style=\"color: #c0c0c0; text-decoration-color: #c0c0c0\">│ </span><span style=\"color: #000000; text-decoration-color: #000000\">    </span><span style=\"color: #808000; text-decoration-color: #808000\">filters</span><span style=\"color: #000000; text-decoration-color: #000000\">=</span><span style=\"color: #000000; text-decoration-color: #000000; font-weight: bold\">[</span><span style=\"color: #c0c0c0; text-decoration-color: #c0c0c0\">                                                                                                   │</span>\n",
              "<span style=\"color: #c0c0c0; text-decoration-color: #c0c0c0\">│ </span><span style=\"color: #000000; text-decoration-color: #000000\">        </span><span style=\"color: #800080; text-decoration-color: #800080; font-weight: bold\">TextPropertyFilter</span><span style=\"color: #000000; text-decoration-color: #000000; font-weight: bold\">(</span><span style=\"color: #c0c0c0; text-decoration-color: #c0c0c0\">                                                                                     │</span>\n",
              "<span style=\"color: #c0c0c0; text-decoration-color: #c0c0c0\">│ </span><span style=\"color: #000000; text-decoration-color: #000000\">            </span><span style=\"color: #808000; text-decoration-color: #808000\">property_name</span><span style=\"color: #000000; text-decoration-color: #000000\">=</span><span style=\"color: #008000; text-decoration-color: #008000\">'content'</span><span style=\"color: #000000; text-decoration-color: #000000\">,</span><span style=\"color: #c0c0c0; text-decoration-color: #c0c0c0\">                                                                            │</span>\n",
              "<span style=\"color: #c0c0c0; text-decoration-color: #c0c0c0\">│ </span><span style=\"color: #000000; text-decoration-color: #000000\">            </span><span style=\"color: #808000; text-decoration-color: #808000\">operator</span><span style=\"color: #000000; text-decoration-color: #000000\">=&lt;ComparisonOperator.LIKE: </span><span style=\"color: #008000; text-decoration-color: #008000\">'LIKE'</span><span style=\"color: #c0c0c0; text-decoration-color: #c0c0c0; font-weight: bold\">&gt;</span><span style=\"color: #c0c0c0; text-decoration-color: #c0c0c0\">,                                                         │</span>\n",
              "<span style=\"color: #c0c0c0; text-decoration-color: #c0c0c0\">│             </span><span style=\"color: #808000; text-decoration-color: #808000\">value</span><span style=\"color: #c0c0c0; text-decoration-color: #c0c0c0\">=</span><span style=\"color: #008000; text-decoration-color: #008000\">'*Spaceflight-Associated Neuro-ocular Syndrome*'</span><span style=\"color: #c0c0c0; text-decoration-color: #c0c0c0\">                                              │</span>\n",
              "<span style=\"color: #c0c0c0; text-decoration-color: #c0c0c0\">│         </span><span style=\"color: #c0c0c0; text-decoration-color: #c0c0c0; font-weight: bold\">)</span><span style=\"color: #c0c0c0; text-decoration-color: #c0c0c0\">                                                                                                       │</span>\n",
              "<span style=\"color: #c0c0c0; text-decoration-color: #c0c0c0\">│     </span><span style=\"color: #c0c0c0; text-decoration-color: #c0c0c0; font-weight: bold\">]</span><span style=\"color: #c0c0c0; text-decoration-color: #c0c0c0\">,                                                                                                          │</span>\n",
              "<span style=\"color: #c0c0c0; text-decoration-color: #c0c0c0\">│     </span><span style=\"color: #808000; text-decoration-color: #808000\">collection</span><span style=\"color: #c0c0c0; text-decoration-color: #c0c0c0\">=</span><span style=\"color: #008000; text-decoration-color: #008000\">'SpaceMedResearch'</span><span style=\"color: #c0c0c0; text-decoration-color: #c0c0c0\">                                                                               │</span>\n",
              "<span style=\"color: #c0c0c0; text-decoration-color: #c0c0c0\">│ </span><span style=\"color: #c0c0c0; text-decoration-color: #c0c0c0; font-weight: bold\">)</span><span style=\"color: #c0c0c0; text-decoration-color: #c0c0c0\">                                                                                                               │</span>\n",
              "<span style=\"color: #c0c0c0; text-decoration-color: #c0c0c0\">│                                                                                                                 │</span>\n",
              "<span style=\"color: #c0c0c0; text-decoration-color: #c0c0c0\">╰─────────────────────────────────────────────────────────────────────────────────────────────────────────────────╯</span>\n",
              "</pre>\n"
            ]
          },
          "metadata": {}
        },
        {
          "output_type": "display_data",
          "data": {
            "text/plain": [
              "\u001b[37m╭─\u001b[0m\u001b[37m───────────────────────────────────────────\u001b[0m 📊 Aggregations Run 2/2 \u001b[37m───────────────────────────────────────────\u001b[0m\u001b[37m─╮\u001b[0m\n",
              "\u001b[37m│\u001b[0m\u001b[37m                                                                                                                 \u001b[0m\u001b[37m│\u001b[0m\n",
              "\u001b[37m│\u001b[0m\u001b[37m \u001b[0m\u001b[1;35mAggregationResultWithCollection\u001b[0m\u001b[1;37m(\u001b[0m\u001b[37m                                                                               \u001b[0m\u001b[37m \u001b[0m\u001b[37m│\u001b[0m\n",
              "\u001b[37m│\u001b[0m\u001b[37m \u001b[0m\u001b[37m    \u001b[0m\u001b[33msearch_query\u001b[0m\u001b[37m=\u001b[0m\u001b[32m'structural eye changes after long-duration spaceflight'\u001b[0m\u001b[37m,\u001b[0m\u001b[37m                                     \u001b[0m\u001b[37m \u001b[0m\u001b[37m│\u001b[0m\n",
              "\u001b[37m│\u001b[0m\u001b[37m \u001b[0m\u001b[37m    \u001b[0m\u001b[33mgroupby_property\u001b[0m\u001b[37m=\u001b[0m\u001b[3;35mNone\u001b[0m\u001b[37m,\u001b[0m\u001b[37m                                                                                     \u001b[0m\u001b[37m \u001b[0m\u001b[37m│\u001b[0m\n",
              "\u001b[37m│\u001b[0m\u001b[37m \u001b[0m\u001b[37m    \u001b[0m\u001b[33maggregations\u001b[0m\u001b[37m=\u001b[0m\u001b[1;37m[\u001b[0m\u001b[37m                                                                                             \u001b[0m\u001b[37m \u001b[0m\u001b[37m│\u001b[0m\n",
              "\u001b[37m│\u001b[0m\u001b[37m \u001b[0m\u001b[37m        \u001b[0m\u001b[1;35mTextPropertyAggregation\u001b[0m\u001b[1;37m(\u001b[0m\u001b[37m                                                                               \u001b[0m\u001b[37m \u001b[0m\u001b[37m│\u001b[0m\n",
              "\u001b[37m│\u001b[0m\u001b[37m \u001b[0m\u001b[37m            \u001b[0m\u001b[33mproperty_name\u001b[0m\u001b[37m=\u001b[0m\u001b[32m'content'\u001b[0m\u001b[37m,\u001b[0m\u001b[37m                                                                           \u001b[0m\u001b[37m \u001b[0m\u001b[37m│\u001b[0m\n",
              "\u001b[37m│\u001b[0m\u001b[37m \u001b[0m\u001b[37m            \u001b[0m\u001b[33mmetrics\u001b[0m\u001b[37m=\u001b[0m\u001b[1;37m<\u001b[0m\u001b[1;95mTextMetrics.COUNT:\u001b[0m\u001b[39m \u001b[0m\u001b[32m'COUNT'\u001b[0m\u001b[39m>,\u001b[0m\u001b[37m                                                              \u001b[0m\u001b[37m \u001b[0m\u001b[37m│\u001b[0m\n",
              "\u001b[37m│\u001b[0m\u001b[37m \u001b[0m\u001b[39m            \u001b[0m\u001b[33mtop_occurrences_limit\u001b[0m\u001b[39m=\u001b[0m\u001b[3;35mNone\u001b[0m\u001b[37m                                                                         \u001b[0m\u001b[37m \u001b[0m\u001b[37m│\u001b[0m\n",
              "\u001b[37m│\u001b[0m\u001b[37m \u001b[0m\u001b[39m        \u001b[0m\u001b[1;39m)\u001b[0m\u001b[39m,\u001b[0m\u001b[37m                                                                                                     \u001b[0m\u001b[37m \u001b[0m\u001b[37m│\u001b[0m\n",
              "\u001b[37m│\u001b[0m\u001b[37m \u001b[0m\u001b[39m        \u001b[0m\u001b[1;35mTextPropertyAggregation\u001b[0m\u001b[1;39m(\u001b[0m\u001b[37m                                                                               \u001b[0m\u001b[37m \u001b[0m\u001b[37m│\u001b[0m\n",
              "\u001b[37m│\u001b[0m\u001b[37m \u001b[0m\u001b[39m            \u001b[0m\u001b[33mproperty_name\u001b[0m\u001b[39m=\u001b[0m\u001b[32m'content'\u001b[0m\u001b[39m,\u001b[0m\u001b[37m                                                                           \u001b[0m\u001b[37m \u001b[0m\u001b[37m│\u001b[0m\n",
              "\u001b[37m│\u001b[0m\u001b[37m \u001b[0m\u001b[39m            \u001b[0m\u001b[33mmetrics\u001b[0m\u001b[39m=<TextMetrics.TOP_OCCURRENCES: \u001b[0m\u001b[32m'TOP_OCCURRENCES'\u001b[0m\u001b[39m>,\u001b[0m\u001b[37m                                          \u001b[0m\u001b[37m \u001b[0m\u001b[37m│\u001b[0m\n",
              "\u001b[37m│\u001b[0m\u001b[37m \u001b[0m\u001b[39m            \u001b[0m\u001b[33mtop_occurrences_limit\u001b[0m\u001b[39m=\u001b[0m\u001b[1;36m5\u001b[0m\u001b[37m                                                                            \u001b[0m\u001b[37m \u001b[0m\u001b[37m│\u001b[0m\n",
              "\u001b[37m│\u001b[0m\u001b[37m \u001b[0m\u001b[39m        \u001b[0m\u001b[1;39m)\u001b[0m\u001b[37m                                                                                                      \u001b[0m\u001b[37m \u001b[0m\u001b[37m│\u001b[0m\n",
              "\u001b[37m│\u001b[0m\u001b[37m \u001b[0m\u001b[39m    \u001b[0m\u001b[1;39m]\u001b[0m\u001b[39m,\u001b[0m\u001b[37m                                                                                                         \u001b[0m\u001b[37m \u001b[0m\u001b[37m│\u001b[0m\n",
              "\u001b[37m│\u001b[0m\u001b[37m \u001b[0m\u001b[39m    \u001b[0m\u001b[33mfilters\u001b[0m\u001b[39m=\u001b[0m\u001b[1;39m[\u001b[0m\u001b[37m                                                                                                  \u001b[0m\u001b[37m \u001b[0m\u001b[37m│\u001b[0m\n",
              "\u001b[37m│\u001b[0m\u001b[37m \u001b[0m\u001b[39m        \u001b[0m\u001b[1;35mTextPropertyFilter\u001b[0m\u001b[1;39m(\u001b[0m\u001b[37m                                                                                    \u001b[0m\u001b[37m \u001b[0m\u001b[37m│\u001b[0m\n",
              "\u001b[37m│\u001b[0m\u001b[37m \u001b[0m\u001b[39m            \u001b[0m\u001b[33mproperty_name\u001b[0m\u001b[39m=\u001b[0m\u001b[32m'content'\u001b[0m\u001b[39m,\u001b[0m\u001b[37m                                                                           \u001b[0m\u001b[37m \u001b[0m\u001b[37m│\u001b[0m\n",
              "\u001b[37m│\u001b[0m\u001b[37m \u001b[0m\u001b[39m            \u001b[0m\u001b[33moperator\u001b[0m\u001b[39m=<ComparisonOperator.LIKE: \u001b[0m\u001b[32m'LIKE'\u001b[0m\u001b[39m>,\u001b[0m\u001b[37m                                                        \u001b[0m\u001b[37m \u001b[0m\u001b[37m│\u001b[0m\n",
              "\u001b[37m│\u001b[0m\u001b[37m \u001b[0m\u001b[39m            \u001b[0m\u001b[33mvalue\u001b[0m\u001b[39m=\u001b[0m\u001b[32m'*structural eye change*'\u001b[0m\u001b[37m                                                                    \u001b[0m\u001b[37m \u001b[0m\u001b[37m│\u001b[0m\n",
              "\u001b[37m│\u001b[0m\u001b[37m \u001b[0m\u001b[39m        \u001b[0m\u001b[1;39m)\u001b[0m\u001b[39m,\u001b[0m\u001b[37m                                                                                                     \u001b[0m\u001b[37m \u001b[0m\u001b[37m│\u001b[0m\n",
              "\u001b[37m│\u001b[0m\u001b[37m \u001b[0m\u001b[39m        \u001b[0m\u001b[1;35mTextPropertyFilter\u001b[0m\u001b[1;39m(\u001b[0m\u001b[37m                                                                                    \u001b[0m\u001b[37m \u001b[0m\u001b[37m│\u001b[0m\n",
              "\u001b[37m│\u001b[0m\u001b[37m \u001b[0m\u001b[39m            \u001b[0m\u001b[33mproperty_name\u001b[0m\u001b[39m=\u001b[0m\u001b[32m'content'\u001b[0m\u001b[39m,\u001b[0m\u001b[37m                                                                           \u001b[0m\u001b[37m \u001b[0m\u001b[37m│\u001b[0m\n",
              "\u001b[37m│\u001b[0m\u001b[37m \u001b[0m\u001b[39m            \u001b[0m\u001b[33moperator\u001b[0m\u001b[39m=<ComparisonOperator.LIKE: \u001b[0m\u001b[32m'LIKE'\u001b[0m\u001b[1;37m>\u001b[0m\u001b[37m,\u001b[0m\u001b[37m                                                        \u001b[0m\u001b[37m \u001b[0m\u001b[37m│\u001b[0m\n",
              "\u001b[37m│\u001b[0m\u001b[37m \u001b[0m\u001b[37m            \u001b[0m\u001b[33mvalue\u001b[0m\u001b[37m=\u001b[0m\u001b[32m'*long-duration spaceflight*'\u001b[0m\u001b[37m                                                                \u001b[0m\u001b[37m \u001b[0m\u001b[37m│\u001b[0m\n",
              "\u001b[37m│\u001b[0m\u001b[37m \u001b[0m\u001b[37m        \u001b[0m\u001b[1;37m)\u001b[0m\u001b[37m                                                                                                      \u001b[0m\u001b[37m \u001b[0m\u001b[37m│\u001b[0m\n",
              "\u001b[37m│\u001b[0m\u001b[37m \u001b[0m\u001b[37m    \u001b[0m\u001b[1;37m]\u001b[0m\u001b[37m,\u001b[0m\u001b[37m                                                                                                         \u001b[0m\u001b[37m \u001b[0m\u001b[37m│\u001b[0m\n",
              "\u001b[37m│\u001b[0m\u001b[37m \u001b[0m\u001b[37m    \u001b[0m\u001b[33mcollection\u001b[0m\u001b[37m=\u001b[0m\u001b[32m'SpaceMedResearch'\u001b[0m\u001b[37m                                                                              \u001b[0m\u001b[37m \u001b[0m\u001b[37m│\u001b[0m\n",
              "\u001b[37m│\u001b[0m\u001b[37m \u001b[0m\u001b[1;37m)\u001b[0m\u001b[37m                                                                                                              \u001b[0m\u001b[37m \u001b[0m\u001b[37m│\u001b[0m\n",
              "\u001b[37m│\u001b[0m\u001b[37m                                                                                                                 \u001b[0m\u001b[37m│\u001b[0m\n",
              "\u001b[37m╰─────────────────────────────────────────────────────────────────────────────────────────────────────────────────╯\u001b[0m\n"
            ],
            "text/html": [
              "<pre style=\"white-space:pre;overflow-x:auto;line-height:normal;font-family:Menlo,'DejaVu Sans Mono',consolas,'Courier New',monospace\"><span style=\"color: #c0c0c0; text-decoration-color: #c0c0c0\">╭────────────────────────────────────────────</span> 📊 Aggregations Run 2/2 <span style=\"color: #c0c0c0; text-decoration-color: #c0c0c0\">────────────────────────────────────────────╮</span>\n",
              "<span style=\"color: #c0c0c0; text-decoration-color: #c0c0c0\">│                                                                                                                 │</span>\n",
              "<span style=\"color: #c0c0c0; text-decoration-color: #c0c0c0\">│ </span><span style=\"color: #800080; text-decoration-color: #800080; font-weight: bold\">AggregationResultWithCollection</span><span style=\"color: #c0c0c0; text-decoration-color: #c0c0c0; font-weight: bold\">(</span><span style=\"color: #c0c0c0; text-decoration-color: #c0c0c0\">                                                                                │</span>\n",
              "<span style=\"color: #c0c0c0; text-decoration-color: #c0c0c0\">│     </span><span style=\"color: #808000; text-decoration-color: #808000\">search_query</span><span style=\"color: #c0c0c0; text-decoration-color: #c0c0c0\">=</span><span style=\"color: #008000; text-decoration-color: #008000\">'structural eye changes after long-duration spaceflight'</span><span style=\"color: #c0c0c0; text-decoration-color: #c0c0c0\">,                                      │</span>\n",
              "<span style=\"color: #c0c0c0; text-decoration-color: #c0c0c0\">│     </span><span style=\"color: #808000; text-decoration-color: #808000\">groupby_property</span><span style=\"color: #c0c0c0; text-decoration-color: #c0c0c0\">=</span><span style=\"color: #800080; text-decoration-color: #800080; font-style: italic\">None</span><span style=\"color: #c0c0c0; text-decoration-color: #c0c0c0\">,                                                                                      │</span>\n",
              "<span style=\"color: #c0c0c0; text-decoration-color: #c0c0c0\">│     </span><span style=\"color: #808000; text-decoration-color: #808000\">aggregations</span><span style=\"color: #c0c0c0; text-decoration-color: #c0c0c0\">=</span><span style=\"color: #c0c0c0; text-decoration-color: #c0c0c0; font-weight: bold\">[</span><span style=\"color: #c0c0c0; text-decoration-color: #c0c0c0\">                                                                                              │</span>\n",
              "<span style=\"color: #c0c0c0; text-decoration-color: #c0c0c0\">│         </span><span style=\"color: #800080; text-decoration-color: #800080; font-weight: bold\">TextPropertyAggregation</span><span style=\"color: #c0c0c0; text-decoration-color: #c0c0c0; font-weight: bold\">(</span><span style=\"color: #c0c0c0; text-decoration-color: #c0c0c0\">                                                                                │</span>\n",
              "<span style=\"color: #c0c0c0; text-decoration-color: #c0c0c0\">│             </span><span style=\"color: #808000; text-decoration-color: #808000\">property_name</span><span style=\"color: #c0c0c0; text-decoration-color: #c0c0c0\">=</span><span style=\"color: #008000; text-decoration-color: #008000\">'content'</span><span style=\"color: #c0c0c0; text-decoration-color: #c0c0c0\">,                                                                            │</span>\n",
              "<span style=\"color: #c0c0c0; text-decoration-color: #c0c0c0\">│             </span><span style=\"color: #808000; text-decoration-color: #808000\">metrics</span><span style=\"color: #c0c0c0; text-decoration-color: #c0c0c0\">=</span><span style=\"color: #c0c0c0; text-decoration-color: #c0c0c0; font-weight: bold\">&lt;</span><span style=\"color: #ff00ff; text-decoration-color: #ff00ff; font-weight: bold\">TextMetrics.COUNT:</span><span style=\"color: #000000; text-decoration-color: #000000\"> </span><span style=\"color: #008000; text-decoration-color: #008000\">'COUNT'</span><span style=\"color: #000000; text-decoration-color: #000000\">&gt;,</span><span style=\"color: #c0c0c0; text-decoration-color: #c0c0c0\">                                                               │</span>\n",
              "<span style=\"color: #c0c0c0; text-decoration-color: #c0c0c0\">│ </span><span style=\"color: #000000; text-decoration-color: #000000\">            </span><span style=\"color: #808000; text-decoration-color: #808000\">top_occurrences_limit</span><span style=\"color: #000000; text-decoration-color: #000000\">=</span><span style=\"color: #800080; text-decoration-color: #800080; font-style: italic\">None</span><span style=\"color: #c0c0c0; text-decoration-color: #c0c0c0\">                                                                          │</span>\n",
              "<span style=\"color: #c0c0c0; text-decoration-color: #c0c0c0\">│ </span><span style=\"color: #000000; text-decoration-color: #000000\">        </span><span style=\"color: #000000; text-decoration-color: #000000; font-weight: bold\">)</span><span style=\"color: #000000; text-decoration-color: #000000\">,</span><span style=\"color: #c0c0c0; text-decoration-color: #c0c0c0\">                                                                                                      │</span>\n",
              "<span style=\"color: #c0c0c0; text-decoration-color: #c0c0c0\">│ </span><span style=\"color: #000000; text-decoration-color: #000000\">        </span><span style=\"color: #800080; text-decoration-color: #800080; font-weight: bold\">TextPropertyAggregation</span><span style=\"color: #000000; text-decoration-color: #000000; font-weight: bold\">(</span><span style=\"color: #c0c0c0; text-decoration-color: #c0c0c0\">                                                                                │</span>\n",
              "<span style=\"color: #c0c0c0; text-decoration-color: #c0c0c0\">│ </span><span style=\"color: #000000; text-decoration-color: #000000\">            </span><span style=\"color: #808000; text-decoration-color: #808000\">property_name</span><span style=\"color: #000000; text-decoration-color: #000000\">=</span><span style=\"color: #008000; text-decoration-color: #008000\">'content'</span><span style=\"color: #000000; text-decoration-color: #000000\">,</span><span style=\"color: #c0c0c0; text-decoration-color: #c0c0c0\">                                                                            │</span>\n",
              "<span style=\"color: #c0c0c0; text-decoration-color: #c0c0c0\">│ </span><span style=\"color: #000000; text-decoration-color: #000000\">            </span><span style=\"color: #808000; text-decoration-color: #808000\">metrics</span><span style=\"color: #000000; text-decoration-color: #000000\">=&lt;TextMetrics.TOP_OCCURRENCES: </span><span style=\"color: #008000; text-decoration-color: #008000\">'TOP_OCCURRENCES'</span><span style=\"color: #000000; text-decoration-color: #000000\">&gt;,</span><span style=\"color: #c0c0c0; text-decoration-color: #c0c0c0\">                                           │</span>\n",
              "<span style=\"color: #c0c0c0; text-decoration-color: #c0c0c0\">│ </span><span style=\"color: #000000; text-decoration-color: #000000\">            </span><span style=\"color: #808000; text-decoration-color: #808000\">top_occurrences_limit</span><span style=\"color: #000000; text-decoration-color: #000000\">=</span><span style=\"color: #008080; text-decoration-color: #008080; font-weight: bold\">5</span><span style=\"color: #c0c0c0; text-decoration-color: #c0c0c0\">                                                                             │</span>\n",
              "<span style=\"color: #c0c0c0; text-decoration-color: #c0c0c0\">│ </span><span style=\"color: #000000; text-decoration-color: #000000\">        </span><span style=\"color: #000000; text-decoration-color: #000000; font-weight: bold\">)</span><span style=\"color: #c0c0c0; text-decoration-color: #c0c0c0\">                                                                                                       │</span>\n",
              "<span style=\"color: #c0c0c0; text-decoration-color: #c0c0c0\">│ </span><span style=\"color: #000000; text-decoration-color: #000000\">    </span><span style=\"color: #000000; text-decoration-color: #000000; font-weight: bold\">]</span><span style=\"color: #000000; text-decoration-color: #000000\">,</span><span style=\"color: #c0c0c0; text-decoration-color: #c0c0c0\">                                                                                                          │</span>\n",
              "<span style=\"color: #c0c0c0; text-decoration-color: #c0c0c0\">│ </span><span style=\"color: #000000; text-decoration-color: #000000\">    </span><span style=\"color: #808000; text-decoration-color: #808000\">filters</span><span style=\"color: #000000; text-decoration-color: #000000\">=</span><span style=\"color: #000000; text-decoration-color: #000000; font-weight: bold\">[</span><span style=\"color: #c0c0c0; text-decoration-color: #c0c0c0\">                                                                                                   │</span>\n",
              "<span style=\"color: #c0c0c0; text-decoration-color: #c0c0c0\">│ </span><span style=\"color: #000000; text-decoration-color: #000000\">        </span><span style=\"color: #800080; text-decoration-color: #800080; font-weight: bold\">TextPropertyFilter</span><span style=\"color: #000000; text-decoration-color: #000000; font-weight: bold\">(</span><span style=\"color: #c0c0c0; text-decoration-color: #c0c0c0\">                                                                                     │</span>\n",
              "<span style=\"color: #c0c0c0; text-decoration-color: #c0c0c0\">│ </span><span style=\"color: #000000; text-decoration-color: #000000\">            </span><span style=\"color: #808000; text-decoration-color: #808000\">property_name</span><span style=\"color: #000000; text-decoration-color: #000000\">=</span><span style=\"color: #008000; text-decoration-color: #008000\">'content'</span><span style=\"color: #000000; text-decoration-color: #000000\">,</span><span style=\"color: #c0c0c0; text-decoration-color: #c0c0c0\">                                                                            │</span>\n",
              "<span style=\"color: #c0c0c0; text-decoration-color: #c0c0c0\">│ </span><span style=\"color: #000000; text-decoration-color: #000000\">            </span><span style=\"color: #808000; text-decoration-color: #808000\">operator</span><span style=\"color: #000000; text-decoration-color: #000000\">=&lt;ComparisonOperator.LIKE: </span><span style=\"color: #008000; text-decoration-color: #008000\">'LIKE'</span><span style=\"color: #000000; text-decoration-color: #000000\">&gt;,</span><span style=\"color: #c0c0c0; text-decoration-color: #c0c0c0\">                                                         │</span>\n",
              "<span style=\"color: #c0c0c0; text-decoration-color: #c0c0c0\">│ </span><span style=\"color: #000000; text-decoration-color: #000000\">            </span><span style=\"color: #808000; text-decoration-color: #808000\">value</span><span style=\"color: #000000; text-decoration-color: #000000\">=</span><span style=\"color: #008000; text-decoration-color: #008000\">'*structural eye change*'</span><span style=\"color: #c0c0c0; text-decoration-color: #c0c0c0\">                                                                     │</span>\n",
              "<span style=\"color: #c0c0c0; text-decoration-color: #c0c0c0\">│ </span><span style=\"color: #000000; text-decoration-color: #000000\">        </span><span style=\"color: #000000; text-decoration-color: #000000; font-weight: bold\">)</span><span style=\"color: #000000; text-decoration-color: #000000\">,</span><span style=\"color: #c0c0c0; text-decoration-color: #c0c0c0\">                                                                                                      │</span>\n",
              "<span style=\"color: #c0c0c0; text-decoration-color: #c0c0c0\">│ </span><span style=\"color: #000000; text-decoration-color: #000000\">        </span><span style=\"color: #800080; text-decoration-color: #800080; font-weight: bold\">TextPropertyFilter</span><span style=\"color: #000000; text-decoration-color: #000000; font-weight: bold\">(</span><span style=\"color: #c0c0c0; text-decoration-color: #c0c0c0\">                                                                                     │</span>\n",
              "<span style=\"color: #c0c0c0; text-decoration-color: #c0c0c0\">│ </span><span style=\"color: #000000; text-decoration-color: #000000\">            </span><span style=\"color: #808000; text-decoration-color: #808000\">property_name</span><span style=\"color: #000000; text-decoration-color: #000000\">=</span><span style=\"color: #008000; text-decoration-color: #008000\">'content'</span><span style=\"color: #000000; text-decoration-color: #000000\">,</span><span style=\"color: #c0c0c0; text-decoration-color: #c0c0c0\">                                                                            │</span>\n",
              "<span style=\"color: #c0c0c0; text-decoration-color: #c0c0c0\">│ </span><span style=\"color: #000000; text-decoration-color: #000000\">            </span><span style=\"color: #808000; text-decoration-color: #808000\">operator</span><span style=\"color: #000000; text-decoration-color: #000000\">=&lt;ComparisonOperator.LIKE: </span><span style=\"color: #008000; text-decoration-color: #008000\">'LIKE'</span><span style=\"color: #c0c0c0; text-decoration-color: #c0c0c0; font-weight: bold\">&gt;</span><span style=\"color: #c0c0c0; text-decoration-color: #c0c0c0\">,                                                         │</span>\n",
              "<span style=\"color: #c0c0c0; text-decoration-color: #c0c0c0\">│             </span><span style=\"color: #808000; text-decoration-color: #808000\">value</span><span style=\"color: #c0c0c0; text-decoration-color: #c0c0c0\">=</span><span style=\"color: #008000; text-decoration-color: #008000\">'*long-duration spaceflight*'</span><span style=\"color: #c0c0c0; text-decoration-color: #c0c0c0\">                                                                 │</span>\n",
              "<span style=\"color: #c0c0c0; text-decoration-color: #c0c0c0\">│         </span><span style=\"color: #c0c0c0; text-decoration-color: #c0c0c0; font-weight: bold\">)</span><span style=\"color: #c0c0c0; text-decoration-color: #c0c0c0\">                                                                                                       │</span>\n",
              "<span style=\"color: #c0c0c0; text-decoration-color: #c0c0c0\">│     </span><span style=\"color: #c0c0c0; text-decoration-color: #c0c0c0; font-weight: bold\">]</span><span style=\"color: #c0c0c0; text-decoration-color: #c0c0c0\">,                                                                                                          │</span>\n",
              "<span style=\"color: #c0c0c0; text-decoration-color: #c0c0c0\">│     </span><span style=\"color: #808000; text-decoration-color: #808000\">collection</span><span style=\"color: #c0c0c0; text-decoration-color: #c0c0c0\">=</span><span style=\"color: #008000; text-decoration-color: #008000\">'SpaceMedResearch'</span><span style=\"color: #c0c0c0; text-decoration-color: #c0c0c0\">                                                                               │</span>\n",
              "<span style=\"color: #c0c0c0; text-decoration-color: #c0c0c0\">│ </span><span style=\"color: #c0c0c0; text-decoration-color: #c0c0c0; font-weight: bold\">)</span><span style=\"color: #c0c0c0; text-decoration-color: #c0c0c0\">                                                                                                               │</span>\n",
              "<span style=\"color: #c0c0c0; text-decoration-color: #c0c0c0\">│                                                                                                                 │</span>\n",
              "<span style=\"color: #c0c0c0; text-decoration-color: #c0c0c0\">╰─────────────────────────────────────────────────────────────────────────────────────────────────────────────────╯</span>\n",
              "</pre>\n"
            ]
          },
          "metadata": {}
        },
        {
          "output_type": "display_data",
          "data": {
            "text/plain": [
              "\u001b[33m╭─\u001b[0m\u001b[33m───────────────────────────────────────────\u001b[0m ⚠️ Missing Information: \u001b[33m────────────────────────────────────────────\u001b[0m\u001b[33m─╮\u001b[0m\n",
              "\u001b[33m│\u001b[0m\u001b[33m                                                                                                                 \u001b[0m\u001b[33m│\u001b[0m\n",
              "\u001b[33m│\u001b[0m\u001b[33m \u001b[0m\u001b[33m- Exact prevalence data beyond the reported ~40% of astronauts affected\u001b[0m\u001b[33m                                        \u001b[0m\u001b[33m \u001b[0m\u001b[33m│\u001b[0m\n",
              "\u001b[33m│\u001b[0m\u001b[33m \u001b[0m\u001b[33m- Detailed mechanisms causing SANS\u001b[0m\u001b[33m                                                                             \u001b[0m\u001b[33m \u001b[0m\u001b[33m│\u001b[0m\n",
              "\u001b[33m│\u001b[0m\u001b[33m \u001b[0m\u001b[33m- Long-term outcomes of SANS in astronauts\u001b[0m\u001b[33m                                                                     \u001b[0m\u001b[33m \u001b[0m\u001b[33m│\u001b[0m\n",
              "\u001b[33m│\u001b[0m\u001b[33m                                                                                                                 \u001b[0m\u001b[33m│\u001b[0m\n",
              "\u001b[33m╰─────────────────────────────────────────────────────────────────────────────────────────────────────────────────╯\u001b[0m\n"
            ],
            "text/html": [
              "<pre style=\"white-space:pre;overflow-x:auto;line-height:normal;font-family:Menlo,'DejaVu Sans Mono',consolas,'Courier New',monospace\"><span style=\"color: #808000; text-decoration-color: #808000\">╭────────────────────────────────────────────</span> ⚠️ Missing Information: <span style=\"color: #808000; text-decoration-color: #808000\">─────────────────────────────────────────────╮</span>\n",
              "<span style=\"color: #808000; text-decoration-color: #808000\">│                                                                                                                 │</span>\n",
              "<span style=\"color: #808000; text-decoration-color: #808000\">│ - Exact prevalence data beyond the reported ~40% of astronauts affected                                         │</span>\n",
              "<span style=\"color: #808000; text-decoration-color: #808000\">│ - Detailed mechanisms causing SANS                                                                              │</span>\n",
              "<span style=\"color: #808000; text-decoration-color: #808000\">│ - Long-term outcomes of SANS in astronauts                                                                      │</span>\n",
              "<span style=\"color: #808000; text-decoration-color: #808000\">│                                                                                                                 │</span>\n",
              "<span style=\"color: #808000; text-decoration-color: #808000\">╰─────────────────────────────────────────────────────────────────────────────────────────────────────────────────╯</span>\n",
              "</pre>\n"
            ]
          },
          "metadata": {}
        },
        {
          "output_type": "display_data",
          "data": {
            "text/plain": [
              "\u001b[37m╭─\u001b[0m\u001b[37m─────────────────────────────────────────────────\u001b[0m 📚 Sources \u001b[37m──────────────────────────────────────────────────\u001b[0m\u001b[37m─╮\u001b[0m\n",
              "\u001b[37m│\u001b[0m\u001b[37m                                                                                                                 \u001b[0m\u001b[37m│\u001b[0m\n",
              "\u001b[37m│\u001b[0m\u001b[37m \u001b[0m\u001b[37m - object_id='92b1e99f-2e10-50f5-a7cf-96e01e18882d' collection='SpaceMedResearch'\u001b[0m\u001b[37m                              \u001b[0m\u001b[37m \u001b[0m\u001b[37m│\u001b[0m\n",
              "\u001b[37m│\u001b[0m\u001b[37m \u001b[0m\u001b[37m - object_id='7fa959eb-5f6a-5b6b-90cc-990c0b13c235' collection='SpaceMedResearch'\u001b[0m\u001b[37m                              \u001b[0m\u001b[37m \u001b[0m\u001b[37m│\u001b[0m\n",
              "\u001b[37m│\u001b[0m\u001b[37m \u001b[0m\u001b[37m - object_id='ed315c46-2ed6-5a88-b60e-bf3cb553e123' collection='SpaceMedResearch'\u001b[0m\u001b[37m                              \u001b[0m\u001b[37m \u001b[0m\u001b[37m│\u001b[0m\n",
              "\u001b[37m│\u001b[0m\u001b[37m \u001b[0m\u001b[37m - object_id='7a58ed26-c684-5489-ada9-5d67f4c8aafc' collection='SpaceMedResearch'\u001b[0m\u001b[37m                              \u001b[0m\u001b[37m \u001b[0m\u001b[37m│\u001b[0m\n",
              "\u001b[37m│\u001b[0m\u001b[37m \u001b[0m\u001b[37m - object_id='2d103556-0fb5-5eaf-882c-528610fdf3d2' collection='SpaceMedResearch'\u001b[0m\u001b[37m                              \u001b[0m\u001b[37m \u001b[0m\u001b[37m│\u001b[0m\n",
              "\u001b[37m│\u001b[0m\u001b[37m                                                                                                                 \u001b[0m\u001b[37m│\u001b[0m\n",
              "\u001b[37m╰─────────────────────────────────────────────────────────────────────────────────────────────────────────────────╯\u001b[0m\n"
            ],
            "text/html": [
              "<pre style=\"white-space:pre;overflow-x:auto;line-height:normal;font-family:Menlo,'DejaVu Sans Mono',consolas,'Courier New',monospace\"><span style=\"color: #c0c0c0; text-decoration-color: #c0c0c0\">╭──────────────────────────────────────────────────</span> 📚 Sources <span style=\"color: #c0c0c0; text-decoration-color: #c0c0c0\">───────────────────────────────────────────────────╮</span>\n",
              "<span style=\"color: #c0c0c0; text-decoration-color: #c0c0c0\">│                                                                                                                 │</span>\n",
              "<span style=\"color: #c0c0c0; text-decoration-color: #c0c0c0\">│  - object_id='92b1e99f-2e10-50f5-a7cf-96e01e18882d' collection='SpaceMedResearch'                               │</span>\n",
              "<span style=\"color: #c0c0c0; text-decoration-color: #c0c0c0\">│  - object_id='7fa959eb-5f6a-5b6b-90cc-990c0b13c235' collection='SpaceMedResearch'                               │</span>\n",
              "<span style=\"color: #c0c0c0; text-decoration-color: #c0c0c0\">│  - object_id='ed315c46-2ed6-5a88-b60e-bf3cb553e123' collection='SpaceMedResearch'                               │</span>\n",
              "<span style=\"color: #c0c0c0; text-decoration-color: #c0c0c0\">│  - object_id='7a58ed26-c684-5489-ada9-5d67f4c8aafc' collection='SpaceMedResearch'                               │</span>\n",
              "<span style=\"color: #c0c0c0; text-decoration-color: #c0c0c0\">│  - object_id='2d103556-0fb5-5eaf-882c-528610fdf3d2' collection='SpaceMedResearch'                               │</span>\n",
              "<span style=\"color: #c0c0c0; text-decoration-color: #c0c0c0\">│                                                                                                                 │</span>\n",
              "<span style=\"color: #c0c0c0; text-decoration-color: #c0c0c0\">╰─────────────────────────────────────────────────────────────────────────────────────────────────────────────────╯</span>\n",
              "</pre>\n"
            ]
          },
          "metadata": {}
        },
        {
          "output_type": "stream",
          "name": "stdout",
          "text": [
            "\n",
            "\n"
          ]
        },
        {
          "output_type": "display_data",
          "data": {
            "text/plain": [
              "\u001b[3m   📊 Usage Statistics    \u001b[0m\n",
              "┌────────────────┬───────┐\n",
              "│ LLM Requests:  │ 6     │\n",
              "│ Input Tokens:  │ 14663 │\n",
              "│ Output Tokens: │ 695   │\n",
              "│ Total Tokens:  │ 15358 │\n",
              "└────────────────┴───────┘\n"
            ],
            "text/html": [
              "<pre style=\"white-space:pre;overflow-x:auto;line-height:normal;font-family:Menlo,'DejaVu Sans Mono',consolas,'Courier New',monospace\"><span style=\"font-style: italic\">   📊 Usage Statistics    </span>\n",
              "┌────────────────┬───────┐\n",
              "│ LLM Requests:  │ 6     │\n",
              "│ Input Tokens:  │ 14663 │\n",
              "│ Output Tokens: │ 695   │\n",
              "│ Total Tokens:  │ 15358 │\n",
              "└────────────────┴───────┘\n",
              "</pre>\n"
            ]
          },
          "metadata": {}
        },
        {
          "output_type": "display_data",
          "data": {
            "text/plain": [
              "\n",
              "\u001b[1;36mTotal Time Taken:\u001b[0m\u001b[36m \u001b[0m\u001b[1;36m10.\u001b[0m\u001b[36m27s\u001b[0m\n"
            ],
            "text/html": [
              "<pre style=\"white-space:pre;overflow-x:auto;line-height:normal;font-family:Menlo,'DejaVu Sans Mono',consolas,'Courier New',monospace\">\n",
              "<span style=\"color: #008080; text-decoration-color: #008080; font-weight: bold\">Total Time Taken:</span><span style=\"color: #008080; text-decoration-color: #008080\"> </span><span style=\"color: #008080; text-decoration-color: #008080; font-weight: bold\">10.</span><span style=\"color: #008080; text-decoration-color: #008080\">27s</span>\n",
              "</pre>\n"
            ]
          },
          "metadata": {}
        }
      ]
    },
    {
      "cell_type": "code",
      "source": [
        "# Perform a query for articles with contradictory information\n",
        "response = qa.run(\n",
        "    \"What are the proposed mechanisms behind SANS, and do researchers agree on whether fluid shifts and intracranial pressure are the primary causes?\"\n",
        ")\n",
        "# Print the response\n",
        "response.display()"
      ],
      "metadata": {
        "id": "dG9Ld2ejyQ78",
        "outputId": "712094e0-2355-409c-817f-c7ff770d2362",
        "colab": {
          "base_uri": "https://localhost:8080/",
          "height": 1000
        }
      },
      "execution_count": null,
      "outputs": [
        {
          "output_type": "display_data",
          "data": {
            "text/plain": [
              "╭─────────────────────────────────────────────── 🔍 Original Query ───────────────────────────────────────────────╮\n",
              "│                                                                                                                 │\n",
              "│ What are the proposed mechanisms behind SANS, and do researchers agree on whether fluid shifts and intracranial │\n",
              "│ pressure are the primary causes?                                                                                │\n",
              "│                                                                                                                 │\n",
              "╰─────────────────────────────────────────────────────────────────────────────────────────────────────────────────╯\n"
            ],
            "text/html": [
              "<pre style=\"white-space:pre;overflow-x:auto;line-height:normal;font-family:Menlo,'DejaVu Sans Mono',consolas,'Courier New',monospace\">╭─────────────────────────────────────────────── 🔍 Original Query ───────────────────────────────────────────────╮\n",
              "│                                                                                                                 │\n",
              "│ What are the proposed mechanisms behind SANS, and do researchers agree on whether fluid shifts and intracranial │\n",
              "│ pressure are the primary causes?                                                                                │\n",
              "│                                                                                                                 │\n",
              "╰─────────────────────────────────────────────────────────────────────────────────────────────────────────────────╯\n",
              "</pre>\n"
            ]
          },
          "metadata": {}
        },
        {
          "output_type": "display_data",
          "data": {
            "text/plain": [
              "\u001b[36m╭─\u001b[0m\u001b[36m───────────────────────────────────────────────\u001b[0m 📝 Final Answer \u001b[36m───────────────────────────────────────────────\u001b[0m\u001b[36m─╮\u001b[0m\n",
              "\u001b[36m│\u001b[0m\u001b[36m                                                                                                                 \u001b[0m\u001b[36m│\u001b[0m\n",
              "\u001b[36m│\u001b[0m\u001b[36m \u001b[0m\u001b[36mSpaceflight Associated Neuro-ocular Syndrome (SANS) is a condition experienced by astronauts characterized by \u001b[0m\u001b[36m \u001b[0m\u001b[36m \u001b[0m\u001b[36m│\u001b[0m\n",
              "\u001b[36m│\u001b[0m\u001b[36m \u001b[0m\u001b[36mocular and neuro-ocular changes such as optic disc edema, globe flattening, choroidal folds, and vision \u001b[0m\u001b[36m       \u001b[0m\u001b[36m \u001b[0m\u001b[36m│\u001b[0m\n",
              "\u001b[36m│\u001b[0m\u001b[36m \u001b[0m\u001b[36mchanges. The proposed mechanisms behind SANS primarily involve cephalad fluid shifts caused by microgravity, \u001b[0m\u001b[36m  \u001b[0m\u001b[36m \u001b[0m\u001b[36m│\u001b[0m\n",
              "\u001b[36m│\u001b[0m\u001b[36m \u001b[0m\u001b[36mwhich may lead to alterations in intracranial pressure (ICP). These fluid shifts are thought to cause \u001b[0m\u001b[36m         \u001b[0m\u001b[36m \u001b[0m\u001b[36m│\u001b[0m\n",
              "\u001b[36m│\u001b[0m\u001b[36m \u001b[0m\u001b[36mstructural and functional changes in neuro-ocular tissues and possibly brain functional organization. However, \u001b[0m\u001b[36m \u001b[0m\u001b[36m│\u001b[0m\n",
              "\u001b[36m│\u001b[0m\u001b[36m \u001b[0m\u001b[36mdespite these hypotheses, the exact origin and underlying cause of SANS remain unclear.\u001b[0m\u001b[36m                        \u001b[0m\u001b[36m \u001b[0m\u001b[36m│\u001b[0m\n",
              "\u001b[36m│\u001b[0m\u001b[36m \u001b[0m\u001b[36m                                                                                                               \u001b[0m\u001b[36m \u001b[0m\u001b[36m│\u001b[0m\n",
              "\u001b[36m│\u001b[0m\u001b[36m \u001b[0m\u001b[36mResearch indicates that SANS not only affects ocular structures but also impacts brain functional connectivity,\u001b[0m\u001b[36m \u001b[0m\u001b[36m│\u001b[0m\n",
              "\u001b[36m│\u001b[0m\u001b[36m \u001b[0m\u001b[36mparticularly in visual and multisensory integration networks, suggesting a broader neurophysiological \u001b[0m\u001b[36m         \u001b[0m\u001b[36m \u001b[0m\u001b[36m│\u001b[0m\n",
              "\u001b[36m│\u001b[0m\u001b[36m \u001b[0m\u001b[36malteration. Some studies have explored resting-state brain activity and functional connectivity differences in \u001b[0m\u001b[36m \u001b[0m\u001b[36m│\u001b[0m\n",
              "\u001b[36m│\u001b[0m\u001b[36m \u001b[0m\u001b[36mindividuals who develop SANS, pointing to possible predisposing factors beyond fluid shifts and ICP.\u001b[0m\u001b[36m           \u001b[0m\u001b[36m \u001b[0m\u001b[36m│\u001b[0m\n",
              "\u001b[36m│\u001b[0m\u001b[36m \u001b[0m\u001b[36m                                                                                                               \u001b[0m\u001b[36m \u001b[0m\u001b[36m│\u001b[0m\n",
              "\u001b[36m│\u001b[0m\u001b[36m \u001b[0m\u001b[36mRegarding consensus, there is no full agreement among researchers that fluid shifts and increased intracranial \u001b[0m\u001b[36m \u001b[0m\u001b[36m│\u001b[0m\n",
              "\u001b[36m│\u001b[0m\u001b[36m \u001b[0m\u001b[36mpressure are the sole or primary causes of SANS. While these factors are central hypotheses, the exact \u001b[0m\u001b[36m        \u001b[0m\u001b[36m \u001b[0m\u001b[36m│\u001b[0m\n",
              "\u001b[36m│\u001b[0m\u001b[36m \u001b[0m\u001b[36mmechanisms are not fully understood, and the condition’s pathophysiology involves complex interactions that are\u001b[0m\u001b[36m \u001b[0m\u001b[36m│\u001b[0m\n",
              "\u001b[36m│\u001b[0m\u001b[36m \u001b[0m\u001b[36mstill under investigation. Further research is needed to clarify these mechanisms, including the role of \u001b[0m\u001b[36m      \u001b[0m\u001b[36m \u001b[0m\u001b[36m│\u001b[0m\n",
              "\u001b[36m│\u001b[0m\u001b[36m \u001b[0m\u001b[36mgenetic, biochemical, and cerebral functional factors.\u001b[0m\u001b[36m                                                         \u001b[0m\u001b[36m \u001b[0m\u001b[36m│\u001b[0m\n",
              "\u001b[36m│\u001b[0m\u001b[36m \u001b[0m\u001b[36m                                                                                                               \u001b[0m\u001b[36m \u001b[0m\u001b[36m│\u001b[0m\n",
              "\u001b[36m│\u001b[0m\u001b[36m \u001b[0m\u001b[36mIn summary, fluid shifts and intracranial pressure changes are proposed and influential mechanisms behind SANS,\u001b[0m\u001b[36m \u001b[0m\u001b[36m│\u001b[0m\n",
              "\u001b[36m│\u001b[0m\u001b[36m \u001b[0m\u001b[36mbut researchers have not reached consensus that these are the definitive primary causes due to the complexity \u001b[0m\u001b[36m \u001b[0m\u001b[36m \u001b[0m\u001b[36m│\u001b[0m\n",
              "\u001b[36m│\u001b[0m\u001b[36m \u001b[0m\u001b[36mand incomplete understanding of the syndrome.\u001b[0m\u001b[36m                                                                  \u001b[0m\u001b[36m \u001b[0m\u001b[36m│\u001b[0m\n",
              "\u001b[36m│\u001b[0m\u001b[36m                                                                                                                 \u001b[0m\u001b[36m│\u001b[0m\n",
              "\u001b[36m╰─────────────────────────────────────────────────────────────────────────────────────────────────────────────────╯\u001b[0m\n"
            ],
            "text/html": [
              "<pre style=\"white-space:pre;overflow-x:auto;line-height:normal;font-family:Menlo,'DejaVu Sans Mono',consolas,'Courier New',monospace\"><span style=\"color: #008080; text-decoration-color: #008080\">╭────────────────────────────────────────────────</span> 📝 Final Answer <span style=\"color: #008080; text-decoration-color: #008080\">────────────────────────────────────────────────╮</span>\n",
              "<span style=\"color: #008080; text-decoration-color: #008080\">│                                                                                                                 │</span>\n",
              "<span style=\"color: #008080; text-decoration-color: #008080\">│ Spaceflight Associated Neuro-ocular Syndrome (SANS) is a condition experienced by astronauts characterized by   │</span>\n",
              "<span style=\"color: #008080; text-decoration-color: #008080\">│ ocular and neuro-ocular changes such as optic disc edema, globe flattening, choroidal folds, and vision         │</span>\n",
              "<span style=\"color: #008080; text-decoration-color: #008080\">│ changes. The proposed mechanisms behind SANS primarily involve cephalad fluid shifts caused by microgravity,    │</span>\n",
              "<span style=\"color: #008080; text-decoration-color: #008080\">│ which may lead to alterations in intracranial pressure (ICP). These fluid shifts are thought to cause           │</span>\n",
              "<span style=\"color: #008080; text-decoration-color: #008080\">│ structural and functional changes in neuro-ocular tissues and possibly brain functional organization. However,  │</span>\n",
              "<span style=\"color: #008080; text-decoration-color: #008080\">│ despite these hypotheses, the exact origin and underlying cause of SANS remain unclear.                         │</span>\n",
              "<span style=\"color: #008080; text-decoration-color: #008080\">│                                                                                                                 │</span>\n",
              "<span style=\"color: #008080; text-decoration-color: #008080\">│ Research indicates that SANS not only affects ocular structures but also impacts brain functional connectivity, │</span>\n",
              "<span style=\"color: #008080; text-decoration-color: #008080\">│ particularly in visual and multisensory integration networks, suggesting a broader neurophysiological           │</span>\n",
              "<span style=\"color: #008080; text-decoration-color: #008080\">│ alteration. Some studies have explored resting-state brain activity and functional connectivity differences in  │</span>\n",
              "<span style=\"color: #008080; text-decoration-color: #008080\">│ individuals who develop SANS, pointing to possible predisposing factors beyond fluid shifts and ICP.            │</span>\n",
              "<span style=\"color: #008080; text-decoration-color: #008080\">│                                                                                                                 │</span>\n",
              "<span style=\"color: #008080; text-decoration-color: #008080\">│ Regarding consensus, there is no full agreement among researchers that fluid shifts and increased intracranial  │</span>\n",
              "<span style=\"color: #008080; text-decoration-color: #008080\">│ pressure are the sole or primary causes of SANS. While these factors are central hypotheses, the exact          │</span>\n",
              "<span style=\"color: #008080; text-decoration-color: #008080\">│ mechanisms are not fully understood, and the condition’s pathophysiology involves complex interactions that are │</span>\n",
              "<span style=\"color: #008080; text-decoration-color: #008080\">│ still under investigation. Further research is needed to clarify these mechanisms, including the role of        │</span>\n",
              "<span style=\"color: #008080; text-decoration-color: #008080\">│ genetic, biochemical, and cerebral functional factors.                                                          │</span>\n",
              "<span style=\"color: #008080; text-decoration-color: #008080\">│                                                                                                                 │</span>\n",
              "<span style=\"color: #008080; text-decoration-color: #008080\">│ In summary, fluid shifts and intracranial pressure changes are proposed and influential mechanisms behind SANS, │</span>\n",
              "<span style=\"color: #008080; text-decoration-color: #008080\">│ but researchers have not reached consensus that these are the definitive primary causes due to the complexity   │</span>\n",
              "<span style=\"color: #008080; text-decoration-color: #008080\">│ and incomplete understanding of the syndrome.                                                                   │</span>\n",
              "<span style=\"color: #008080; text-decoration-color: #008080\">│                                                                                                                 │</span>\n",
              "<span style=\"color: #008080; text-decoration-color: #008080\">╰─────────────────────────────────────────────────────────────────────────────────────────────────────────────────╯</span>\n",
              "</pre>\n"
            ]
          },
          "metadata": {}
        },
        {
          "output_type": "display_data",
          "data": {
            "text/plain": [
              "\u001b[37m╭─\u001b[0m\u001b[37m──────────────────────────────────────────\u001b[0m 🔭 Searches Executed 1/2 \u001b[37m───────────────────────────────────────────\u001b[0m\u001b[37m─╮\u001b[0m\n",
              "\u001b[37m│\u001b[0m\u001b[37m                                                                                                                 \u001b[0m\u001b[37m│\u001b[0m\n",
              "\u001b[37m│\u001b[0m\u001b[37m \u001b[0m\u001b[1;35mQueryResultWithCollection\u001b[0m\u001b[1;37m(\u001b[0m\u001b[37m                                                                                     \u001b[0m\u001b[37m \u001b[0m\u001b[37m│\u001b[0m\n",
              "\u001b[37m│\u001b[0m\u001b[37m \u001b[0m\u001b[37m    \u001b[0m\u001b[33mqueries\u001b[0m\u001b[37m=\u001b[0m\u001b[1;37m[\u001b[0m\u001b[32m'proposed mechanisms behind SANS'\u001b[0m\u001b[1;37m]\u001b[0m\u001b[37m,\u001b[0m\u001b[37m                                                               \u001b[0m\u001b[37m \u001b[0m\u001b[37m│\u001b[0m\n",
              "\u001b[37m│\u001b[0m\u001b[37m \u001b[0m\u001b[37m    \u001b[0m\u001b[33mfilters\u001b[0m\u001b[37m=\u001b[0m\u001b[1;37m[\u001b[0m\u001b[1;37m[\u001b[0m\u001b[1;37m]\u001b[0m\u001b[1;37m]\u001b[0m\u001b[37m,\u001b[0m\u001b[37m                                                                                              \u001b[0m\u001b[37m \u001b[0m\u001b[37m│\u001b[0m\n",
              "\u001b[37m│\u001b[0m\u001b[37m \u001b[0m\u001b[37m    \u001b[0m\u001b[33mfilter_operators\u001b[0m\u001b[37m=\u001b[0m\u001b[32m'AND'\u001b[0m\u001b[37m,\u001b[0m\u001b[37m                                                                                    \u001b[0m\u001b[37m \u001b[0m\u001b[37m│\u001b[0m\n",
              "\u001b[37m│\u001b[0m\u001b[37m \u001b[0m\u001b[37m    \u001b[0m\u001b[33mcollection\u001b[0m\u001b[37m=\u001b[0m\u001b[32m'SpaceMedResearch'\u001b[0m\u001b[37m                                                                              \u001b[0m\u001b[37m \u001b[0m\u001b[37m│\u001b[0m\n",
              "\u001b[37m│\u001b[0m\u001b[37m \u001b[0m\u001b[1;37m)\u001b[0m\u001b[37m                                                                                                              \u001b[0m\u001b[37m \u001b[0m\u001b[37m│\u001b[0m\n",
              "\u001b[37m│\u001b[0m\u001b[37m                                                                                                                 \u001b[0m\u001b[37m│\u001b[0m\n",
              "\u001b[37m╰─────────────────────────────────────────────────────────────────────────────────────────────────────────────────╯\u001b[0m\n"
            ],
            "text/html": [
              "<pre style=\"white-space:pre;overflow-x:auto;line-height:normal;font-family:Menlo,'DejaVu Sans Mono',consolas,'Courier New',monospace\"><span style=\"color: #c0c0c0; text-decoration-color: #c0c0c0\">╭───────────────────────────────────────────</span> 🔭 Searches Executed 1/2 <span style=\"color: #c0c0c0; text-decoration-color: #c0c0c0\">────────────────────────────────────────────╮</span>\n",
              "<span style=\"color: #c0c0c0; text-decoration-color: #c0c0c0\">│                                                                                                                 │</span>\n",
              "<span style=\"color: #c0c0c0; text-decoration-color: #c0c0c0\">│ </span><span style=\"color: #800080; text-decoration-color: #800080; font-weight: bold\">QueryResultWithCollection</span><span style=\"color: #c0c0c0; text-decoration-color: #c0c0c0; font-weight: bold\">(</span><span style=\"color: #c0c0c0; text-decoration-color: #c0c0c0\">                                                                                      │</span>\n",
              "<span style=\"color: #c0c0c0; text-decoration-color: #c0c0c0\">│     </span><span style=\"color: #808000; text-decoration-color: #808000\">queries</span><span style=\"color: #c0c0c0; text-decoration-color: #c0c0c0\">=</span><span style=\"color: #c0c0c0; text-decoration-color: #c0c0c0; font-weight: bold\">[</span><span style=\"color: #008000; text-decoration-color: #008000\">'proposed mechanisms behind SANS'</span><span style=\"color: #c0c0c0; text-decoration-color: #c0c0c0; font-weight: bold\">]</span><span style=\"color: #c0c0c0; text-decoration-color: #c0c0c0\">,                                                                │</span>\n",
              "<span style=\"color: #c0c0c0; text-decoration-color: #c0c0c0\">│     </span><span style=\"color: #808000; text-decoration-color: #808000\">filters</span><span style=\"color: #c0c0c0; text-decoration-color: #c0c0c0\">=</span><span style=\"color: #c0c0c0; text-decoration-color: #c0c0c0; font-weight: bold\">[[]]</span><span style=\"color: #c0c0c0; text-decoration-color: #c0c0c0\">,                                                                                               │</span>\n",
              "<span style=\"color: #c0c0c0; text-decoration-color: #c0c0c0\">│     </span><span style=\"color: #808000; text-decoration-color: #808000\">filter_operators</span><span style=\"color: #c0c0c0; text-decoration-color: #c0c0c0\">=</span><span style=\"color: #008000; text-decoration-color: #008000\">'AND'</span><span style=\"color: #c0c0c0; text-decoration-color: #c0c0c0\">,                                                                                     │</span>\n",
              "<span style=\"color: #c0c0c0; text-decoration-color: #c0c0c0\">│     </span><span style=\"color: #808000; text-decoration-color: #808000\">collection</span><span style=\"color: #c0c0c0; text-decoration-color: #c0c0c0\">=</span><span style=\"color: #008000; text-decoration-color: #008000\">'SpaceMedResearch'</span><span style=\"color: #c0c0c0; text-decoration-color: #c0c0c0\">                                                                               │</span>\n",
              "<span style=\"color: #c0c0c0; text-decoration-color: #c0c0c0\">│ </span><span style=\"color: #c0c0c0; text-decoration-color: #c0c0c0; font-weight: bold\">)</span><span style=\"color: #c0c0c0; text-decoration-color: #c0c0c0\">                                                                                                               │</span>\n",
              "<span style=\"color: #c0c0c0; text-decoration-color: #c0c0c0\">│                                                                                                                 │</span>\n",
              "<span style=\"color: #c0c0c0; text-decoration-color: #c0c0c0\">╰─────────────────────────────────────────────────────────────────────────────────────────────────────────────────╯</span>\n",
              "</pre>\n"
            ]
          },
          "metadata": {}
        },
        {
          "output_type": "display_data",
          "data": {
            "text/plain": [
              "\u001b[37m╭─\u001b[0m\u001b[37m──────────────────────────────────────────\u001b[0m 🔭 Searches Executed 2/2 \u001b[37m───────────────────────────────────────────\u001b[0m\u001b[37m─╮\u001b[0m\n",
              "\u001b[37m│\u001b[0m\u001b[37m                                                                                                                 \u001b[0m\u001b[37m│\u001b[0m\n",
              "\u001b[37m│\u001b[0m\u001b[37m \u001b[0m\u001b[1;35mQueryResultWithCollection\u001b[0m\u001b[1;37m(\u001b[0m\u001b[37m                                                                                     \u001b[0m\u001b[37m \u001b[0m\u001b[37m│\u001b[0m\n",
              "\u001b[37m│\u001b[0m\u001b[37m \u001b[0m\u001b[37m    \u001b[0m\u001b[33mqueries\u001b[0m\u001b[37m=\u001b[0m\u001b[1;37m[\u001b[0m\u001b[37m                                                                                                  \u001b[0m\u001b[37m \u001b[0m\u001b[37m│\u001b[0m\n",
              "\u001b[37m│\u001b[0m\u001b[37m \u001b[0m\u001b[37m        \u001b[0m\u001b[32m'researchers agreement on fluid shifts as causes of Spaceflight Associated Neuro-ocular Syndrome'\u001b[0m\u001b[37m,\u001b[0m\u001b[37m     \u001b[0m\u001b[37m \u001b[0m\u001b[37m│\u001b[0m\n",
              "\u001b[37m│\u001b[0m\u001b[37m \u001b[0m\u001b[37m        \u001b[0m\u001b[32m'researchers agreement on intracranial pressure as causes of Spaceflight Associated Neuro-ocular \u001b[0m\u001b[37m      \u001b[0m\u001b[37m \u001b[0m\u001b[37m│\u001b[0m\n",
              "\u001b[37m│\u001b[0m\u001b[37m \u001b[0m\u001b[32mSyndrome'\u001b[0m\u001b[37m                                                                                                      \u001b[0m\u001b[37m \u001b[0m\u001b[37m│\u001b[0m\n",
              "\u001b[37m│\u001b[0m\u001b[37m \u001b[0m\u001b[37m    \u001b[0m\u001b[1;37m]\u001b[0m\u001b[37m,\u001b[0m\u001b[37m                                                                                                         \u001b[0m\u001b[37m \u001b[0m\u001b[37m│\u001b[0m\n",
              "\u001b[37m│\u001b[0m\u001b[37m \u001b[0m\u001b[37m    \u001b[0m\u001b[33mfilters\u001b[0m\u001b[37m=\u001b[0m\u001b[1;37m[\u001b[0m\u001b[1;37m[\u001b[0m\u001b[1;37m]\u001b[0m\u001b[37m, \u001b[0m\u001b[1;37m[\u001b[0m\u001b[1;37m]\u001b[0m\u001b[1;37m]\u001b[0m\u001b[37m,\u001b[0m\u001b[37m                                                                                          \u001b[0m\u001b[37m \u001b[0m\u001b[37m│\u001b[0m\n",
              "\u001b[37m│\u001b[0m\u001b[37m \u001b[0m\u001b[37m    \u001b[0m\u001b[33mfilter_operators\u001b[0m\u001b[37m=\u001b[0m\u001b[32m'AND'\u001b[0m\u001b[37m,\u001b[0m\u001b[37m                                                                                    \u001b[0m\u001b[37m \u001b[0m\u001b[37m│\u001b[0m\n",
              "\u001b[37m│\u001b[0m\u001b[37m \u001b[0m\u001b[37m    \u001b[0m\u001b[33mcollection\u001b[0m\u001b[37m=\u001b[0m\u001b[32m'SpaceMedResearch'\u001b[0m\u001b[37m                                                                              \u001b[0m\u001b[37m \u001b[0m\u001b[37m│\u001b[0m\n",
              "\u001b[37m│\u001b[0m\u001b[37m \u001b[0m\u001b[1;37m)\u001b[0m\u001b[37m                                                                                                              \u001b[0m\u001b[37m \u001b[0m\u001b[37m│\u001b[0m\n",
              "\u001b[37m│\u001b[0m\u001b[37m                                                                                                                 \u001b[0m\u001b[37m│\u001b[0m\n",
              "\u001b[37m╰─────────────────────────────────────────────────────────────────────────────────────────────────────────────────╯\u001b[0m\n"
            ],
            "text/html": [
              "<pre style=\"white-space:pre;overflow-x:auto;line-height:normal;font-family:Menlo,'DejaVu Sans Mono',consolas,'Courier New',monospace\"><span style=\"color: #c0c0c0; text-decoration-color: #c0c0c0\">╭───────────────────────────────────────────</span> 🔭 Searches Executed 2/2 <span style=\"color: #c0c0c0; text-decoration-color: #c0c0c0\">────────────────────────────────────────────╮</span>\n",
              "<span style=\"color: #c0c0c0; text-decoration-color: #c0c0c0\">│                                                                                                                 │</span>\n",
              "<span style=\"color: #c0c0c0; text-decoration-color: #c0c0c0\">│ </span><span style=\"color: #800080; text-decoration-color: #800080; font-weight: bold\">QueryResultWithCollection</span><span style=\"color: #c0c0c0; text-decoration-color: #c0c0c0; font-weight: bold\">(</span><span style=\"color: #c0c0c0; text-decoration-color: #c0c0c0\">                                                                                      │</span>\n",
              "<span style=\"color: #c0c0c0; text-decoration-color: #c0c0c0\">│     </span><span style=\"color: #808000; text-decoration-color: #808000\">queries</span><span style=\"color: #c0c0c0; text-decoration-color: #c0c0c0\">=</span><span style=\"color: #c0c0c0; text-decoration-color: #c0c0c0; font-weight: bold\">[</span><span style=\"color: #c0c0c0; text-decoration-color: #c0c0c0\">                                                                                                   │</span>\n",
              "<span style=\"color: #c0c0c0; text-decoration-color: #c0c0c0\">│         </span><span style=\"color: #008000; text-decoration-color: #008000\">'researchers agreement on fluid shifts as causes of Spaceflight Associated Neuro-ocular Syndrome'</span><span style=\"color: #c0c0c0; text-decoration-color: #c0c0c0\">,      │</span>\n",
              "<span style=\"color: #c0c0c0; text-decoration-color: #c0c0c0\">│         </span><span style=\"color: #008000; text-decoration-color: #008000\">'researchers agreement on intracranial pressure as causes of Spaceflight Associated Neuro-ocular </span><span style=\"color: #c0c0c0; text-decoration-color: #c0c0c0\">       │</span>\n",
              "<span style=\"color: #c0c0c0; text-decoration-color: #c0c0c0\">│ </span><span style=\"color: #008000; text-decoration-color: #008000\">Syndrome'</span><span style=\"color: #c0c0c0; text-decoration-color: #c0c0c0\">                                                                                                       │</span>\n",
              "<span style=\"color: #c0c0c0; text-decoration-color: #c0c0c0\">│     </span><span style=\"color: #c0c0c0; text-decoration-color: #c0c0c0; font-weight: bold\">]</span><span style=\"color: #c0c0c0; text-decoration-color: #c0c0c0\">,                                                                                                          │</span>\n",
              "<span style=\"color: #c0c0c0; text-decoration-color: #c0c0c0\">│     </span><span style=\"color: #808000; text-decoration-color: #808000\">filters</span><span style=\"color: #c0c0c0; text-decoration-color: #c0c0c0\">=</span><span style=\"color: #c0c0c0; text-decoration-color: #c0c0c0; font-weight: bold\">[[]</span><span style=\"color: #c0c0c0; text-decoration-color: #c0c0c0\">, </span><span style=\"color: #c0c0c0; text-decoration-color: #c0c0c0; font-weight: bold\">[]]</span><span style=\"color: #c0c0c0; text-decoration-color: #c0c0c0\">,                                                                                           │</span>\n",
              "<span style=\"color: #c0c0c0; text-decoration-color: #c0c0c0\">│     </span><span style=\"color: #808000; text-decoration-color: #808000\">filter_operators</span><span style=\"color: #c0c0c0; text-decoration-color: #c0c0c0\">=</span><span style=\"color: #008000; text-decoration-color: #008000\">'AND'</span><span style=\"color: #c0c0c0; text-decoration-color: #c0c0c0\">,                                                                                     │</span>\n",
              "<span style=\"color: #c0c0c0; text-decoration-color: #c0c0c0\">│     </span><span style=\"color: #808000; text-decoration-color: #808000\">collection</span><span style=\"color: #c0c0c0; text-decoration-color: #c0c0c0\">=</span><span style=\"color: #008000; text-decoration-color: #008000\">'SpaceMedResearch'</span><span style=\"color: #c0c0c0; text-decoration-color: #c0c0c0\">                                                                               │</span>\n",
              "<span style=\"color: #c0c0c0; text-decoration-color: #c0c0c0\">│ </span><span style=\"color: #c0c0c0; text-decoration-color: #c0c0c0; font-weight: bold\">)</span><span style=\"color: #c0c0c0; text-decoration-color: #c0c0c0\">                                                                                                               │</span>\n",
              "<span style=\"color: #c0c0c0; text-decoration-color: #c0c0c0\">│                                                                                                                 │</span>\n",
              "<span style=\"color: #c0c0c0; text-decoration-color: #c0c0c0\">╰─────────────────────────────────────────────────────────────────────────────────────────────────────────────────╯</span>\n",
              "</pre>\n"
            ]
          },
          "metadata": {}
        },
        {
          "output_type": "display_data",
          "data": {
            "text/plain": [
              "\u001b[38;5;167m╭─────────────────────────────────────────────────────────────────────────────────────────────────────────────────╮\u001b[0m\n",
              "\u001b[38;5;167m│\u001b[0m\u001b[38;5;167m                                                                                                                 \u001b[0m\u001b[38;5;167m│\u001b[0m\n",
              "\u001b[38;5;167m│\u001b[0m\u001b[38;5;167m \u001b[0m\u001b[38;5;167m📊 No Aggregations Run\u001b[0m\u001b[38;5;167m                                                                                         \u001b[0m\u001b[38;5;167m \u001b[0m\u001b[38;5;167m│\u001b[0m\n",
              "\u001b[38;5;167m│\u001b[0m\u001b[38;5;167m                                                                                                                 \u001b[0m\u001b[38;5;167m│\u001b[0m\n",
              "\u001b[38;5;167m╰─────────────────────────────────────────────────────────────────────────────────────────────────────────────────╯\u001b[0m\n"
            ],
            "text/html": [
              "<pre style=\"white-space:pre;overflow-x:auto;line-height:normal;font-family:Menlo,'DejaVu Sans Mono',consolas,'Courier New',monospace\"><span style=\"color: #d75f5f; text-decoration-color: #d75f5f\">╭─────────────────────────────────────────────────────────────────────────────────────────────────────────────────╮</span>\n",
              "<span style=\"color: #d75f5f; text-decoration-color: #d75f5f\">│                                                                                                                 │</span>\n",
              "<span style=\"color: #d75f5f; text-decoration-color: #d75f5f\">│ 📊 No Aggregations Run                                                                                          │</span>\n",
              "<span style=\"color: #d75f5f; text-decoration-color: #d75f5f\">│                                                                                                                 │</span>\n",
              "<span style=\"color: #d75f5f; text-decoration-color: #d75f5f\">╰─────────────────────────────────────────────────────────────────────────────────────────────────────────────────╯</span>\n",
              "</pre>\n"
            ]
          },
          "metadata": {}
        },
        {
          "output_type": "display_data",
          "data": {
            "text/plain": [
              "\u001b[33m╭─\u001b[0m\u001b[33m───────────────────────────────────────────\u001b[0m ⚠️ Missing Information: \u001b[33m────────────────────────────────────────────\u001b[0m\u001b[33m─╮\u001b[0m\n",
              "\u001b[33m│\u001b[0m\u001b[33m                                                                                                                 \u001b[0m\u001b[33m│\u001b[0m\n",
              "\u001b[33m│\u001b[0m\u001b[33m \u001b[0m\u001b[33m- Specific detailed mechanisms beyond fluid shifts and ICP\u001b[0m\u001b[33m                                                     \u001b[0m\u001b[33m \u001b[0m\u001b[33m│\u001b[0m\n",
              "\u001b[33m│\u001b[0m\u001b[33m \u001b[0m\u001b[33m- Consensus statements or reviews explicitly addressing researcher agreement\u001b[0m\u001b[33m                                   \u001b[0m\u001b[33m \u001b[0m\u001b[33m│\u001b[0m\n",
              "\u001b[33m│\u001b[0m\u001b[33m                                                                                                                 \u001b[0m\u001b[33m│\u001b[0m\n",
              "\u001b[33m╰─────────────────────────────────────────────────────────────────────────────────────────────────────────────────╯\u001b[0m\n"
            ],
            "text/html": [
              "<pre style=\"white-space:pre;overflow-x:auto;line-height:normal;font-family:Menlo,'DejaVu Sans Mono',consolas,'Courier New',monospace\"><span style=\"color: #808000; text-decoration-color: #808000\">╭────────────────────────────────────────────</span> ⚠️ Missing Information: <span style=\"color: #808000; text-decoration-color: #808000\">─────────────────────────────────────────────╮</span>\n",
              "<span style=\"color: #808000; text-decoration-color: #808000\">│                                                                                                                 │</span>\n",
              "<span style=\"color: #808000; text-decoration-color: #808000\">│ - Specific detailed mechanisms beyond fluid shifts and ICP                                                      │</span>\n",
              "<span style=\"color: #808000; text-decoration-color: #808000\">│ - Consensus statements or reviews explicitly addressing researcher agreement                                    │</span>\n",
              "<span style=\"color: #808000; text-decoration-color: #808000\">│                                                                                                                 │</span>\n",
              "<span style=\"color: #808000; text-decoration-color: #808000\">╰─────────────────────────────────────────────────────────────────────────────────────────────────────────────────╯</span>\n",
              "</pre>\n"
            ]
          },
          "metadata": {}
        },
        {
          "output_type": "display_data",
          "data": {
            "text/plain": [
              "\u001b[37m╭─\u001b[0m\u001b[37m─────────────────────────────────────────────────\u001b[0m 📚 Sources \u001b[37m──────────────────────────────────────────────────\u001b[0m\u001b[37m─╮\u001b[0m\n",
              "\u001b[37m│\u001b[0m\u001b[37m                                                                                                                 \u001b[0m\u001b[37m│\u001b[0m\n",
              "\u001b[37m│\u001b[0m\u001b[37m \u001b[0m\u001b[37m - object_id='90079f47-00d4-5f18-b61e-d25e2f8ffb39' collection='SpaceMedResearch'\u001b[0m\u001b[37m                              \u001b[0m\u001b[37m \u001b[0m\u001b[37m│\u001b[0m\n",
              "\u001b[37m│\u001b[0m\u001b[37m \u001b[0m\u001b[37m - object_id='0a6ffb58-aabf-5332-9dc1-f97729c66bc9' collection='SpaceMedResearch'\u001b[0m\u001b[37m                              \u001b[0m\u001b[37m \u001b[0m\u001b[37m│\u001b[0m\n",
              "\u001b[37m│\u001b[0m\u001b[37m \u001b[0m\u001b[37m - object_id='92b1e99f-2e10-50f5-a7cf-96e01e18882d' collection='SpaceMedResearch'\u001b[0m\u001b[37m                              \u001b[0m\u001b[37m \u001b[0m\u001b[37m│\u001b[0m\n",
              "\u001b[37m│\u001b[0m\u001b[37m \u001b[0m\u001b[37m - object_id='ed315c46-2ed6-5a88-b60e-bf3cb553e123' collection='SpaceMedResearch'\u001b[0m\u001b[37m                              \u001b[0m\u001b[37m \u001b[0m\u001b[37m│\u001b[0m\n",
              "\u001b[37m│\u001b[0m\u001b[37m \u001b[0m\u001b[37m - object_id='fe500fa7-397e-5aed-bbeb-bf64808ba903' collection='SpaceMedResearch'\u001b[0m\u001b[37m                              \u001b[0m\u001b[37m \u001b[0m\u001b[37m│\u001b[0m\n",
              "\u001b[37m│\u001b[0m\u001b[37m \u001b[0m\u001b[37m - object_id='7a58ed26-c684-5489-ada9-5d67f4c8aafc' collection='SpaceMedResearch'\u001b[0m\u001b[37m                              \u001b[0m\u001b[37m \u001b[0m\u001b[37m│\u001b[0m\n",
              "\u001b[37m│\u001b[0m\u001b[37m \u001b[0m\u001b[37m - object_id='baddfb84-e9c8-58da-bf89-88a11df28013' collection='SpaceMedResearch'\u001b[0m\u001b[37m                              \u001b[0m\u001b[37m \u001b[0m\u001b[37m│\u001b[0m\n",
              "\u001b[37m│\u001b[0m\u001b[37m                                                                                                                 \u001b[0m\u001b[37m│\u001b[0m\n",
              "\u001b[37m╰─────────────────────────────────────────────────────────────────────────────────────────────────────────────────╯\u001b[0m\n"
            ],
            "text/html": [
              "<pre style=\"white-space:pre;overflow-x:auto;line-height:normal;font-family:Menlo,'DejaVu Sans Mono',consolas,'Courier New',monospace\"><span style=\"color: #c0c0c0; text-decoration-color: #c0c0c0\">╭──────────────────────────────────────────────────</span> 📚 Sources <span style=\"color: #c0c0c0; text-decoration-color: #c0c0c0\">───────────────────────────────────────────────────╮</span>\n",
              "<span style=\"color: #c0c0c0; text-decoration-color: #c0c0c0\">│                                                                                                                 │</span>\n",
              "<span style=\"color: #c0c0c0; text-decoration-color: #c0c0c0\">│  - object_id='90079f47-00d4-5f18-b61e-d25e2f8ffb39' collection='SpaceMedResearch'                               │</span>\n",
              "<span style=\"color: #c0c0c0; text-decoration-color: #c0c0c0\">│  - object_id='0a6ffb58-aabf-5332-9dc1-f97729c66bc9' collection='SpaceMedResearch'                               │</span>\n",
              "<span style=\"color: #c0c0c0; text-decoration-color: #c0c0c0\">│  - object_id='92b1e99f-2e10-50f5-a7cf-96e01e18882d' collection='SpaceMedResearch'                               │</span>\n",
              "<span style=\"color: #c0c0c0; text-decoration-color: #c0c0c0\">│  - object_id='ed315c46-2ed6-5a88-b60e-bf3cb553e123' collection='SpaceMedResearch'                               │</span>\n",
              "<span style=\"color: #c0c0c0; text-decoration-color: #c0c0c0\">│  - object_id='fe500fa7-397e-5aed-bbeb-bf64808ba903' collection='SpaceMedResearch'                               │</span>\n",
              "<span style=\"color: #c0c0c0; text-decoration-color: #c0c0c0\">│  - object_id='7a58ed26-c684-5489-ada9-5d67f4c8aafc' collection='SpaceMedResearch'                               │</span>\n",
              "<span style=\"color: #c0c0c0; text-decoration-color: #c0c0c0\">│  - object_id='baddfb84-e9c8-58da-bf89-88a11df28013' collection='SpaceMedResearch'                               │</span>\n",
              "<span style=\"color: #c0c0c0; text-decoration-color: #c0c0c0\">│                                                                                                                 │</span>\n",
              "<span style=\"color: #c0c0c0; text-decoration-color: #c0c0c0\">╰─────────────────────────────────────────────────────────────────────────────────────────────────────────────────╯</span>\n",
              "</pre>\n"
            ]
          },
          "metadata": {}
        },
        {
          "output_type": "stream",
          "name": "stdout",
          "text": [
            "\n",
            "\n"
          ]
        },
        {
          "output_type": "display_data",
          "data": {
            "text/plain": [
              "\u001b[3m   📊 Usage Statistics   \u001b[0m\n",
              "┌────────────────┬──────┐\n",
              "│ LLM Requests:  │ 4    │\n",
              "│ Input Tokens:  │ 6587 │\n",
              "│ Output Tokens: │ 553  │\n",
              "│ Total Tokens:  │ 7140 │\n",
              "└────────────────┴──────┘\n"
            ],
            "text/html": [
              "<pre style=\"white-space:pre;overflow-x:auto;line-height:normal;font-family:Menlo,'DejaVu Sans Mono',consolas,'Courier New',monospace\"><span style=\"font-style: italic\">   📊 Usage Statistics   </span>\n",
              "┌────────────────┬──────┐\n",
              "│ LLM Requests:  │ 4    │\n",
              "│ Input Tokens:  │ 6587 │\n",
              "│ Output Tokens: │ 553  │\n",
              "│ Total Tokens:  │ 7140 │\n",
              "└────────────────┴──────┘\n",
              "</pre>\n"
            ]
          },
          "metadata": {}
        },
        {
          "output_type": "display_data",
          "data": {
            "text/plain": [
              "\n",
              "\u001b[1;36mTotal Time Taken:\u001b[0m\u001b[36m \u001b[0m\u001b[1;36m9.\u001b[0m\u001b[36m58s\u001b[0m\n"
            ],
            "text/html": [
              "<pre style=\"white-space:pre;overflow-x:auto;line-height:normal;font-family:Menlo,'DejaVu Sans Mono',consolas,'Courier New',monospace\">\n",
              "<span style=\"color: #008080; text-decoration-color: #008080; font-weight: bold\">Total Time Taken:</span><span style=\"color: #008080; text-decoration-color: #008080\"> </span><span style=\"color: #008080; text-decoration-color: #008080; font-weight: bold\">9.</span><span style=\"color: #008080; text-decoration-color: #008080\">58s</span>\n",
              "</pre>\n"
            ]
          },
          "metadata": {}
        }
      ]
    },
    {
      "cell_type": "code",
      "source": [],
      "metadata": {
        "id": "H2JhCJrfyWO9"
      },
      "execution_count": null,
      "outputs": []
    }
  ]
}